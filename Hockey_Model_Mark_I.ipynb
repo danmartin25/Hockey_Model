{
  "nbformat": 4,
  "nbformat_minor": 0,
  "metadata": {
    "colab": {
      "name": "Hockey Model Mark I.ipynb",
      "provenance": [],
      "collapsed_sections": [],
      "include_colab_link": true
    },
    "kernelspec": {
      "name": "python3",
      "display_name": "Python 3"
    },
    "language_info": {
      "name": "python"
    }
  },
  "cells": [
    {
      "cell_type": "markdown",
      "metadata": {
        "id": "view-in-github",
        "colab_type": "text"
      },
      "source": [
        "<a href=\"https://colab.research.google.com/github/danmartin25/Hockey_Model/blob/main/Hockey_Model_Mark_I.ipynb\" target=\"_parent\"><img src=\"https://colab.research.google.com/assets/colab-badge.svg\" alt=\"Open In Colab\"/></a>"
      ]
    },
    {
      "cell_type": "markdown",
      "source": [
        "**Notes**\n",
        "1. On-ice EV xG+/-\n",
        "\n",
        "2. On-ice EV G+/-\n",
        "\n",
        "3. On-ice PP G+/- above average\n",
        "\n",
        "4. On-ice SH G+/- above average\n",
        "\n",
        "5. GSAx\n",
        "\n",
        "6. Individual points above average (depending on position and role)"
      ],
      "metadata": {
        "id": "hNUCQe2I3t-p"
      }
    },
    {
      "cell_type": "code",
      "source": [
        "# Import Dependencies\n",
        "import pandas as pd\n",
        "import numpy as np\n",
        "import matplotlib.pyplot as plt\n",
        "import seaborn as sns"
      ],
      "metadata": {
        "id": "BUi8GdMO30IC"
      },
      "execution_count": 1,
      "outputs": []
    },
    {
      "cell_type": "code",
      "source": [
        "#Import Even-Strength On-Ice Totals Data\n",
        "skater_EV_totals_raw = pd.read_csv('https://raw.githubusercontent.com/danmartin25/Hockey_Model/main/EV%20On-Ice%20Totals.csv')\n",
        "#print(skater_EV_totals_raw)\n",
        "#skater_EV_totals_raw.head()"
      ],
      "metadata": {
        "id": "XmWW1PSwVGYT"
      },
      "execution_count": 2,
      "outputs": []
    },
    {
      "cell_type": "code",
      "source": [
        "#Restrict Totals Data to GP,TOI,GF%,xGF%,GF,GA,xGF,xGA\n",
        "skater_EV_totals = skater_EV_totals_raw.loc[:,['Player','Season','Team','Position','GP','TOI','GF%','xGF%','GF','GA','xGF','xGA']]\n",
        "#skater_EV_totals"
      ],
      "metadata": {
        "id": "3cTkZNbQVLma"
      },
      "execution_count": 3,
      "outputs": []
    },
    {
      "cell_type": "code",
      "source": [
        "#Add columns for G+/-,xG+/-,G/s,xG/s\n",
        "skater_EV_totals['G+/-'] = skater_EV_totals['GF'] - skater_EV_totals['GA']\n",
        "skater_EV_totals['xG+/-'] = skater_EV_totals['xGF'] - skater_EV_totals['xGA']\n",
        "#skater_EV_totals"
      ],
      "metadata": {
        "id": "cJUBNIoHVT26"
      },
      "execution_count": 4,
      "outputs": []
    },
    {
      "cell_type": "code",
      "source": [
        "#Import PP On-Ice Rates Data\n",
        "skater_PP_totals_raw = pd.read_csv('https://raw.githubusercontent.com/danmartin25/Hockey_Model/main/PP%20On-Ice%20Totals.csv')\n",
        "#print(skater_PP_totals_raw)\n",
        "#skater_PP_totals_raw.head()"
      ],
      "metadata": {
        "id": "WmqnfqP9Veya"
      },
      "execution_count": 5,
      "outputs": []
    },
    {
      "cell_type": "code",
      "source": [
        "#Reduce PP On-Ice Totals Data\n",
        "skater_PP_totals = skater_PP_totals_raw.loc[:,['Player','Season','Team','Position','GP','TOI','GF%','xGF%','GF','GA','xGF','xGA']]\n",
        "#skater_PP_totals"
      ],
      "metadata": {
        "id": "iQDVl4fJiF_i"
      },
      "execution_count": 6,
      "outputs": []
    },
    {
      "cell_type": "code",
      "source": [
        "#Add columns for G+/-,xG+/-,G/s,xG/s\n",
        "skater_PP_totals['G+/-'] = skater_PP_totals['GF'] - skater_PP_totals['GA']\n",
        "skater_PP_totals['xG+/-'] = skater_PP_totals['xGF'] - skater_PP_totals['xGA']\n",
        "#skater_PP_totals"
      ],
      "metadata": {
        "id": "Pw7coixmixmM"
      },
      "execution_count": 7,
      "outputs": []
    },
    {
      "cell_type": "code",
      "source": [
        "#Add column for mean G+/- and xG+/-\n",
        "G_mean = skater_PP_totals['G+/-'].mean()\n",
        "xG_mean = skater_PP_totals['xG+/-'].mean()\n",
        "#G_mean\n",
        "#xG_mean"
      ],
      "metadata": {
        "id": "zM6TvaNwjOEL"
      },
      "execution_count": 8,
      "outputs": []
    },
    {
      "cell_type": "code",
      "source": [
        "#Add column for stats above average for G+/- and xG+/-\n",
        "skater_PP_totals['GAA'] = skater_PP_totals['G+/-'] - G_mean\n",
        "skater_PP_totals['xGAA'] = skater_PP_totals['xG+/-'] - xG_mean\n",
        "#skater_PP_totals"
      ],
      "metadata": {
        "id": "oNoFY5POloku"
      },
      "execution_count": 9,
      "outputs": []
    },
    {
      "cell_type": "code",
      "source": [
        "#Drop columns\n",
        "skater_PP_totals = skater_PP_totals.drop(columns = ['xGF%','xGF','xGA','xG+/-','xGAA'])\n",
        "#skater_PP_totals"
      ],
      "metadata": {
        "id": "B0dz7YIJqrAC"
      },
      "execution_count": 10,
      "outputs": []
    },
    {
      "cell_type": "code",
      "source": [
        "#Import SH On-Ice Totals Data\n",
        "skater_SH_totals_raw = pd.read_csv('https://raw.githubusercontent.com/danmartin25/Hockey_Model/main/SH%20On-Ice%20Totals.csv')\n",
        "#print(skater_SH_totals_raw)\n",
        "#skater_SH_totals_raw.head()"
      ],
      "metadata": {
        "id": "bw7j9RFqojeR"
      },
      "execution_count": 11,
      "outputs": []
    },
    {
      "cell_type": "code",
      "source": [
        "#Reduce SH On-Ice Totals Data\n",
        "skater_SH_totals = skater_SH_totals_raw.loc[:,['Player','Season','Team','Position','GP','TOI','GF%','xGF%','GF','GA','xGF','xGA']]\n",
        "#skater_SH_totals"
      ],
      "metadata": {
        "id": "4mYzlSsRp2KR"
      },
      "execution_count": 12,
      "outputs": []
    },
    {
      "cell_type": "code",
      "source": [
        "#Add columns for G+/-,xG+/-\n",
        "skater_SH_totals['G+/-'] = skater_SH_totals['GF'] - skater_SH_totals['GA']\n",
        "skater_SH_totals['xG+/-'] = skater_SH_totals['xGF'] - skater_SH_totals['xGA']\n",
        "#skater_SH_totals"
      ],
      "metadata": {
        "id": "OY7toaWgqEOy"
      },
      "execution_count": 13,
      "outputs": []
    },
    {
      "cell_type": "code",
      "source": [
        "#Add column for mean G+/- and xG+/-\n",
        "G_mean = skater_SH_totals['G+/-'].mean()\n",
        "xG_mean = skater_SH_totals['xG+/-'].mean()\n",
        "#G_mean\n",
        "#xG_mean"
      ],
      "metadata": {
        "id": "Bju7HddvqTvr"
      },
      "execution_count": 14,
      "outputs": []
    },
    {
      "cell_type": "code",
      "source": [
        "#Add column for stats above average for G+/- and xG+/-\n",
        "skater_SH_totals['GAA'] = skater_SH_totals['G+/-'] - G_mean\n",
        "skater_SH_totals['xGAA'] = skater_SH_totals['xG+/-'] - xG_mean\n",
        "#skater_SH_totals"
      ],
      "metadata": {
        "id": "mrL1ppwLsC8H"
      },
      "execution_count": 15,
      "outputs": []
    },
    {
      "cell_type": "code",
      "source": [
        "skater_SH_totals = skater_SH_totals.drop(columns = ['xGF%','xGF','xGA','xG+/-','xGAA'])\n",
        "#skater_SH_totals"
      ],
      "metadata": {
        "id": "Ntu31okTsSnY"
      },
      "execution_count": 16,
      "outputs": []
    },
    {
      "cell_type": "code",
      "source": [
        "#Import Player Box Stats\n",
        "skater_box_totals_raw = pd.read_csv('https://raw.githubusercontent.com/danmartin25/Hockey_Model/main/Player%20Stats%20Box.csv')\n",
        "#print(skater_box_totals_raw)\n",
        "#skater_box_totals_raw.head()"
      ],
      "metadata": {
        "id": "BaXHcJgmH9KX"
      },
      "execution_count": 17,
      "outputs": []
    },
    {
      "cell_type": "code",
      "source": [
        "#Reduce Data Stats\n",
        "skater_box_totals = skater_box_totals_raw.loc[:,['Player','Season','Team','Position','GP','TOI','G','A1','A2','Points']]\n",
        "#skater_box_totals.head()"
      ],
      "metadata": {
        "id": "vKYmDtckKao9"
      },
      "execution_count": 18,
      "outputs": []
    },
    {
      "cell_type": "code",
      "source": [
        "#Look at positions to get correct F/D average points\n",
        "#print(skater_box_totals['Position'].unique())\n",
        "#print(skater_box_totals.count())\n",
        "\n",
        "forwards_table = skater_box_totals.loc[(skater_box_totals.Position == \"L\") | (skater_box_totals.Position == \"C\") | (skater_box_totals.Position == \"C/L\") | (skater_box_totals.Position == \"R\") | (skater_box_totals.Position == \"L/R\") | (skater_box_totals.Position == \"C/R\")]\n",
        "#forwards_table.head(10)\n",
        "#print(forwards_table.count())\n",
        "\n",
        "defensemen_table = skater_box_totals.loc[(skater_box_totals.Position == \"D\") | (skater_box_totals.Position == \"D/L\")]\n",
        "#defensemen_table.head(10)\n",
        "#print(defensemen_table.count())"
      ],
      "metadata": {
        "id": "U1d8ca9ygGSQ"
      },
      "execution_count": 19,
      "outputs": []
    },
    {
      "cell_type": "code",
      "source": [
        "#Get Mean of Points\n",
        "Points_mean = skater_box_totals['Points'].mean()\n",
        "#print(Points_mean)\n",
        "\n",
        "Forwards_mean = forwards_table['Points'].mean()\n",
        "#print(Forwards_mean)\n",
        "\n",
        "Defensemen_mean = defensemen_table['Points'].mean()\n",
        "#print(Defensemen_mean)"
      ],
      "metadata": {
        "id": "OOnI4shJOgAt"
      },
      "execution_count": 20,
      "outputs": []
    },
    {
      "cell_type": "code",
      "source": [
        "#Get PAA\n",
        "#skater_box_totals['PAA'] = skater_box_totals['Points'] - Points_mean\n",
        "#skater_box_totals\n",
        "\n",
        "#Get PAA for Fwds and Dmen and combine\n",
        "\n",
        "forwards_table['PAA'] = forwards_table['Points'] - Forwards_mean\n",
        "#forwards_table.head(10)\n",
        "\n",
        "defensemen_table['PAA'] = defensemen_table['Points'] - Defensemen_mean\n",
        "#defensemen_table.head(10)\n",
        "\n",
        "\n",
        "#Add dataframes back together and sort again\n",
        "\n",
        "concat_frames = [forwards_table, defensemen_table]\n",
        "skater_box_totals = pd.concat(concat_frames)\n",
        "skater_box_totals = skater_box_totals.sort_index()\n",
        "#skater_box_totals.head(10)"
      ],
      "metadata": {
        "colab": {
          "base_uri": "https://localhost:8080/"
        },
        "id": "Xcp8IH20RZGj",
        "outputId": "80175315-c287-4218-a4a1-825208c2d526"
      },
      "execution_count": 21,
      "outputs": [
        {
          "output_type": "stream",
          "name": "stderr",
          "text": [
            "/usr/local/lib/python3.7/dist-packages/ipykernel_launcher.py:7: SettingWithCopyWarning: \n",
            "A value is trying to be set on a copy of a slice from a DataFrame.\n",
            "Try using .loc[row_indexer,col_indexer] = value instead\n",
            "\n",
            "See the caveats in the documentation: https://pandas.pydata.org/pandas-docs/stable/user_guide/indexing.html#returning-a-view-versus-a-copy\n",
            "  import sys\n",
            "/usr/local/lib/python3.7/dist-packages/ipykernel_launcher.py:10: SettingWithCopyWarning: \n",
            "A value is trying to be set on a copy of a slice from a DataFrame.\n",
            "Try using .loc[row_indexer,col_indexer] = value instead\n",
            "\n",
            "See the caveats in the documentation: https://pandas.pydata.org/pandas-docs/stable/user_guide/indexing.html#returning-a-view-versus-a-copy\n",
            "  # Remove the CWD from sys.path while we load stuff.\n"
          ]
        }
      ]
    },
    {
      "cell_type": "code",
      "source": [
        "combined_player_df = pd.merge(skater_EV_totals, skater_PP_totals, how=\"left\", on=[\"Player\", \"Player\"])\n",
        "#combined_player_df"
      ],
      "metadata": {
        "id": "MGH26r0V-aBu"
      },
      "execution_count": 22,
      "outputs": []
    },
    {
      "cell_type": "code",
      "source": [
        "combined_player_df = combined_player_df.drop(columns = ['GF%_x','GF_x','GA_x','Season_y','Team_y','Position_y','GP_y','GF%_y','GF_y','GA_y','G+/-_y'])\n",
        "#combined_player_df"
      ],
      "metadata": {
        "id": "AnoRVrSbwGgT"
      },
      "execution_count": 23,
      "outputs": []
    },
    {
      "cell_type": "code",
      "source": [
        "#Merge EV,PP,SH tables together\n",
        "full_player_totals = pd.merge(combined_player_df, skater_SH_totals, how=\"left\", on=[\"Player\", \"Player\"])\n",
        "#full_player_totals.head(10)"
      ],
      "metadata": {
        "id": "Sd_CdiVh-6QR"
      },
      "execution_count": 24,
      "outputs": []
    },
    {
      "cell_type": "code",
      "source": [
        "#Clean up data\n",
        "full_player_totals = full_player_totals.drop(columns = ['Season','Team','Position','GP','GF%','GF','GA','G+/-'])\n",
        "#full_player_totals.head(10)"
      ],
      "metadata": {
        "id": "-u0byvYSyo0v"
      },
      "execution_count": 25,
      "outputs": []
    },
    {
      "cell_type": "code",
      "source": [
        "#Merge EV,PP,SH and Points tables together\n",
        "full_player_totals = pd.merge(full_player_totals, skater_box_totals, how=\"left\", on=[\"Player\", \"Player\"])\n",
        "#full_player_totals.head(10)"
      ],
      "metadata": {
        "colab": {
          "base_uri": "https://localhost:8080/"
        },
        "id": "tc-fJxp1sEu4",
        "outputId": "424ac42b-adbb-4091-d06d-c5369e05f4d2"
      },
      "execution_count": 26,
      "outputs": [
        {
          "output_type": "stream",
          "name": "stderr",
          "text": [
            "/usr/local/lib/python3.7/dist-packages/ipykernel_launcher.py:2: FutureWarning: Passing 'suffixes' which cause duplicate columns {'TOI_x'} in the result is deprecated and will raise a MergeError in a future version.\n",
            "  \n"
          ]
        }
      ]
    },
    {
      "cell_type": "code",
      "source": [
        "#Drop Repeated Columns\n",
        "full_player_totals = full_player_totals.drop(columns = ['Season','Team','Position','GP','G','A1','A2'])\n",
        "#full_player_totals.head(10)\n"
      ],
      "metadata": {
        "id": "rwivaMNuBK-X"
      },
      "execution_count": 27,
      "outputs": []
    },
    {
      "cell_type": "code",
      "source": [
        "#Rename Columns\n",
        "full_player_totals = full_player_totals.rename(columns = {'Season_x':'Season','Team_x':'Team','Position_x':'Position','GP_x':'GP','TOI_x':'TOI_EV','G+/-_x':'G_EV','xG+/-':'xG_EV','TOI_x':'TOI_PP','GAA_x':'GAA_PP','TOI_x':'TOI_SH','GAA_y':'GAA_SH','TOI_y':'TOI'})\n",
        "#full_player_totals"
      ],
      "metadata": {
        "id": "cg9jg8NGCr_u"
      },
      "execution_count": 28,
      "outputs": []
    },
    {
      "cell_type": "code",
      "source": [
        "#Replace NaN with 0\n",
        "full_player_totals = full_player_totals.replace(np.NaN, 0)\n",
        "full_player_totals"
      ],
      "metadata": {
        "colab": {
          "base_uri": "https://localhost:8080/",
          "height": 424
        },
        "id": "dz-Y-NlF06nS",
        "outputId": "120dc02b-2dfa-44fc-b4c5-3332fc43f466"
      },
      "execution_count": 29,
      "outputs": [
        {
          "output_type": "execute_result",
          "data": {
            "text/plain": [
              "                  Player Season Team Position  GP   TOI_SH   xGF%    xGF  \\\n",
              "0             A.J. Greer  21-22  N.J        L   9    70.45  58.74   3.16   \n",
              "1           Aaron Ekblad  19-20  FLA        D  67  1220.55  50.83  49.88   \n",
              "2           Aaron Ekblad  19-20  FLA        D  67  1220.55  50.83  49.88   \n",
              "3           Aaron Ekblad  19-20  FLA        D  67  1220.55  50.83  49.88   \n",
              "4           Aaron Ekblad  19-20  FLA        D  67  1220.55  50.83  49.88   \n",
              "...                  ...    ...  ...      ...  ..      ...    ...    ...   \n",
              "29852  Zemgus Girgensons  19-20  BUF        C  69   783.73  49.54  25.39   \n",
              "29853  Zemgus Girgensons  21-22  BUF      C/L  56   668.30  45.90  20.39   \n",
              "29854  Zemgus Girgensons  21-22  BUF      C/L  56   668.30  45.90  20.39   \n",
              "29855  Zemgus Girgensons  21-22  BUF      C/L  56   668.30  45.90  20.39   \n",
              "29856  Zemgus Girgensons  21-22  BUF      C/L  56   668.30  45.90  20.39   \n",
              "\n",
              "         xGA   G_EV  xG_EV    TOI    GAA_PP  TOI_SH     GAA_SH      TOI  \\\n",
              "0       2.22   0.06   0.94   0.00  0.000000    0.00   0.000000    70.70   \n",
              "1      48.26  16.49   1.62  95.90 -2.792102  134.87 -13.441789  1537.92   \n",
              "2      48.26  16.49   1.62  95.90 -2.792102  134.87 -13.441789   878.18   \n",
              "3      48.26  16.49   1.62  95.90 -2.792102  134.87 -13.441789  1519.70   \n",
              "4      48.26  16.49   1.62  95.90 -2.792102   86.47   2.418211  1537.92   \n",
              "...      ...    ...    ...    ...       ...     ...        ...      ...   \n",
              "29852  25.86  -4.34  -0.47  54.37 -5.272102   81.28  -4.731789   828.20   \n",
              "29853  24.03  -5.14  -3.64  54.37 -5.272102  147.87 -13.281789   951.77   \n",
              "29854  24.03  -5.14  -3.64  54.37 -5.272102  147.87 -13.281789   828.20   \n",
              "29855  24.03  -5.14  -3.64  54.37 -5.272102   81.28  -4.731789   951.77   \n",
              "29856  24.03  -5.14  -3.64  54.37 -5.272102   81.28  -4.731789   828.20   \n",
              "\n",
              "       Points        PAA  \n",
              "0           2 -20.633276  \n",
              "1          41  26.890075  \n",
              "2          22   7.890075  \n",
              "3          57  42.890075  \n",
              "4          41  26.890075  \n",
              "...       ...        ...  \n",
              "29852      18  -4.633276  \n",
              "29853      19  -3.633276  \n",
              "29854      18  -4.633276  \n",
              "29855      19  -3.633276  \n",
              "29856      18  -4.633276  \n",
              "\n",
              "[29857 rows x 18 columns]"
            ],
            "text/html": [
              "\n",
              "  <div id=\"df-c33aa42e-b570-475f-97f4-0e84cb50b92d\">\n",
              "    <div class=\"colab-df-container\">\n",
              "      <div>\n",
              "<style scoped>\n",
              "    .dataframe tbody tr th:only-of-type {\n",
              "        vertical-align: middle;\n",
              "    }\n",
              "\n",
              "    .dataframe tbody tr th {\n",
              "        vertical-align: top;\n",
              "    }\n",
              "\n",
              "    .dataframe thead th {\n",
              "        text-align: right;\n",
              "    }\n",
              "</style>\n",
              "<table border=\"1\" class=\"dataframe\">\n",
              "  <thead>\n",
              "    <tr style=\"text-align: right;\">\n",
              "      <th></th>\n",
              "      <th>Player</th>\n",
              "      <th>Season</th>\n",
              "      <th>Team</th>\n",
              "      <th>Position</th>\n",
              "      <th>GP</th>\n",
              "      <th>TOI_SH</th>\n",
              "      <th>xGF%</th>\n",
              "      <th>xGF</th>\n",
              "      <th>xGA</th>\n",
              "      <th>G_EV</th>\n",
              "      <th>xG_EV</th>\n",
              "      <th>TOI</th>\n",
              "      <th>GAA_PP</th>\n",
              "      <th>TOI_SH</th>\n",
              "      <th>GAA_SH</th>\n",
              "      <th>TOI</th>\n",
              "      <th>Points</th>\n",
              "      <th>PAA</th>\n",
              "    </tr>\n",
              "  </thead>\n",
              "  <tbody>\n",
              "    <tr>\n",
              "      <th>0</th>\n",
              "      <td>A.J. Greer</td>\n",
              "      <td>21-22</td>\n",
              "      <td>N.J</td>\n",
              "      <td>L</td>\n",
              "      <td>9</td>\n",
              "      <td>70.45</td>\n",
              "      <td>58.74</td>\n",
              "      <td>3.16</td>\n",
              "      <td>2.22</td>\n",
              "      <td>0.06</td>\n",
              "      <td>0.94</td>\n",
              "      <td>0.00</td>\n",
              "      <td>0.000000</td>\n",
              "      <td>0.00</td>\n",
              "      <td>0.000000</td>\n",
              "      <td>70.70</td>\n",
              "      <td>2</td>\n",
              "      <td>-20.633276</td>\n",
              "    </tr>\n",
              "    <tr>\n",
              "      <th>1</th>\n",
              "      <td>Aaron Ekblad</td>\n",
              "      <td>19-20</td>\n",
              "      <td>FLA</td>\n",
              "      <td>D</td>\n",
              "      <td>67</td>\n",
              "      <td>1220.55</td>\n",
              "      <td>50.83</td>\n",
              "      <td>49.88</td>\n",
              "      <td>48.26</td>\n",
              "      <td>16.49</td>\n",
              "      <td>1.62</td>\n",
              "      <td>95.90</td>\n",
              "      <td>-2.792102</td>\n",
              "      <td>134.87</td>\n",
              "      <td>-13.441789</td>\n",
              "      <td>1537.92</td>\n",
              "      <td>41</td>\n",
              "      <td>26.890075</td>\n",
              "    </tr>\n",
              "    <tr>\n",
              "      <th>2</th>\n",
              "      <td>Aaron Ekblad</td>\n",
              "      <td>19-20</td>\n",
              "      <td>FLA</td>\n",
              "      <td>D</td>\n",
              "      <td>67</td>\n",
              "      <td>1220.55</td>\n",
              "      <td>50.83</td>\n",
              "      <td>49.88</td>\n",
              "      <td>48.26</td>\n",
              "      <td>16.49</td>\n",
              "      <td>1.62</td>\n",
              "      <td>95.90</td>\n",
              "      <td>-2.792102</td>\n",
              "      <td>134.87</td>\n",
              "      <td>-13.441789</td>\n",
              "      <td>878.18</td>\n",
              "      <td>22</td>\n",
              "      <td>7.890075</td>\n",
              "    </tr>\n",
              "    <tr>\n",
              "      <th>3</th>\n",
              "      <td>Aaron Ekblad</td>\n",
              "      <td>19-20</td>\n",
              "      <td>FLA</td>\n",
              "      <td>D</td>\n",
              "      <td>67</td>\n",
              "      <td>1220.55</td>\n",
              "      <td>50.83</td>\n",
              "      <td>49.88</td>\n",
              "      <td>48.26</td>\n",
              "      <td>16.49</td>\n",
              "      <td>1.62</td>\n",
              "      <td>95.90</td>\n",
              "      <td>-2.792102</td>\n",
              "      <td>134.87</td>\n",
              "      <td>-13.441789</td>\n",
              "      <td>1519.70</td>\n",
              "      <td>57</td>\n",
              "      <td>42.890075</td>\n",
              "    </tr>\n",
              "    <tr>\n",
              "      <th>4</th>\n",
              "      <td>Aaron Ekblad</td>\n",
              "      <td>19-20</td>\n",
              "      <td>FLA</td>\n",
              "      <td>D</td>\n",
              "      <td>67</td>\n",
              "      <td>1220.55</td>\n",
              "      <td>50.83</td>\n",
              "      <td>49.88</td>\n",
              "      <td>48.26</td>\n",
              "      <td>16.49</td>\n",
              "      <td>1.62</td>\n",
              "      <td>95.90</td>\n",
              "      <td>-2.792102</td>\n",
              "      <td>86.47</td>\n",
              "      <td>2.418211</td>\n",
              "      <td>1537.92</td>\n",
              "      <td>41</td>\n",
              "      <td>26.890075</td>\n",
              "    </tr>\n",
              "    <tr>\n",
              "      <th>...</th>\n",
              "      <td>...</td>\n",
              "      <td>...</td>\n",
              "      <td>...</td>\n",
              "      <td>...</td>\n",
              "      <td>...</td>\n",
              "      <td>...</td>\n",
              "      <td>...</td>\n",
              "      <td>...</td>\n",
              "      <td>...</td>\n",
              "      <td>...</td>\n",
              "      <td>...</td>\n",
              "      <td>...</td>\n",
              "      <td>...</td>\n",
              "      <td>...</td>\n",
              "      <td>...</td>\n",
              "      <td>...</td>\n",
              "      <td>...</td>\n",
              "      <td>...</td>\n",
              "    </tr>\n",
              "    <tr>\n",
              "      <th>29852</th>\n",
              "      <td>Zemgus Girgensons</td>\n",
              "      <td>19-20</td>\n",
              "      <td>BUF</td>\n",
              "      <td>C</td>\n",
              "      <td>69</td>\n",
              "      <td>783.73</td>\n",
              "      <td>49.54</td>\n",
              "      <td>25.39</td>\n",
              "      <td>25.86</td>\n",
              "      <td>-4.34</td>\n",
              "      <td>-0.47</td>\n",
              "      <td>54.37</td>\n",
              "      <td>-5.272102</td>\n",
              "      <td>81.28</td>\n",
              "      <td>-4.731789</td>\n",
              "      <td>828.20</td>\n",
              "      <td>18</td>\n",
              "      <td>-4.633276</td>\n",
              "    </tr>\n",
              "    <tr>\n",
              "      <th>29853</th>\n",
              "      <td>Zemgus Girgensons</td>\n",
              "      <td>21-22</td>\n",
              "      <td>BUF</td>\n",
              "      <td>C/L</td>\n",
              "      <td>56</td>\n",
              "      <td>668.30</td>\n",
              "      <td>45.90</td>\n",
              "      <td>20.39</td>\n",
              "      <td>24.03</td>\n",
              "      <td>-5.14</td>\n",
              "      <td>-3.64</td>\n",
              "      <td>54.37</td>\n",
              "      <td>-5.272102</td>\n",
              "      <td>147.87</td>\n",
              "      <td>-13.281789</td>\n",
              "      <td>951.77</td>\n",
              "      <td>19</td>\n",
              "      <td>-3.633276</td>\n",
              "    </tr>\n",
              "    <tr>\n",
              "      <th>29854</th>\n",
              "      <td>Zemgus Girgensons</td>\n",
              "      <td>21-22</td>\n",
              "      <td>BUF</td>\n",
              "      <td>C/L</td>\n",
              "      <td>56</td>\n",
              "      <td>668.30</td>\n",
              "      <td>45.90</td>\n",
              "      <td>20.39</td>\n",
              "      <td>24.03</td>\n",
              "      <td>-5.14</td>\n",
              "      <td>-3.64</td>\n",
              "      <td>54.37</td>\n",
              "      <td>-5.272102</td>\n",
              "      <td>147.87</td>\n",
              "      <td>-13.281789</td>\n",
              "      <td>828.20</td>\n",
              "      <td>18</td>\n",
              "      <td>-4.633276</td>\n",
              "    </tr>\n",
              "    <tr>\n",
              "      <th>29855</th>\n",
              "      <td>Zemgus Girgensons</td>\n",
              "      <td>21-22</td>\n",
              "      <td>BUF</td>\n",
              "      <td>C/L</td>\n",
              "      <td>56</td>\n",
              "      <td>668.30</td>\n",
              "      <td>45.90</td>\n",
              "      <td>20.39</td>\n",
              "      <td>24.03</td>\n",
              "      <td>-5.14</td>\n",
              "      <td>-3.64</td>\n",
              "      <td>54.37</td>\n",
              "      <td>-5.272102</td>\n",
              "      <td>81.28</td>\n",
              "      <td>-4.731789</td>\n",
              "      <td>951.77</td>\n",
              "      <td>19</td>\n",
              "      <td>-3.633276</td>\n",
              "    </tr>\n",
              "    <tr>\n",
              "      <th>29856</th>\n",
              "      <td>Zemgus Girgensons</td>\n",
              "      <td>21-22</td>\n",
              "      <td>BUF</td>\n",
              "      <td>C/L</td>\n",
              "      <td>56</td>\n",
              "      <td>668.30</td>\n",
              "      <td>45.90</td>\n",
              "      <td>20.39</td>\n",
              "      <td>24.03</td>\n",
              "      <td>-5.14</td>\n",
              "      <td>-3.64</td>\n",
              "      <td>54.37</td>\n",
              "      <td>-5.272102</td>\n",
              "      <td>81.28</td>\n",
              "      <td>-4.731789</td>\n",
              "      <td>828.20</td>\n",
              "      <td>18</td>\n",
              "      <td>-4.633276</td>\n",
              "    </tr>\n",
              "  </tbody>\n",
              "</table>\n",
              "<p>29857 rows × 18 columns</p>\n",
              "</div>\n",
              "      <button class=\"colab-df-convert\" onclick=\"convertToInteractive('df-c33aa42e-b570-475f-97f4-0e84cb50b92d')\"\n",
              "              title=\"Convert this dataframe to an interactive table.\"\n",
              "              style=\"display:none;\">\n",
              "        \n",
              "  <svg xmlns=\"http://www.w3.org/2000/svg\" height=\"24px\"viewBox=\"0 0 24 24\"\n",
              "       width=\"24px\">\n",
              "    <path d=\"M0 0h24v24H0V0z\" fill=\"none\"/>\n",
              "    <path d=\"M18.56 5.44l.94 2.06.94-2.06 2.06-.94-2.06-.94-.94-2.06-.94 2.06-2.06.94zm-11 1L8.5 8.5l.94-2.06 2.06-.94-2.06-.94L8.5 2.5l-.94 2.06-2.06.94zm10 10l.94 2.06.94-2.06 2.06-.94-2.06-.94-.94-2.06-.94 2.06-2.06.94z\"/><path d=\"M17.41 7.96l-1.37-1.37c-.4-.4-.92-.59-1.43-.59-.52 0-1.04.2-1.43.59L10.3 9.45l-7.72 7.72c-.78.78-.78 2.05 0 2.83L4 21.41c.39.39.9.59 1.41.59.51 0 1.02-.2 1.41-.59l7.78-7.78 2.81-2.81c.8-.78.8-2.07 0-2.86zM5.41 20L4 18.59l7.72-7.72 1.47 1.35L5.41 20z\"/>\n",
              "  </svg>\n",
              "      </button>\n",
              "      \n",
              "  <style>\n",
              "    .colab-df-container {\n",
              "      display:flex;\n",
              "      flex-wrap:wrap;\n",
              "      gap: 12px;\n",
              "    }\n",
              "\n",
              "    .colab-df-convert {\n",
              "      background-color: #E8F0FE;\n",
              "      border: none;\n",
              "      border-radius: 50%;\n",
              "      cursor: pointer;\n",
              "      display: none;\n",
              "      fill: #1967D2;\n",
              "      height: 32px;\n",
              "      padding: 0 0 0 0;\n",
              "      width: 32px;\n",
              "    }\n",
              "\n",
              "    .colab-df-convert:hover {\n",
              "      background-color: #E2EBFA;\n",
              "      box-shadow: 0px 1px 2px rgba(60, 64, 67, 0.3), 0px 1px 3px 1px rgba(60, 64, 67, 0.15);\n",
              "      fill: #174EA6;\n",
              "    }\n",
              "\n",
              "    [theme=dark] .colab-df-convert {\n",
              "      background-color: #3B4455;\n",
              "      fill: #D2E3FC;\n",
              "    }\n",
              "\n",
              "    [theme=dark] .colab-df-convert:hover {\n",
              "      background-color: #434B5C;\n",
              "      box-shadow: 0px 1px 3px 1px rgba(0, 0, 0, 0.15);\n",
              "      filter: drop-shadow(0px 1px 2px rgba(0, 0, 0, 0.3));\n",
              "      fill: #FFFFFF;\n",
              "    }\n",
              "  </style>\n",
              "\n",
              "      <script>\n",
              "        const buttonEl =\n",
              "          document.querySelector('#df-c33aa42e-b570-475f-97f4-0e84cb50b92d button.colab-df-convert');\n",
              "        buttonEl.style.display =\n",
              "          google.colab.kernel.accessAllowed ? 'block' : 'none';\n",
              "\n",
              "        async function convertToInteractive(key) {\n",
              "          const element = document.querySelector('#df-c33aa42e-b570-475f-97f4-0e84cb50b92d');\n",
              "          const dataTable =\n",
              "            await google.colab.kernel.invokeFunction('convertToInteractive',\n",
              "                                                     [key], {});\n",
              "          if (!dataTable) return;\n",
              "\n",
              "          const docLinkHtml = 'Like what you see? Visit the ' +\n",
              "            '<a target=\"_blank\" href=https://colab.research.google.com/notebooks/data_table.ipynb>data table notebook</a>'\n",
              "            + ' to learn more about interactive tables.';\n",
              "          element.innerHTML = '';\n",
              "          dataTable['output_type'] = 'display_data';\n",
              "          await google.colab.output.renderOutput(dataTable, element);\n",
              "          const docLink = document.createElement('div');\n",
              "          docLink.innerHTML = docLinkHtml;\n",
              "          element.appendChild(docLink);\n",
              "        }\n",
              "      </script>\n",
              "    </div>\n",
              "  </div>\n",
              "  "
            ]
          },
          "metadata": {},
          "execution_count": 29
        }
      ]
    },
    {
      "cell_type": "code",
      "source": [
        "#Import Goalie Data\n",
        "goalie_stats_raw = pd.read_csv('https://raw.githubusercontent.com/danmartin25/Hockey_Model/main/Goalie%20Stats.csv')\n",
        "#print(goalie_stats_raw)\n",
        "#goalie_stats_raw.head()"
      ],
      "metadata": {
        "id": "fggig3SI1Zig"
      },
      "execution_count": 30,
      "outputs": []
    },
    {
      "cell_type": "code",
      "source": [
        "#Reduce Goalie Stats\n",
        "goalie_stats = goalie_stats_raw.loc[:,['Player','Season','Team','Position','GP','TOI','GA','Sv%','GSAx']]\n",
        "goalie_stats.head()"
      ],
      "metadata": {
        "colab": {
          "base_uri": "https://localhost:8080/",
          "height": 206
        },
        "id": "kQa9H0cG_VOl",
        "outputId": "a6a4c3de-a19c-46bc-80fe-f5f2de148376"
      },
      "execution_count": 31,
      "outputs": [
        {
          "output_type": "execute_result",
          "data": {
            "text/plain": [
              "        Player Season Team Position  GP      TOI     GA    Sv%  GSAx\n",
              "0   Aaron Dell  19-20  S.J        G  33  1834.23  91.06  90.84  1.10\n",
              "1   Aaron Dell  20-21  N.J        G   7   319.17  21.45  86.01 -9.54\n",
              "2   Aaron Dell  21-22  BUF        G  12   565.38  37.95  89.36 -7.35\n",
              "3   Adam Huska  21-22  NYR        G   1    59.70   7.53  82.31 -4.03\n",
              "4  Adam Werner  19-20  COL        G   2    87.83   4.85  91.05 -1.09"
            ],
            "text/html": [
              "\n",
              "  <div id=\"df-1936382b-ae0c-4326-bb27-f37b9e02211d\">\n",
              "    <div class=\"colab-df-container\">\n",
              "      <div>\n",
              "<style scoped>\n",
              "    .dataframe tbody tr th:only-of-type {\n",
              "        vertical-align: middle;\n",
              "    }\n",
              "\n",
              "    .dataframe tbody tr th {\n",
              "        vertical-align: top;\n",
              "    }\n",
              "\n",
              "    .dataframe thead th {\n",
              "        text-align: right;\n",
              "    }\n",
              "</style>\n",
              "<table border=\"1\" class=\"dataframe\">\n",
              "  <thead>\n",
              "    <tr style=\"text-align: right;\">\n",
              "      <th></th>\n",
              "      <th>Player</th>\n",
              "      <th>Season</th>\n",
              "      <th>Team</th>\n",
              "      <th>Position</th>\n",
              "      <th>GP</th>\n",
              "      <th>TOI</th>\n",
              "      <th>GA</th>\n",
              "      <th>Sv%</th>\n",
              "      <th>GSAx</th>\n",
              "    </tr>\n",
              "  </thead>\n",
              "  <tbody>\n",
              "    <tr>\n",
              "      <th>0</th>\n",
              "      <td>Aaron Dell</td>\n",
              "      <td>19-20</td>\n",
              "      <td>S.J</td>\n",
              "      <td>G</td>\n",
              "      <td>33</td>\n",
              "      <td>1834.23</td>\n",
              "      <td>91.06</td>\n",
              "      <td>90.84</td>\n",
              "      <td>1.10</td>\n",
              "    </tr>\n",
              "    <tr>\n",
              "      <th>1</th>\n",
              "      <td>Aaron Dell</td>\n",
              "      <td>20-21</td>\n",
              "      <td>N.J</td>\n",
              "      <td>G</td>\n",
              "      <td>7</td>\n",
              "      <td>319.17</td>\n",
              "      <td>21.45</td>\n",
              "      <td>86.01</td>\n",
              "      <td>-9.54</td>\n",
              "    </tr>\n",
              "    <tr>\n",
              "      <th>2</th>\n",
              "      <td>Aaron Dell</td>\n",
              "      <td>21-22</td>\n",
              "      <td>BUF</td>\n",
              "      <td>G</td>\n",
              "      <td>12</td>\n",
              "      <td>565.38</td>\n",
              "      <td>37.95</td>\n",
              "      <td>89.36</td>\n",
              "      <td>-7.35</td>\n",
              "    </tr>\n",
              "    <tr>\n",
              "      <th>3</th>\n",
              "      <td>Adam Huska</td>\n",
              "      <td>21-22</td>\n",
              "      <td>NYR</td>\n",
              "      <td>G</td>\n",
              "      <td>1</td>\n",
              "      <td>59.70</td>\n",
              "      <td>7.53</td>\n",
              "      <td>82.31</td>\n",
              "      <td>-4.03</td>\n",
              "    </tr>\n",
              "    <tr>\n",
              "      <th>4</th>\n",
              "      <td>Adam Werner</td>\n",
              "      <td>19-20</td>\n",
              "      <td>COL</td>\n",
              "      <td>G</td>\n",
              "      <td>2</td>\n",
              "      <td>87.83</td>\n",
              "      <td>4.85</td>\n",
              "      <td>91.05</td>\n",
              "      <td>-1.09</td>\n",
              "    </tr>\n",
              "  </tbody>\n",
              "</table>\n",
              "</div>\n",
              "      <button class=\"colab-df-convert\" onclick=\"convertToInteractive('df-1936382b-ae0c-4326-bb27-f37b9e02211d')\"\n",
              "              title=\"Convert this dataframe to an interactive table.\"\n",
              "              style=\"display:none;\">\n",
              "        \n",
              "  <svg xmlns=\"http://www.w3.org/2000/svg\" height=\"24px\"viewBox=\"0 0 24 24\"\n",
              "       width=\"24px\">\n",
              "    <path d=\"M0 0h24v24H0V0z\" fill=\"none\"/>\n",
              "    <path d=\"M18.56 5.44l.94 2.06.94-2.06 2.06-.94-2.06-.94-.94-2.06-.94 2.06-2.06.94zm-11 1L8.5 8.5l.94-2.06 2.06-.94-2.06-.94L8.5 2.5l-.94 2.06-2.06.94zm10 10l.94 2.06.94-2.06 2.06-.94-2.06-.94-.94-2.06-.94 2.06-2.06.94z\"/><path d=\"M17.41 7.96l-1.37-1.37c-.4-.4-.92-.59-1.43-.59-.52 0-1.04.2-1.43.59L10.3 9.45l-7.72 7.72c-.78.78-.78 2.05 0 2.83L4 21.41c.39.39.9.59 1.41.59.51 0 1.02-.2 1.41-.59l7.78-7.78 2.81-2.81c.8-.78.8-2.07 0-2.86zM5.41 20L4 18.59l7.72-7.72 1.47 1.35L5.41 20z\"/>\n",
              "  </svg>\n",
              "      </button>\n",
              "      \n",
              "  <style>\n",
              "    .colab-df-container {\n",
              "      display:flex;\n",
              "      flex-wrap:wrap;\n",
              "      gap: 12px;\n",
              "    }\n",
              "\n",
              "    .colab-df-convert {\n",
              "      background-color: #E8F0FE;\n",
              "      border: none;\n",
              "      border-radius: 50%;\n",
              "      cursor: pointer;\n",
              "      display: none;\n",
              "      fill: #1967D2;\n",
              "      height: 32px;\n",
              "      padding: 0 0 0 0;\n",
              "      width: 32px;\n",
              "    }\n",
              "\n",
              "    .colab-df-convert:hover {\n",
              "      background-color: #E2EBFA;\n",
              "      box-shadow: 0px 1px 2px rgba(60, 64, 67, 0.3), 0px 1px 3px 1px rgba(60, 64, 67, 0.15);\n",
              "      fill: #174EA6;\n",
              "    }\n",
              "\n",
              "    [theme=dark] .colab-df-convert {\n",
              "      background-color: #3B4455;\n",
              "      fill: #D2E3FC;\n",
              "    }\n",
              "\n",
              "    [theme=dark] .colab-df-convert:hover {\n",
              "      background-color: #434B5C;\n",
              "      box-shadow: 0px 1px 3px 1px rgba(0, 0, 0, 0.15);\n",
              "      filter: drop-shadow(0px 1px 2px rgba(0, 0, 0, 0.3));\n",
              "      fill: #FFFFFF;\n",
              "    }\n",
              "  </style>\n",
              "\n",
              "      <script>\n",
              "        const buttonEl =\n",
              "          document.querySelector('#df-1936382b-ae0c-4326-bb27-f37b9e02211d button.colab-df-convert');\n",
              "        buttonEl.style.display =\n",
              "          google.colab.kernel.accessAllowed ? 'block' : 'none';\n",
              "\n",
              "        async function convertToInteractive(key) {\n",
              "          const element = document.querySelector('#df-1936382b-ae0c-4326-bb27-f37b9e02211d');\n",
              "          const dataTable =\n",
              "            await google.colab.kernel.invokeFunction('convertToInteractive',\n",
              "                                                     [key], {});\n",
              "          if (!dataTable) return;\n",
              "\n",
              "          const docLinkHtml = 'Like what you see? Visit the ' +\n",
              "            '<a target=\"_blank\" href=https://colab.research.google.com/notebooks/data_table.ipynb>data table notebook</a>'\n",
              "            + ' to learn more about interactive tables.';\n",
              "          element.innerHTML = '';\n",
              "          dataTable['output_type'] = 'display_data';\n",
              "          await google.colab.output.renderOutput(dataTable, element);\n",
              "          const docLink = document.createElement('div');\n",
              "          docLink.innerHTML = docLinkHtml;\n",
              "          element.appendChild(docLink);\n",
              "        }\n",
              "      </script>\n",
              "    </div>\n",
              "  </div>\n",
              "  "
            ]
          },
          "metadata": {},
          "execution_count": 31
        }
      ]
    },
    {
      "cell_type": "code",
      "source": [
        "#skater_PP_totals_raw = pd.read_csv('https://raw.githubusercontent.com/danmartin25/Hockey_Model/main/PP%20On-Ice%20Rates.csv')\n",
        "#print(skater_PP_rates_raw)\n",
        "#skater_PP_rates_raw.head()"
      ],
      "metadata": {
        "id": "V97tFeoQhCcV"
      },
      "execution_count": 32,
      "outputs": []
    },
    {
      "cell_type": "markdown",
      "source": [
        "**Stuff to Do Next - (have no more time, so quick thoughts that I have not checked, like the next one would be so easy to check if I had another 5 mins)**"
      ],
      "metadata": {
        "id": "7WEVx4JZwjUr"
      }
    },
    {
      "cell_type": "code",
      "source": [
        "#Are these right? duplicate naming issues for \"TOI_SH\" and no PP?\n",
        "full_player_totals.columns"
      ],
      "metadata": {
        "id": "aPdfhozmwnRl",
        "outputId": "ac43abab-479e-43a2-896d-d3033d730e84",
        "colab": {
          "base_uri": "https://localhost:8080/"
        }
      },
      "execution_count": 33,
      "outputs": [
        {
          "output_type": "execute_result",
          "data": {
            "text/plain": [
              "Index(['Player', 'Season', 'Team', 'Position', 'GP', 'TOI_SH', 'xGF%', 'xGF',\n",
              "       'xGA', 'G_EV', 'xG_EV', 'TOI', 'GAA_PP', 'TOI_SH', 'GAA_SH', 'TOI',\n",
              "       'Points', 'PAA'],\n",
              "      dtype='object')"
            ]
          },
          "metadata": {},
          "execution_count": 33
        }
      ]
    },
    {
      "cell_type": "markdown",
      "source": [
        "Need to create a dataframe for each team. Use the loc function on player table first to get all the players for one team. Then do the same thing with goalies. We will probably need to keep them seperate tables since they do not have similar variables\n",
        "\n",
        "Not necessary at this stage but eventually we are going to want to consolidate these code blocks. Ex, the code to create all of the team rosters should be in one block with no output. For now you can do 64 blocks (32 for skaters, 32 for goalies) and show output so we can see if there are any errors, but once we get past that stage we will comment out the output and put it all in one block. If we ever need to go back in check you just take out the '#' and run the code to see the output."
      ],
      "metadata": {
        "id": "5hzBsoEPxWBj"
      }
    },
    {
      "cell_type": "markdown",
      "source": [
        "Need to add a column for 'status'. I am thinking the two states we use are 'active' and 'inactive' for the starting lineups. Will be 18 skaters and 1 goalie when we update daily but doesnt matter now. Should put this in before all of the loc functions so it shows up for the team dataframes. Note: will have to be added to both the full_player_totals dataframe and the goalie_stats dataframe."
      ],
      "metadata": {
        "id": "hxkMS58ix0Iz"
      }
    },
    {
      "cell_type": "markdown",
      "source": [
        "Add folder in githib for the csv's, update github links in code to pull data"
      ],
      "metadata": {
        "id": "I6NyHdz5zMqj"
      }
    }
  ]
}