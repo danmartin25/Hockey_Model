{
  "nbformat": 4,
  "nbformat_minor": 0,
  "metadata": {
    "colab": {
      "name": "Hockey Model Mark I.ipynb",
      "provenance": [],
      "collapsed_sections": [],
      "include_colab_link": true
    },
    "kernelspec": {
      "name": "python3",
      "display_name": "Python 3"
    },
    "language_info": {
      "name": "python"
    }
  },
  "cells": [
    {
      "cell_type": "markdown",
      "metadata": {
        "id": "view-in-github",
        "colab_type": "text"
      },
      "source": [
        "<a href=\"https://colab.research.google.com/github/danmartin25/Hockey_Model/blob/main/Hockey_Model_Mark_I.ipynb\" target=\"_parent\"><img src=\"https://colab.research.google.com/assets/colab-badge.svg\" alt=\"Open In Colab\"/></a>"
      ]
    },
    {
      "cell_type": "markdown",
      "source": [
        "**Notes**\n",
        "1. On-ice EV xG+/-\n",
        "\n",
        "2. On-ice EV G+/-\n",
        "\n",
        "3. On-ice PP G+/- above average\n",
        "\n",
        "4. On-ice SH G+/- above average\n",
        "\n",
        "5. GSAx\n",
        "\n",
        "6. Individual points above average (depending on position and role)"
      ],
      "metadata": {
        "id": "hNUCQe2I3t-p"
      }
    },
    {
      "cell_type": "code",
      "source": [
        "# Import Dependencies\n",
        "import pandas as pd\n",
        "import numpy as np\n",
        "import matplotlib.pyplot as plt\n",
        "import seaborn as sns"
      ],
      "metadata": {
        "id": "BUi8GdMO30IC"
      },
      "execution_count": 1,
      "outputs": []
    },
    {
      "cell_type": "code",
      "source": [
        "#Import Even-Strength On-Ice Totals Data\n",
        "skater_EV_totals_raw = pd.read_csv('https://raw.githubusercontent.com/danmartin25/Hockey_Model/main/EV%20On-Ice%20Totals.csv')\n",
        "#print(skater_EV_totals_raw)\n",
        "#skater_EV_totals_raw.head()"
      ],
      "metadata": {
        "id": "XmWW1PSwVGYT"
      },
      "execution_count": 2,
      "outputs": []
    },
    {
      "cell_type": "code",
      "source": [
        "#Restrict Totals Data to GP,TOI,GF%,xGF%,GF,GA,xGF,xGA\n",
        "skater_EV_totals = skater_EV_totals_raw.loc[:,['Player','Season','Team','Position','GP','TOI','GF%','xGF%','GF','GA','xGF','xGA']]\n",
        "#skater_EV_totals"
      ],
      "metadata": {
        "id": "3cTkZNbQVLma"
      },
      "execution_count": 3,
      "outputs": []
    },
    {
      "cell_type": "code",
      "source": [
        "#Add columns for G+/-,xG+/-\n",
        "skater_EV_totals['G+/-'] = skater_EV_totals['GF'] - skater_EV_totals['GA']\n",
        "skater_EV_totals['xG+/-'] = skater_EV_totals['xGF'] - skater_EV_totals['xGA']\n",
        "#skater_EV_totals"
      ],
      "metadata": {
        "id": "cJUBNIoHVT26"
      },
      "execution_count": 4,
      "outputs": []
    },
    {
      "cell_type": "code",
      "source": [
        "skater_EV_totals = skater_EV_totals.drop(columns = ['GF%','xGF%','GF','GA','xGF','xGA'])\n",
        "#skater_EV_totals"
      ],
      "metadata": {
        "id": "HrK_NF6Er3Jj"
      },
      "execution_count": 5,
      "outputs": []
    },
    {
      "cell_type": "code",
      "source": [
        "skater_EV_totals = skater_EV_totals.rename(columns = {'Position':'Position_EV','GP':'GP_EV','TOI':'TOI_EV','G+/-':'G_EV','xG+/-':'xG_EV'})\n",
        "#skater_EV_totals"
      ],
      "metadata": {
        "id": "GKEiv8_qsC6U"
      },
      "execution_count": 6,
      "outputs": []
    },
    {
      "cell_type": "code",
      "source": [
        "#skater_EV_totals.loc[skater_EV_totals.Player==\"Andrew Cogliano\"]"
      ],
      "metadata": {
        "id": "pevGPYE8meJh"
      },
      "execution_count": 7,
      "outputs": []
    },
    {
      "cell_type": "code",
      "source": [
        "#Import PP On-Ice Rates Data\n",
        "skater_PP_totals_raw = pd.read_csv('https://raw.githubusercontent.com/danmartin25/Hockey_Model/main/PP%20On-Ice%20Totals.csv')\n",
        "#print(skater_PP_totals_raw)\n",
        "#skater_PP_totals_raw.head()"
      ],
      "metadata": {
        "id": "WmqnfqP9Veya"
      },
      "execution_count": 8,
      "outputs": []
    },
    {
      "cell_type": "code",
      "source": [
        "#Reduce PP On-Ice Totals Data\n",
        "skater_PP_totals = skater_PP_totals_raw.loc[:,['Player','Season','Team','Position','GP','TOI','GF%','xGF%','GF','GA','xGF','xGA']]\n",
        "#skater_PP_totals"
      ],
      "metadata": {
        "id": "iQDVl4fJiF_i"
      },
      "execution_count": 9,
      "outputs": []
    },
    {
      "cell_type": "code",
      "source": [
        "#Add columns for G+/-,xG+/-,G/s,xG/s\n",
        "skater_PP_totals['G+/-'] = skater_PP_totals['GF'] - skater_PP_totals['GA']\n",
        "skater_PP_totals['xG+/-'] = skater_PP_totals['xGF'] - skater_PP_totals['xGA']\n",
        "#skater_PP_totals"
      ],
      "metadata": {
        "id": "Pw7coixmixmM"
      },
      "execution_count": 10,
      "outputs": []
    },
    {
      "cell_type": "code",
      "source": [
        "#Add column for mean G+/- and xG+/-\n",
        "G_mean = skater_PP_totals['G+/-'].mean()\n",
        "xG_mean = skater_PP_totals['xG+/-'].mean()\n",
        "#G_mean\n",
        "#xG_mean"
      ],
      "metadata": {
        "id": "zM6TvaNwjOEL"
      },
      "execution_count": 11,
      "outputs": []
    },
    {
      "cell_type": "code",
      "source": [
        "#Add column for stats above average for G+/- and xG+/-\n",
        "skater_PP_totals['GAA'] = skater_PP_totals['G+/-'] - G_mean\n",
        "skater_PP_totals['xGAA'] = skater_PP_totals['xG+/-'] - xG_mean\n",
        "#skater_PP_totals"
      ],
      "metadata": {
        "id": "oNoFY5POloku"
      },
      "execution_count": 12,
      "outputs": []
    },
    {
      "cell_type": "code",
      "source": [
        "#Drop columns\n",
        "skater_PP_totals = skater_PP_totals.drop(columns = ['GF%','xGF%','GF','GA','xGF','xGA','G+/-','xG+/-','xGAA'])\n",
        "#skater_PP_totals"
      ],
      "metadata": {
        "id": "B0dz7YIJqrAC"
      },
      "execution_count": 13,
      "outputs": []
    },
    {
      "cell_type": "code",
      "source": [
        "skater_PP_totals = skater_PP_totals.rename(columns = {'Position':'Position_PP','GP':'GP_PP','TOI':'TOI_PP','GAA':'GAA_PP'})\n",
        "#skater_PP_totals"
      ],
      "metadata": {
        "id": "Dl4Zy0f9uVJ5"
      },
      "execution_count": 14,
      "outputs": []
    },
    {
      "cell_type": "code",
      "source": [
        "#skater_PP_totals.loc[skater_PP_totals.Player=='Andrew Cogliano']"
      ],
      "metadata": {
        "id": "BZDgut1hnPjr"
      },
      "execution_count": 15,
      "outputs": []
    },
    {
      "cell_type": "code",
      "source": [
        "#Import SH On-Ice Totals Data\n",
        "skater_SH_totals_raw = pd.read_csv('https://raw.githubusercontent.com/danmartin25/Hockey_Model/main/SH%20On-Ice%20Totals.csv')\n",
        "#print(skater_SH_totals_raw)\n",
        "#skater_SH_totals_raw.head()"
      ],
      "metadata": {
        "id": "bw7j9RFqojeR"
      },
      "execution_count": 16,
      "outputs": []
    },
    {
      "cell_type": "code",
      "source": [
        "#Reduce SH On-Ice Totals Data\n",
        "skater_SH_totals = skater_SH_totals_raw.loc[:,['Player','Season','Team','Position','GP','TOI','GF%','xGF%','GF','GA','xGF','xGA']]\n",
        "#skater_SH_totals"
      ],
      "metadata": {
        "id": "4mYzlSsRp2KR"
      },
      "execution_count": 17,
      "outputs": []
    },
    {
      "cell_type": "code",
      "source": [
        "#Add columns for G+/-,xG+/-\n",
        "skater_SH_totals['G+/-'] = skater_SH_totals['GF'] - skater_SH_totals['GA']\n",
        "skater_SH_totals['xG+/-'] = skater_SH_totals['xGF'] - skater_SH_totals['xGA']\n",
        "#skater_SH_totals"
      ],
      "metadata": {
        "id": "OY7toaWgqEOy"
      },
      "execution_count": 18,
      "outputs": []
    },
    {
      "cell_type": "code",
      "source": [
        "#Add column for mean G+/- and xG+/-\n",
        "G_mean = skater_SH_totals['G+/-'].mean()\n",
        "xG_mean = skater_SH_totals['xG+/-'].mean()\n",
        "#G_mean\n",
        "#xG_mean"
      ],
      "metadata": {
        "id": "Bju7HddvqTvr"
      },
      "execution_count": 19,
      "outputs": []
    },
    {
      "cell_type": "code",
      "source": [
        "#Add column for stats above average for G+/- and xG+/-\n",
        "skater_SH_totals['GAA'] = skater_SH_totals['G+/-'] - G_mean\n",
        "skater_SH_totals['xGAA'] = skater_SH_totals['xG+/-'] - xG_mean\n",
        "#skater_SH_totals"
      ],
      "metadata": {
        "id": "mrL1ppwLsC8H"
      },
      "execution_count": 20,
      "outputs": []
    },
    {
      "cell_type": "code",
      "source": [
        "skater_SH_totals = skater_SH_totals.drop(columns = ['xGF%','xGF','xGA','xG+/-','xGAA','GF%','GF','GA','G+/-'])\n",
        "#skater_SH_totals"
      ],
      "metadata": {
        "id": "Ntu31okTsSnY"
      },
      "execution_count": 21,
      "outputs": []
    },
    {
      "cell_type": "code",
      "source": [
        "skater_SH_totals = skater_SH_totals.rename(columns = {'Position':'Position_SH','GP':'GP_SH','TOI':'TOI_SH','GAA':'GAA_SH'})\n",
        "#skater_SH_totals"
      ],
      "metadata": {
        "id": "EBuJcEtwrn0y"
      },
      "execution_count": 22,
      "outputs": []
    },
    {
      "cell_type": "code",
      "source": [
        "#skater_SH_totals.loc[skater_SH_totals.Player=='Andrew Cogliano']"
      ],
      "metadata": {
        "id": "IdRFhKNbng5g"
      },
      "execution_count": 23,
      "outputs": []
    },
    {
      "cell_type": "code",
      "source": [
        "#Import Player Box Stats\n",
        "skater_box_totals_raw = pd.read_csv('https://raw.githubusercontent.com/danmartin25/Hockey_Model/main/Player%20Stats%20Box.csv')\n",
        "#print(skater_box_totals_raw)\n",
        "#skater_box_totals_raw.head()"
      ],
      "metadata": {
        "id": "BaXHcJgmH9KX"
      },
      "execution_count": 24,
      "outputs": []
    },
    {
      "cell_type": "code",
      "source": [
        "#Reduce Data Stats\n",
        "skater_box_totals = skater_box_totals_raw.loc[:,['Player','Season','Team','Position','GP','TOI','G','A1','A2','Points']]\n",
        "#skater_box_totals.head()"
      ],
      "metadata": {
        "id": "vKYmDtckKao9"
      },
      "execution_count": 25,
      "outputs": []
    },
    {
      "cell_type": "code",
      "source": [
        "#skater_box_totals.loc[skater_box_totals.Player=='Andrew Cogliano']"
      ],
      "metadata": {
        "id": "H1TBgVPjrHyw"
      },
      "execution_count": 26,
      "outputs": []
    },
    {
      "cell_type": "code",
      "source": [
        "#Look at positions to get correct F/D average points\n",
        "#print(skater_box_totals['Position'].unique())\n",
        "#print(skater_box_totals.count())\n",
        "\n",
        "forwards_table = skater_box_totals.loc[(skater_box_totals.Position == \"L\") | (skater_box_totals.Position == \"C\") | (skater_box_totals.Position == \"C/L\") | (skater_box_totals.Position == \"R\") | (skater_box_totals.Position == \"L/R\") | (skater_box_totals.Position == \"C/R\")]\n",
        "#forwards_table.head(10)\n",
        "#print(forwards_table.count())\n",
        "\n",
        "defensemen_table = skater_box_totals.loc[(skater_box_totals.Position == \"D\") | (skater_box_totals.Position == \"D/L\")]\n",
        "#defensemen_table.head(10)\n",
        "#print(defensemen_table.count())"
      ],
      "metadata": {
        "id": "U1d8ca9ygGSQ"
      },
      "execution_count": 27,
      "outputs": []
    },
    {
      "cell_type": "code",
      "source": [
        "#forwards_table.loc[forwards_table.Player=='Andrew Cogliano']"
      ],
      "metadata": {
        "id": "PRIlSjbNrTzk"
      },
      "execution_count": 28,
      "outputs": []
    },
    {
      "cell_type": "code",
      "source": [
        "#Get Mean of Points\n",
        "Points_mean = skater_box_totals['Points'].mean()\n",
        "#print(Points_mean)\n",
        "\n",
        "Forwards_mean = forwards_table['Points'].mean()\n",
        "#print(Forwards_mean)\n",
        "\n",
        "Defensemen_mean = defensemen_table['Points'].mean()\n",
        "#print(Defensemen_mean)"
      ],
      "metadata": {
        "id": "OOnI4shJOgAt"
      },
      "execution_count": 29,
      "outputs": []
    },
    {
      "cell_type": "code",
      "source": [
        "#Get PAA\n",
        "#skater_box_totals['PAA'] = skater_box_totals['Points'] - Points_mean\n",
        "#skater_box_totals\n",
        "\n",
        "#Get PAA for Fwds and Dmen and combine\n",
        "\n",
        "forwards_table['PAA'] = forwards_table['Points'] - Forwards_mean\n",
        "forwards_table.head(10)\n",
        "\n",
        "defensemen_table['PAA'] = defensemen_table['Points'] - Defensemen_mean\n",
        "defensemen_table.head(10)\n",
        "\n",
        "\n",
        "#Add dataframes back together and sort again\n",
        "\n",
        "concat_frames = [forwards_table, defensemen_table]\n",
        "skater_box_totals = pd.concat(concat_frames)\n",
        "skater_box_totals = skater_box_totals.sort_index()\n",
        "#skater_box_totals.head(10)"
      ],
      "metadata": {
        "colab": {
          "base_uri": "https://localhost:8080/"
        },
        "id": "Xcp8IH20RZGj",
        "outputId": "169755a7-2a2c-496a-b696-5ac7b579c45c"
      },
      "execution_count": 30,
      "outputs": [
        {
          "output_type": "stream",
          "name": "stderr",
          "text": [
            "/usr/local/lib/python3.7/dist-packages/ipykernel_launcher.py:7: SettingWithCopyWarning: \n",
            "A value is trying to be set on a copy of a slice from a DataFrame.\n",
            "Try using .loc[row_indexer,col_indexer] = value instead\n",
            "\n",
            "See the caveats in the documentation: https://pandas.pydata.org/pandas-docs/stable/user_guide/indexing.html#returning-a-view-versus-a-copy\n",
            "  import sys\n",
            "/usr/local/lib/python3.7/dist-packages/ipykernel_launcher.py:10: SettingWithCopyWarning: \n",
            "A value is trying to be set on a copy of a slice from a DataFrame.\n",
            "Try using .loc[row_indexer,col_indexer] = value instead\n",
            "\n",
            "See the caveats in the documentation: https://pandas.pydata.org/pandas-docs/stable/user_guide/indexing.html#returning-a-view-versus-a-copy\n",
            "  # Remove the CWD from sys.path while we load stuff.\n"
          ]
        }
      ]
    },
    {
      "cell_type": "code",
      "source": [
        "#Combine skater EV and PP stats\n",
        "combined_player_df = pd.merge(skater_EV_totals, skater_PP_totals, how=\"outer\", on=['Player','Season'])\n",
        "#combined_player_df.head()\n"
      ],
      "metadata": {
        "id": "MGH26r0V-aBu"
      },
      "execution_count": 31,
      "outputs": []
    },
    {
      "cell_type": "code",
      "source": [
        "skater_EV_PP = combined_player_df.drop(columns = ['Team_y','Position_PP','GP_PP'])\n",
        "#skater_EV_PP"
      ],
      "metadata": {
        "id": "AnoRVrSbwGgT"
      },
      "execution_count": 32,
      "outputs": []
    },
    {
      "cell_type": "code",
      "source": [
        "#skater_EV_PP.loc[skater_EV_PP.Player=='Andrew Cogliano']"
      ],
      "metadata": {
        "id": "IpmGQWPMrori"
      },
      "execution_count": 33,
      "outputs": []
    },
    {
      "cell_type": "code",
      "source": [
        "#Merge EV,PP,SH tables together\n",
        "full_player_totals = pd.merge(skater_EV_PP, skater_SH_totals, how=\"left\", on=[\"Player\", \"Season\"])\n",
        "#full_player_totals.head(10)"
      ],
      "metadata": {
        "id": "Sd_CdiVh-6QR"
      },
      "execution_count": 34,
      "outputs": []
    },
    {
      "cell_type": "code",
      "source": [
        "#Clean up data\n",
        "full_player_totals = full_player_totals.drop(columns = ['Team','Position_SH','GP_SH'])\n",
        "#full_player_totals.head(10)"
      ],
      "metadata": {
        "id": "-u0byvYSyo0v"
      },
      "execution_count": 35,
      "outputs": []
    },
    {
      "cell_type": "code",
      "source": [
        "#full_player_totals.loc[full_player_totals.Player=='Andrew Cogliano']"
      ],
      "metadata": {
        "id": "83JzKewqsF4s"
      },
      "execution_count": 36,
      "outputs": []
    },
    {
      "cell_type": "code",
      "source": [
        "#Merge EV,PP,SH and Points tables together\n",
        "full_player_totals = pd.merge(full_player_totals, skater_box_totals, how=\"left\", on=[\"Player\", \"Season\"])\n",
        "#full_player_totals.head()"
      ],
      "metadata": {
        "id": "tc-fJxp1sEu4"
      },
      "execution_count": 37,
      "outputs": []
    },
    {
      "cell_type": "code",
      "source": [
        "#Drop Repeated Columns\n",
        "full_player_totals = full_player_totals.drop(columns = ['Team','Position','GP','G','A1','A2'])\n",
        "#full_player_totals.head(10)\n"
      ],
      "metadata": {
        "id": "rwivaMNuBK-X"
      },
      "execution_count": 38,
      "outputs": []
    },
    {
      "cell_type": "code",
      "source": [
        "#Rename Columns\n",
        "full_player_totals = full_player_totals.rename(columns = {'Team_x':'Team','Position_EV':'Position','GP_EV':'GP','TOI':'TOI_tot'})\n",
        "#full_player_totals"
      ],
      "metadata": {
        "id": "cg9jg8NGCr_u"
      },
      "execution_count": 39,
      "outputs": []
    },
    {
      "cell_type": "code",
      "source": [
        "#Replace NaN with 0\n",
        "full_player_totals = full_player_totals.replace(np.NaN, 0)\n",
        "#full_player_totals"
      ],
      "metadata": {
        "id": "dz-Y-NlF06nS"
      },
      "execution_count": 40,
      "outputs": []
    },
    {
      "cell_type": "code",
      "source": [
        "#full_player_totals.loc[full_player_totals.Player=='Andrew Cogliano']"
      ],
      "metadata": {
        "id": "dURuw-wKuGYt"
      },
      "execution_count": 41,
      "outputs": []
    },
    {
      "cell_type": "code",
      "source": [
        "#Import Goalie Data\n",
        "goalie_stats_raw = pd.read_csv('https://raw.githubusercontent.com/danmartin25/Hockey_Model/main/Goalie%20Stats.csv')\n",
        "#print(goalie_stats_raw)\n",
        "#goalie_stats_raw.head()"
      ],
      "metadata": {
        "id": "fggig3SI1Zig"
      },
      "execution_count": 42,
      "outputs": []
    },
    {
      "cell_type": "code",
      "source": [
        "#Reduce Goalie Stats\n",
        "goalie_stats = goalie_stats_raw.loc[:,['Player','Season','Team','Position','GP','TOI','GA','Sv%','GSAx']]\n",
        "#goalie_stats.head()"
      ],
      "metadata": {
        "id": "kQa9H0cG_VOl"
      },
      "execution_count": 43,
      "outputs": []
    },
    {
      "cell_type": "code",
      "source": [
        "#Add Active / Inactive Column to both data tables\n",
        "full_player_totals['A/I'] = 'Active'\n",
        "#full_player_totals"
      ],
      "metadata": {
        "id": "Z04aWgQyXNGs"
      },
      "execution_count": 44,
      "outputs": []
    },
    {
      "cell_type": "code",
      "source": [
        "#Create Baseline Data\n",
        "Win_Prob = 0.5/(0.5+0.5)\n",
        "Log_Loss = round(-np.log(1-(1-Win_Prob)),4)\n",
        "Win_Prob\n",
        "Log_Loss"
      ],
      "metadata": {
        "id": "UE5kgSo81M7M",
        "outputId": "e43cb565-c2cc-4c51-8fa1-c11f63e2acd0",
        "colab": {
          "base_uri": "https://localhost:8080/"
        }
      },
      "execution_count": 45,
      "outputs": [
        {
          "output_type": "execute_result",
          "data": {
            "text/plain": [
              "0.6931"
            ]
          },
          "metadata": {},
          "execution_count": 45
        }
      ]
    },
    {
      "cell_type": "code",
      "source": [
        "#Import Sportsbook data\n",
        "nhl_lines_1920_raw = pd.read_csv('https://raw.githubusercontent.com/danmartin25/Hockey_Model/main/nhl%20odds%202019-20.csv')\n",
        "nhl_lines_21_raw = pd.read_csv('https://raw.githubusercontent.com/danmartin25/Hockey_Model/main/nhl%20odds%202021.csv')\n",
        "nhl_lines_2122_raw = pd.read_csv('https://raw.githubusercontent.com/danmartin25/Hockey_Model/main/nhl%20odds%202021-22.csv')\n",
        "\n",
        "#nhl_lines_1920_raw.head()\n",
        "#nhl_lines_21_raw.head()\n",
        "#nhl_lines_2122_raw.head()"
      ],
      "metadata": {
        "id": "SzIADcQ1HfaQ"
      },
      "execution_count": 46,
      "outputs": []
    },
    {
      "cell_type": "code",
      "source": [
        "#Reduce data for CLV of Sportsbooks\n",
        "nhl_lines_1920 = nhl_lines_1920_raw.loc[:,['Date','Rot','Team','Final','Close']]\n",
        "nhl_lines_21 = nhl_lines_21_raw.loc[:,['Date','Rot','Team','Final','Close']]\n",
        "nhl_lines_2122 = nhl_lines_2122_raw.loc[:,['Date','Rot','Team','Final','Close']]\n",
        "\n",
        "nhl_lines_1920.head()\n",
        "#nhl_lines_21.head()\n",
        "#nhl_lines_2122.head()"
      ],
      "metadata": {
        "id": "53S7_h5uCS7j",
        "outputId": "cd94716d-2343-4983-a18f-1a651fd2e2e9",
        "colab": {
          "base_uri": "https://localhost:8080/",
          "height": 206
        }
      },
      "execution_count": 47,
      "outputs": [
        {
          "output_type": "execute_result",
          "data": {
            "text/plain": [
              "   Date  Rot        Team  Final  Close\n",
              "0  1002    1      Ottawa      3    270\n",
              "1  1002    2     Toronto      5   -310\n",
              "2  1002    3  Washington      3    135\n",
              "3  1002    4    St.Louis      2   -150\n",
              "4  1002    5   Vancouver      2    116"
            ],
            "text/html": [
              "\n",
              "  <div id=\"df-010e2ea0-846a-474d-a23e-9a70aca2d5b0\">\n",
              "    <div class=\"colab-df-container\">\n",
              "      <div>\n",
              "<style scoped>\n",
              "    .dataframe tbody tr th:only-of-type {\n",
              "        vertical-align: middle;\n",
              "    }\n",
              "\n",
              "    .dataframe tbody tr th {\n",
              "        vertical-align: top;\n",
              "    }\n",
              "\n",
              "    .dataframe thead th {\n",
              "        text-align: right;\n",
              "    }\n",
              "</style>\n",
              "<table border=\"1\" class=\"dataframe\">\n",
              "  <thead>\n",
              "    <tr style=\"text-align: right;\">\n",
              "      <th></th>\n",
              "      <th>Date</th>\n",
              "      <th>Rot</th>\n",
              "      <th>Team</th>\n",
              "      <th>Final</th>\n",
              "      <th>Close</th>\n",
              "    </tr>\n",
              "  </thead>\n",
              "  <tbody>\n",
              "    <tr>\n",
              "      <th>0</th>\n",
              "      <td>1002</td>\n",
              "      <td>1</td>\n",
              "      <td>Ottawa</td>\n",
              "      <td>3</td>\n",
              "      <td>270</td>\n",
              "    </tr>\n",
              "    <tr>\n",
              "      <th>1</th>\n",
              "      <td>1002</td>\n",
              "      <td>2</td>\n",
              "      <td>Toronto</td>\n",
              "      <td>5</td>\n",
              "      <td>-310</td>\n",
              "    </tr>\n",
              "    <tr>\n",
              "      <th>2</th>\n",
              "      <td>1002</td>\n",
              "      <td>3</td>\n",
              "      <td>Washington</td>\n",
              "      <td>3</td>\n",
              "      <td>135</td>\n",
              "    </tr>\n",
              "    <tr>\n",
              "      <th>3</th>\n",
              "      <td>1002</td>\n",
              "      <td>4</td>\n",
              "      <td>St.Louis</td>\n",
              "      <td>2</td>\n",
              "      <td>-150</td>\n",
              "    </tr>\n",
              "    <tr>\n",
              "      <th>4</th>\n",
              "      <td>1002</td>\n",
              "      <td>5</td>\n",
              "      <td>Vancouver</td>\n",
              "      <td>2</td>\n",
              "      <td>116</td>\n",
              "    </tr>\n",
              "  </tbody>\n",
              "</table>\n",
              "</div>\n",
              "      <button class=\"colab-df-convert\" onclick=\"convertToInteractive('df-010e2ea0-846a-474d-a23e-9a70aca2d5b0')\"\n",
              "              title=\"Convert this dataframe to an interactive table.\"\n",
              "              style=\"display:none;\">\n",
              "        \n",
              "  <svg xmlns=\"http://www.w3.org/2000/svg\" height=\"24px\"viewBox=\"0 0 24 24\"\n",
              "       width=\"24px\">\n",
              "    <path d=\"M0 0h24v24H0V0z\" fill=\"none\"/>\n",
              "    <path d=\"M18.56 5.44l.94 2.06.94-2.06 2.06-.94-2.06-.94-.94-2.06-.94 2.06-2.06.94zm-11 1L8.5 8.5l.94-2.06 2.06-.94-2.06-.94L8.5 2.5l-.94 2.06-2.06.94zm10 10l.94 2.06.94-2.06 2.06-.94-2.06-.94-.94-2.06-.94 2.06-2.06.94z\"/><path d=\"M17.41 7.96l-1.37-1.37c-.4-.4-.92-.59-1.43-.59-.52 0-1.04.2-1.43.59L10.3 9.45l-7.72 7.72c-.78.78-.78 2.05 0 2.83L4 21.41c.39.39.9.59 1.41.59.51 0 1.02-.2 1.41-.59l7.78-7.78 2.81-2.81c.8-.78.8-2.07 0-2.86zM5.41 20L4 18.59l7.72-7.72 1.47 1.35L5.41 20z\"/>\n",
              "  </svg>\n",
              "      </button>\n",
              "      \n",
              "  <style>\n",
              "    .colab-df-container {\n",
              "      display:flex;\n",
              "      flex-wrap:wrap;\n",
              "      gap: 12px;\n",
              "    }\n",
              "\n",
              "    .colab-df-convert {\n",
              "      background-color: #E8F0FE;\n",
              "      border: none;\n",
              "      border-radius: 50%;\n",
              "      cursor: pointer;\n",
              "      display: none;\n",
              "      fill: #1967D2;\n",
              "      height: 32px;\n",
              "      padding: 0 0 0 0;\n",
              "      width: 32px;\n",
              "    }\n",
              "\n",
              "    .colab-df-convert:hover {\n",
              "      background-color: #E2EBFA;\n",
              "      box-shadow: 0px 1px 2px rgba(60, 64, 67, 0.3), 0px 1px 3px 1px rgba(60, 64, 67, 0.15);\n",
              "      fill: #174EA6;\n",
              "    }\n",
              "\n",
              "    [theme=dark] .colab-df-convert {\n",
              "      background-color: #3B4455;\n",
              "      fill: #D2E3FC;\n",
              "    }\n",
              "\n",
              "    [theme=dark] .colab-df-convert:hover {\n",
              "      background-color: #434B5C;\n",
              "      box-shadow: 0px 1px 3px 1px rgba(0, 0, 0, 0.15);\n",
              "      filter: drop-shadow(0px 1px 2px rgba(0, 0, 0, 0.3));\n",
              "      fill: #FFFFFF;\n",
              "    }\n",
              "  </style>\n",
              "\n",
              "      <script>\n",
              "        const buttonEl =\n",
              "          document.querySelector('#df-010e2ea0-846a-474d-a23e-9a70aca2d5b0 button.colab-df-convert');\n",
              "        buttonEl.style.display =\n",
              "          google.colab.kernel.accessAllowed ? 'block' : 'none';\n",
              "\n",
              "        async function convertToInteractive(key) {\n",
              "          const element = document.querySelector('#df-010e2ea0-846a-474d-a23e-9a70aca2d5b0');\n",
              "          const dataTable =\n",
              "            await google.colab.kernel.invokeFunction('convertToInteractive',\n",
              "                                                     [key], {});\n",
              "          if (!dataTable) return;\n",
              "\n",
              "          const docLinkHtml = 'Like what you see? Visit the ' +\n",
              "            '<a target=\"_blank\" href=https://colab.research.google.com/notebooks/data_table.ipynb>data table notebook</a>'\n",
              "            + ' to learn more about interactive tables.';\n",
              "          element.innerHTML = '';\n",
              "          dataTable['output_type'] = 'display_data';\n",
              "          await google.colab.output.renderOutput(dataTable, element);\n",
              "          const docLink = document.createElement('div');\n",
              "          docLink.innerHTML = docLinkHtml;\n",
              "          element.appendChild(docLink);\n",
              "        }\n",
              "      </script>\n",
              "    </div>\n",
              "  </div>\n",
              "  "
            ]
          },
          "metadata": {},
          "execution_count": 47
        }
      ]
    },
    {
      "cell_type": "code",
      "source": [
        "#Change Close column to float types\n",
        "nhl_lines_1920.Close.astype(float)\n",
        "nhl_lines_21.Close.astype(float)\n",
        "nhl_lines_2122.Close.astype(float)"
      ],
      "metadata": {
        "id": "goiuwDbNEuuZ",
        "outputId": "3583fae4-dd52-4f3a-c857-05f4de3d61a7",
        "colab": {
          "base_uri": "https://localhost:8080/"
        }
      },
      "execution_count": 48,
      "outputs": [
        {
          "output_type": "execute_result",
          "data": {
            "text/plain": [
              "0       220.0\n",
              "1      -250.0\n",
              "2       205.0\n",
              "3      -230.0\n",
              "4      -102.0\n",
              "        ...  \n",
              "2797   -107.0\n",
              "2798    170.0\n",
              "2799   -190.0\n",
              "2800   -109.0\n",
              "2801   -101.0\n",
              "Name: Close, Length: 2802, dtype: float64"
            ]
          },
          "metadata": {},
          "execution_count": 48
        }
      ]
    },
    {
      "cell_type": "code",
      "source": [
        "#Make a column for the vig of all teams\n",
        "nhl_lines_1920.loc[nhl_lines_1920['Close'] >= 0, 'Vig'] = 1/((nhl_lines_1920['Close']/100)+1)\n",
        "nhl_lines_1920.loc[nhl_lines_1920['Close'] <= 0, 'Vig'] = 1/(1+(-100/nhl_lines_1920['Close']))\n",
        "nhl_lines_1920"
      ],
      "metadata": {
        "id": "iufZzVcRHFi-",
        "outputId": "3f2d43fe-1582-4761-d51a-01e1e34494a5",
        "colab": {
          "base_uri": "https://localhost:8080/",
          "height": 424
        }
      },
      "execution_count": 49,
      "outputs": [
        {
          "output_type": "execute_result",
          "data": {
            "text/plain": [
              "      Date  Rot        Team  Final  Close       Vig\n",
              "0     1002    1      Ottawa      3    270  0.270270\n",
              "1     1002    2     Toronto      5   -310  0.756098\n",
              "2     1002    3  Washington      3    135  0.425532\n",
              "3     1002    4    St.Louis      2   -150  0.600000\n",
              "4     1002    5   Vancouver      2    116  0.462963\n",
              "...    ...  ...         ...    ...    ...       ...\n",
              "2419   925   28      Dallas      4    135  0.425532\n",
              "2420   926   29      Dallas      3    150  0.400000\n",
              "2421   926   30    TampaBay      2   -165  0.622642\n",
              "2422   928    1    TampaBay      2   -170  0.629630\n",
              "2423   928    2      Dallas      0    155  0.392157\n",
              "\n",
              "[2424 rows x 6 columns]"
            ],
            "text/html": [
              "\n",
              "  <div id=\"df-998ba84d-9e44-4e5d-bab7-b7cf7ff7d70f\">\n",
              "    <div class=\"colab-df-container\">\n",
              "      <div>\n",
              "<style scoped>\n",
              "    .dataframe tbody tr th:only-of-type {\n",
              "        vertical-align: middle;\n",
              "    }\n",
              "\n",
              "    .dataframe tbody tr th {\n",
              "        vertical-align: top;\n",
              "    }\n",
              "\n",
              "    .dataframe thead th {\n",
              "        text-align: right;\n",
              "    }\n",
              "</style>\n",
              "<table border=\"1\" class=\"dataframe\">\n",
              "  <thead>\n",
              "    <tr style=\"text-align: right;\">\n",
              "      <th></th>\n",
              "      <th>Date</th>\n",
              "      <th>Rot</th>\n",
              "      <th>Team</th>\n",
              "      <th>Final</th>\n",
              "      <th>Close</th>\n",
              "      <th>Vig</th>\n",
              "    </tr>\n",
              "  </thead>\n",
              "  <tbody>\n",
              "    <tr>\n",
              "      <th>0</th>\n",
              "      <td>1002</td>\n",
              "      <td>1</td>\n",
              "      <td>Ottawa</td>\n",
              "      <td>3</td>\n",
              "      <td>270</td>\n",
              "      <td>0.270270</td>\n",
              "    </tr>\n",
              "    <tr>\n",
              "      <th>1</th>\n",
              "      <td>1002</td>\n",
              "      <td>2</td>\n",
              "      <td>Toronto</td>\n",
              "      <td>5</td>\n",
              "      <td>-310</td>\n",
              "      <td>0.756098</td>\n",
              "    </tr>\n",
              "    <tr>\n",
              "      <th>2</th>\n",
              "      <td>1002</td>\n",
              "      <td>3</td>\n",
              "      <td>Washington</td>\n",
              "      <td>3</td>\n",
              "      <td>135</td>\n",
              "      <td>0.425532</td>\n",
              "    </tr>\n",
              "    <tr>\n",
              "      <th>3</th>\n",
              "      <td>1002</td>\n",
              "      <td>4</td>\n",
              "      <td>St.Louis</td>\n",
              "      <td>2</td>\n",
              "      <td>-150</td>\n",
              "      <td>0.600000</td>\n",
              "    </tr>\n",
              "    <tr>\n",
              "      <th>4</th>\n",
              "      <td>1002</td>\n",
              "      <td>5</td>\n",
              "      <td>Vancouver</td>\n",
              "      <td>2</td>\n",
              "      <td>116</td>\n",
              "      <td>0.462963</td>\n",
              "    </tr>\n",
              "    <tr>\n",
              "      <th>...</th>\n",
              "      <td>...</td>\n",
              "      <td>...</td>\n",
              "      <td>...</td>\n",
              "      <td>...</td>\n",
              "      <td>...</td>\n",
              "      <td>...</td>\n",
              "    </tr>\n",
              "    <tr>\n",
              "      <th>2419</th>\n",
              "      <td>925</td>\n",
              "      <td>28</td>\n",
              "      <td>Dallas</td>\n",
              "      <td>4</td>\n",
              "      <td>135</td>\n",
              "      <td>0.425532</td>\n",
              "    </tr>\n",
              "    <tr>\n",
              "      <th>2420</th>\n",
              "      <td>926</td>\n",
              "      <td>29</td>\n",
              "      <td>Dallas</td>\n",
              "      <td>3</td>\n",
              "      <td>150</td>\n",
              "      <td>0.400000</td>\n",
              "    </tr>\n",
              "    <tr>\n",
              "      <th>2421</th>\n",
              "      <td>926</td>\n",
              "      <td>30</td>\n",
              "      <td>TampaBay</td>\n",
              "      <td>2</td>\n",
              "      <td>-165</td>\n",
              "      <td>0.622642</td>\n",
              "    </tr>\n",
              "    <tr>\n",
              "      <th>2422</th>\n",
              "      <td>928</td>\n",
              "      <td>1</td>\n",
              "      <td>TampaBay</td>\n",
              "      <td>2</td>\n",
              "      <td>-170</td>\n",
              "      <td>0.629630</td>\n",
              "    </tr>\n",
              "    <tr>\n",
              "      <th>2423</th>\n",
              "      <td>928</td>\n",
              "      <td>2</td>\n",
              "      <td>Dallas</td>\n",
              "      <td>0</td>\n",
              "      <td>155</td>\n",
              "      <td>0.392157</td>\n",
              "    </tr>\n",
              "  </tbody>\n",
              "</table>\n",
              "<p>2424 rows × 6 columns</p>\n",
              "</div>\n",
              "      <button class=\"colab-df-convert\" onclick=\"convertToInteractive('df-998ba84d-9e44-4e5d-bab7-b7cf7ff7d70f')\"\n",
              "              title=\"Convert this dataframe to an interactive table.\"\n",
              "              style=\"display:none;\">\n",
              "        \n",
              "  <svg xmlns=\"http://www.w3.org/2000/svg\" height=\"24px\"viewBox=\"0 0 24 24\"\n",
              "       width=\"24px\">\n",
              "    <path d=\"M0 0h24v24H0V0z\" fill=\"none\"/>\n",
              "    <path d=\"M18.56 5.44l.94 2.06.94-2.06 2.06-.94-2.06-.94-.94-2.06-.94 2.06-2.06.94zm-11 1L8.5 8.5l.94-2.06 2.06-.94-2.06-.94L8.5 2.5l-.94 2.06-2.06.94zm10 10l.94 2.06.94-2.06 2.06-.94-2.06-.94-.94-2.06-.94 2.06-2.06.94z\"/><path d=\"M17.41 7.96l-1.37-1.37c-.4-.4-.92-.59-1.43-.59-.52 0-1.04.2-1.43.59L10.3 9.45l-7.72 7.72c-.78.78-.78 2.05 0 2.83L4 21.41c.39.39.9.59 1.41.59.51 0 1.02-.2 1.41-.59l7.78-7.78 2.81-2.81c.8-.78.8-2.07 0-2.86zM5.41 20L4 18.59l7.72-7.72 1.47 1.35L5.41 20z\"/>\n",
              "  </svg>\n",
              "      </button>\n",
              "      \n",
              "  <style>\n",
              "    .colab-df-container {\n",
              "      display:flex;\n",
              "      flex-wrap:wrap;\n",
              "      gap: 12px;\n",
              "    }\n",
              "\n",
              "    .colab-df-convert {\n",
              "      background-color: #E8F0FE;\n",
              "      border: none;\n",
              "      border-radius: 50%;\n",
              "      cursor: pointer;\n",
              "      display: none;\n",
              "      fill: #1967D2;\n",
              "      height: 32px;\n",
              "      padding: 0 0 0 0;\n",
              "      width: 32px;\n",
              "    }\n",
              "\n",
              "    .colab-df-convert:hover {\n",
              "      background-color: #E2EBFA;\n",
              "      box-shadow: 0px 1px 2px rgba(60, 64, 67, 0.3), 0px 1px 3px 1px rgba(60, 64, 67, 0.15);\n",
              "      fill: #174EA6;\n",
              "    }\n",
              "\n",
              "    [theme=dark] .colab-df-convert {\n",
              "      background-color: #3B4455;\n",
              "      fill: #D2E3FC;\n",
              "    }\n",
              "\n",
              "    [theme=dark] .colab-df-convert:hover {\n",
              "      background-color: #434B5C;\n",
              "      box-shadow: 0px 1px 3px 1px rgba(0, 0, 0, 0.15);\n",
              "      filter: drop-shadow(0px 1px 2px rgba(0, 0, 0, 0.3));\n",
              "      fill: #FFFFFF;\n",
              "    }\n",
              "  </style>\n",
              "\n",
              "      <script>\n",
              "        const buttonEl =\n",
              "          document.querySelector('#df-998ba84d-9e44-4e5d-bab7-b7cf7ff7d70f button.colab-df-convert');\n",
              "        buttonEl.style.display =\n",
              "          google.colab.kernel.accessAllowed ? 'block' : 'none';\n",
              "\n",
              "        async function convertToInteractive(key) {\n",
              "          const element = document.querySelector('#df-998ba84d-9e44-4e5d-bab7-b7cf7ff7d70f');\n",
              "          const dataTable =\n",
              "            await google.colab.kernel.invokeFunction('convertToInteractive',\n",
              "                                                     [key], {});\n",
              "          if (!dataTable) return;\n",
              "\n",
              "          const docLinkHtml = 'Like what you see? Visit the ' +\n",
              "            '<a target=\"_blank\" href=https://colab.research.google.com/notebooks/data_table.ipynb>data table notebook</a>'\n",
              "            + ' to learn more about interactive tables.';\n",
              "          element.innerHTML = '';\n",
              "          dataTable['output_type'] = 'display_data';\n",
              "          await google.colab.output.renderOutput(dataTable, element);\n",
              "          const docLink = document.createElement('div');\n",
              "          docLink.innerHTML = docLinkHtml;\n",
              "          element.appendChild(docLink);\n",
              "        }\n",
              "      </script>\n",
              "    </div>\n",
              "  </div>\n",
              "  "
            ]
          },
          "metadata": {},
          "execution_count": 49
        }
      ]
    },
    {
      "cell_type": "code",
      "source": [
        "#Make a column for the win percentage of all teams\n",
        "nhl_lines_1920.loc[nhl_lines_1920['Close'] >= 0, 'Win %'] = nhl_lines_1920['Vig']\n",
        "nhl_lines_1920.loc[nhl_lines_1920['Close'] <= 0, 'Win %'] = 1/(1+(-100/nhl_lines_1920['Close']))\n",
        "nhl_lines_1920"
      ],
      "metadata": {
        "id": "GSGNTj8uQS9r"
      },
      "execution_count": null,
      "outputs": []
    },
    {
      "cell_type": "code",
      "source": [
        "#Make a Data Table for each team\n",
        "Avalanche_skaters = full_player_totals.loc[(full_player_totals.Team == 'COL')]\n",
        "#Avalanche_skaters.head(20)"
      ],
      "metadata": {
        "id": "an8AclsZYCyS"
      },
      "execution_count": null,
      "outputs": []
    },
    {
      "cell_type": "markdown",
      "source": [
        ""
      ],
      "metadata": {
        "id": "Rjmuk9JQBpQ2"
      }
    },
    {
      "cell_type": "code",
      "source": [
        "full_player_totals.head(30)"
      ],
      "metadata": {
        "id": "KEoAqA9oI1BT"
      },
      "execution_count": null,
      "outputs": []
    },
    {
      "cell_type": "code",
      "source": [
        "#Inspect Data\n",
        "full_player_totals.head(20)"
      ],
      "metadata": {
        "id": "jthSAaXqbx4R"
      },
      "execution_count": null,
      "outputs": []
    },
    {
      "cell_type": "code",
      "source": [
        "#skater_PP_totals_raw = pd.read_csv('https://raw.githubusercontent.com/danmartin25/Hockey_Model/main/PP%20On-Ice%20Rates.csv')\n",
        "#print(skater_PP_rates_raw)\n",
        "#skater_PP_rates_raw.head()"
      ],
      "metadata": {
        "id": "V97tFeoQhCcV"
      },
      "execution_count": null,
      "outputs": []
    },
    {
      "cell_type": "markdown",
      "source": [
        "**Stuff to Do Next - (have no more time, so quick thoughts that I have not checked, like the next one would be so easy to check if I had another 5 mins)**"
      ],
      "metadata": {
        "id": "7WEVx4JZwjUr"
      }
    },
    {
      "cell_type": "code",
      "source": [
        "#Are these right? duplicate naming issues for \"TOI_SH\" and no PP?\n",
        "full_player_totals.columns"
      ],
      "metadata": {
        "id": "aPdfhozmwnRl"
      },
      "execution_count": null,
      "outputs": []
    },
    {
      "cell_type": "markdown",
      "source": [
        "Need to create a dataframe for each team. Use the loc function on player table first to get all the players for one team. Then do the same thing with goalies. We will probably need to keep them seperate tables since they do not have similar variables\n",
        "\n",
        "Not necessary at this stage but eventually we are going to want to consolidate these code blocks. Ex, the code to create all of the team rosters should be in one block with no output. For now you can do 64 blocks (32 for skaters, 32 for goalies) and show output so we can see if there are any errors, but once we get past that stage we will comment out the output and put it all in one block. If we ever need to go back in check you just take out the '#' and run the code to see the output."
      ],
      "metadata": {
        "id": "5hzBsoEPxWBj"
      }
    },
    {
      "cell_type": "markdown",
      "source": [
        "Need to add a column for 'status'. I am thinking the two states we use are 'active' and 'inactive' for the starting lineups. Will be 18 skaters and 1 goalie when we update daily but doesnt matter now. Should put this in before all of the loc functions so it shows up for the team dataframes. Note: will have to be added to both the full_player_totals dataframe and the goalie_stats dataframe."
      ],
      "metadata": {
        "id": "hxkMS58ix0Iz"
      }
    },
    {
      "cell_type": "markdown",
      "source": [
        "Add folder in github for the csv's, update github links in code to pull data"
      ],
      "metadata": {
        "id": "I6NyHdz5zMqj"
      }
    }
  ]
}