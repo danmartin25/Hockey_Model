{
  "nbformat": 4,
  "nbformat_minor": 0,
  "metadata": {
    "colab": {
      "name": "Hockey Model Mark I.ipynb",
      "provenance": [],
      "collapsed_sections": [],
      "include_colab_link": true
    },
    "kernelspec": {
      "name": "python3",
      "display_name": "Python 3"
    },
    "language_info": {
      "name": "python"
    }
  },
  "cells": [
    {
      "cell_type": "markdown",
      "metadata": {
        "id": "view-in-github",
        "colab_type": "text"
      },
      "source": [
        "<a href=\"https://colab.research.google.com/github/danmartin25/Hockey_Model/blob/main/Hockey_Model_Mark_I.ipynb\" target=\"_parent\"><img src=\"https://colab.research.google.com/assets/colab-badge.svg\" alt=\"Open In Colab\"/></a>"
      ]
    },
    {
      "cell_type": "markdown",
      "source": [
        "**Notes**\n",
        "1. On-ice EV xG+/-\n",
        "\n",
        "2. On-ice EV G+/-\n",
        "\n",
        "3. On-ice PP G+/- above average\n",
        "\n",
        "4. On-ice SH G+/- above average\n",
        "\n",
        "5. GSAx\n",
        "\n",
        "6. Individual points above average (depending on position and role)"
      ],
      "metadata": {
        "id": "hNUCQe2I3t-p"
      }
    },
    {
      "cell_type": "code",
      "source": [
        "# Import Dependencies\n",
        "import pandas as pd\n",
        "import numpy as np\n",
        "import matplotlib.pyplot as plt\n",
        "import seaborn as sns"
      ],
      "metadata": {
        "id": "BUi8GdMO30IC"
      },
      "execution_count": 1,
      "outputs": []
    },
    {
      "cell_type": "code",
      "source": [
        "#Import Even-Strength On-Ice Totals Data\n",
        "skater_EV_totals_raw = pd.read_csv('https://raw.githubusercontent.com/danmartin25/Hockey_Model/main/EV%20On-Ice%20Totals.csv')\n",
        "#print(skater_EV_totals_raw)\n",
        "#skater_EV_totals_raw.head()"
      ],
      "metadata": {
        "id": "XmWW1PSwVGYT"
      },
      "execution_count": 2,
      "outputs": []
    },
    {
      "cell_type": "code",
      "source": [
        "#Restrict Totals Data to GP,TOI,GF%,xGF%,GF,GA,xGF,xGA\n",
        "skater_EV_totals = skater_EV_totals_raw.loc[:,['Player','Season','Team','Position','GP','TOI','GF%','xGF%','GF','GA','xGF','xGA']]\n",
        "#skater_EV_totals"
      ],
      "metadata": {
        "id": "3cTkZNbQVLma"
      },
      "execution_count": 3,
      "outputs": []
    },
    {
      "cell_type": "code",
      "source": [
        "#Add columns for G+/-,xG+/-\n",
        "skater_EV_totals['G+/-'] = skater_EV_totals['GF'] - skater_EV_totals['GA']\n",
        "skater_EV_totals['xG+/-'] = skater_EV_totals['xGF'] - skater_EV_totals['xGA']\n",
        "#skater_EV_totals"
      ],
      "metadata": {
        "id": "cJUBNIoHVT26"
      },
      "execution_count": 4,
      "outputs": []
    },
    {
      "cell_type": "code",
      "source": [
        "#Import PP On-Ice Rates Data\n",
        "skater_PP_totals_raw = pd.read_csv('https://raw.githubusercontent.com/danmartin25/Hockey_Model/main/PP%20On-Ice%20Totals.csv')\n",
        "#print(skater_PP_totals_raw)\n",
        "#skater_PP_totals_raw.head()"
      ],
      "metadata": {
        "id": "WmqnfqP9Veya"
      },
      "execution_count": 5,
      "outputs": []
    },
    {
      "cell_type": "code",
      "source": [
        "#Reduce PP On-Ice Totals Data\n",
        "skater_PP_totals = skater_PP_totals_raw.loc[:,['Player','Season','Team','Position','GP','TOI','GF%','xGF%','GF','GA','xGF','xGA']]\n",
        "#skater_PP_totals"
      ],
      "metadata": {
        "id": "iQDVl4fJiF_i"
      },
      "execution_count": 6,
      "outputs": []
    },
    {
      "cell_type": "code",
      "source": [
        "#Add columns for G+/-,xG+/-,G/s,xG/s\n",
        "skater_PP_totals['G+/-'] = skater_PP_totals['GF'] - skater_PP_totals['GA']\n",
        "skater_PP_totals['xG+/-'] = skater_PP_totals['xGF'] - skater_PP_totals['xGA']\n",
        "#skater_PP_totals"
      ],
      "metadata": {
        "id": "Pw7coixmixmM"
      },
      "execution_count": 7,
      "outputs": []
    },
    {
      "cell_type": "code",
      "source": [
        "#Add column for mean G+/- and xG+/-\n",
        "G_mean = skater_PP_totals['G+/-'].mean()\n",
        "xG_mean = skater_PP_totals['xG+/-'].mean()\n",
        "#G_mean\n",
        "#xG_mean"
      ],
      "metadata": {
        "id": "zM6TvaNwjOEL"
      },
      "execution_count": 8,
      "outputs": []
    },
    {
      "cell_type": "code",
      "source": [
        "#Add column for stats above average for G+/- and xG+/-\n",
        "skater_PP_totals['GAA'] = skater_PP_totals['G+/-'] - G_mean\n",
        "skater_PP_totals['xGAA'] = skater_PP_totals['xG+/-'] - xG_mean\n",
        "#skater_PP_totals"
      ],
      "metadata": {
        "id": "oNoFY5POloku"
      },
      "execution_count": 9,
      "outputs": []
    },
    {
      "cell_type": "code",
      "source": [
        "#Drop columns\n",
        "skater_PP_totals = skater_PP_totals.drop(columns = ['xGF%','xGF','xGA','xG+/-','xGAA'])\n",
        "#skater_PP_totals"
      ],
      "metadata": {
        "id": "B0dz7YIJqrAC"
      },
      "execution_count": 10,
      "outputs": []
    },
    {
      "cell_type": "code",
      "source": [
        "#Import SH On-Ice Totals Data\n",
        "skater_SH_totals_raw = pd.read_csv('https://raw.githubusercontent.com/danmartin25/Hockey_Model/main/SH%20On-Ice%20Totals.csv')\n",
        "#print(skater_SH_totals_raw)\n",
        "#skater_SH_totals_raw.head()"
      ],
      "metadata": {
        "id": "bw7j9RFqojeR"
      },
      "execution_count": 11,
      "outputs": []
    },
    {
      "cell_type": "code",
      "source": [
        "#Reduce SH On-Ice Totals Data\n",
        "skater_SH_totals = skater_SH_totals_raw.loc[:,['Player','Season','Team','Position','GP','TOI','GF%','xGF%','GF','GA','xGF','xGA']]\n",
        "#skater_SH_totals"
      ],
      "metadata": {
        "id": "4mYzlSsRp2KR"
      },
      "execution_count": 12,
      "outputs": []
    },
    {
      "cell_type": "code",
      "source": [
        "#Add columns for G+/-,xG+/-\n",
        "skater_SH_totals['G+/-'] = skater_SH_totals['GF'] - skater_SH_totals['GA']\n",
        "skater_SH_totals['xG+/-'] = skater_SH_totals['xGF'] - skater_SH_totals['xGA']\n",
        "#skater_SH_totals"
      ],
      "metadata": {
        "id": "OY7toaWgqEOy"
      },
      "execution_count": 13,
      "outputs": []
    },
    {
      "cell_type": "code",
      "source": [
        "#Add column for mean G+/- and xG+/-\n",
        "G_mean = skater_SH_totals['G+/-'].mean()\n",
        "xG_mean = skater_SH_totals['xG+/-'].mean()\n",
        "#G_mean\n",
        "#xG_mean"
      ],
      "metadata": {
        "id": "Bju7HddvqTvr"
      },
      "execution_count": 14,
      "outputs": []
    },
    {
      "cell_type": "code",
      "source": [
        "#Add column for stats above average for G+/- and xG+/-\n",
        "skater_SH_totals['GAA'] = skater_SH_totals['G+/-'] - G_mean\n",
        "skater_SH_totals['xGAA'] = skater_SH_totals['xG+/-'] - xG_mean\n",
        "#skater_SH_totals"
      ],
      "metadata": {
        "id": "mrL1ppwLsC8H"
      },
      "execution_count": 15,
      "outputs": []
    },
    {
      "cell_type": "code",
      "source": [
        "skater_SH_totals = skater_SH_totals.drop(columns = ['xGF%','xGF','xGA','xG+/-','xGAA'])\n",
        "#skater_SH_totals"
      ],
      "metadata": {
        "id": "Ntu31okTsSnY"
      },
      "execution_count": 16,
      "outputs": []
    },
    {
      "cell_type": "code",
      "source": [
        "#Import Player Box Stats\n",
        "skater_box_totals_raw = pd.read_csv('https://raw.githubusercontent.com/danmartin25/Hockey_Model/main/Player%20Stats%20Box.csv')\n",
        "#print(skater_box_totals_raw)\n",
        "#skater_box_totals_raw.head()"
      ],
      "metadata": {
        "id": "BaXHcJgmH9KX"
      },
      "execution_count": 17,
      "outputs": []
    },
    {
      "cell_type": "code",
      "source": [
        "#Reduce Data Stats\n",
        "skater_box_totals = skater_box_totals_raw.loc[:,['Player','Season','Team','Position','GP','TOI','G','A1','A2','Points']]\n",
        "#skater_box_totals.head()"
      ],
      "metadata": {
        "id": "vKYmDtckKao9"
      },
      "execution_count": 18,
      "outputs": []
    },
    {
      "cell_type": "code",
      "source": [
        "#Look at positions to get correct F/D average points\n",
        "#print(skater_box_totals['Position'].unique())\n",
        "#print(skater_box_totals.count())\n",
        "\n",
        "forwards_table = skater_box_totals.loc[(skater_box_totals.Position == \"L\") | (skater_box_totals.Position == \"C\") | (skater_box_totals.Position == \"C/L\") | (skater_box_totals.Position == \"R\") | (skater_box_totals.Position == \"L/R\") | (skater_box_totals.Position == \"C/R\")]\n",
        "#forwards_table.head(10)\n",
        "#print(forwards_table.count())\n",
        "\n",
        "defensemen_table = skater_box_totals.loc[(skater_box_totals.Position == \"D\") | (skater_box_totals.Position == \"D/L\")]\n",
        "#defensemen_table.head(10)\n",
        "#print(defensemen_table.count())"
      ],
      "metadata": {
        "id": "U1d8ca9ygGSQ"
      },
      "execution_count": 19,
      "outputs": []
    },
    {
      "cell_type": "code",
      "source": [
        "#Get Mean of Points\n",
        "Points_mean = skater_box_totals['Points'].mean()\n",
        "#print(Points_mean)\n",
        "\n",
        "Forwards_mean = forwards_table['Points'].mean()\n",
        "#print(Forwards_mean)\n",
        "\n",
        "Defensemen_mean = defensemen_table['Points'].mean()\n",
        "#print(Defensemen_mean)"
      ],
      "metadata": {
        "id": "OOnI4shJOgAt"
      },
      "execution_count": 20,
      "outputs": []
    },
    {
      "cell_type": "code",
      "source": [
        "#Get PAA\n",
        "#skater_box_totals['PAA'] = skater_box_totals['Points'] - Points_mean\n",
        "#skater_box_totals\n",
        "\n",
        "#Get PAA for Fwds and Dmen and combine\n",
        "\n",
        "forwards_table['PAA'] = forwards_table['Points'] - Forwards_mean\n",
        "forwards_table.head(10)\n",
        "\n",
        "defensemen_table['PAA'] = defensemen_table['Points'] - Defensemen_mean\n",
        "defensemen_table.head(10)\n",
        "\n",
        "\n",
        "#Add dataframes back together and sort again\n",
        "\n",
        "concat_frames = [forwards_table, defensemen_table]\n",
        "skater_box_totals = pd.concat(concat_frames)\n",
        "skater_box_totals = skater_box_totals.sort_index()\n",
        "#skater_box_totals.head(10)"
      ],
      "metadata": {
        "colab": {
          "base_uri": "https://localhost:8080/"
        },
        "id": "Xcp8IH20RZGj",
        "outputId": "480b9253-d2b0-47eb-a015-5d1e46bbb701"
      },
      "execution_count": 21,
      "outputs": [
        {
          "output_type": "stream",
          "name": "stderr",
          "text": [
            "/usr/local/lib/python3.7/dist-packages/ipykernel_launcher.py:7: SettingWithCopyWarning: \n",
            "A value is trying to be set on a copy of a slice from a DataFrame.\n",
            "Try using .loc[row_indexer,col_indexer] = value instead\n",
            "\n",
            "See the caveats in the documentation: https://pandas.pydata.org/pandas-docs/stable/user_guide/indexing.html#returning-a-view-versus-a-copy\n",
            "  import sys\n",
            "/usr/local/lib/python3.7/dist-packages/ipykernel_launcher.py:10: SettingWithCopyWarning: \n",
            "A value is trying to be set on a copy of a slice from a DataFrame.\n",
            "Try using .loc[row_indexer,col_indexer] = value instead\n",
            "\n",
            "See the caveats in the documentation: https://pandas.pydata.org/pandas-docs/stable/user_guide/indexing.html#returning-a-view-versus-a-copy\n",
            "  # Remove the CWD from sys.path while we load stuff.\n"
          ]
        }
      ]
    },
    {
      "cell_type": "code",
      "source": [
        "#Here's where problem is occuring when we combine the tables we're ending up with for example ekblad stats being repeated numerous times\n",
        "#combined_player_df = pd.merge(skater_EV_totals, skater_PP_totals, how=\"left\", on=[\"Player\", \"Player\"])\n",
        "#combined_player_df = skater_EV_totals.merge(skater_PP_totals, on = 'Player', how = 'left')\n",
        "#combined_player_df.head(20)\n",
        "\n",
        "combined_player_df = pd.concat([skater_EV_totals,skater_PP_totals], axis='columns')\n",
        "combined_player_df"
      ],
      "metadata": {
        "id": "MGH26r0V-aBu",
        "outputId": "e8c246a7-9a69-4c1f-a4ba-9e2a215453a7",
        "colab": {
          "base_uri": "https://localhost:8080/",
          "height": 424
        }
      },
      "execution_count": 25,
      "outputs": [
        {
          "output_type": "execute_result",
          "data": {
            "text/plain": [
              "                 Player  Season  Team  Position  GP      TOI    GF%   xGF%  \\\n",
              "0            A.J. Greer   21-22   N.J         L   9    70.45  50.50  58.74   \n",
              "1          Aaron Ekblad   19-20   FLA         D  67  1220.55  56.75  50.83   \n",
              "2          Aaron Ekblad   20-21   FLA         D  35   603.07  55.98  55.36   \n",
              "3          Aaron Ekblad   21-22   FLA         D  61  1047.80  63.35  59.01   \n",
              "4            Aaron Ness   19-20   ARI         D  24   289.15  49.44  50.87   \n",
              "...                 ...     ...   ...       ...  ..      ...    ...    ...   \n",
              "2650        Zdeno Chara   19-20   BOS         D  68  1166.42  62.20  50.51   \n",
              "2651        Zdeno Chara   20-21   WSH         D  55   813.33  51.49  51.79   \n",
              "2652        Zdeno Chara   21-22   NYI         D  72  1191.52  53.26  46.08   \n",
              "2653  Zemgus Girgensons   19-20   BUF         C  69   783.73  45.67  49.54   \n",
              "2654  Zemgus Girgensons   21-22   BUF       C/L  56   668.30  44.00  45.90   \n",
              "\n",
              "         GF     GA  ...  Season  Team  Position    GP     TOI    GF%     GF  \\\n",
              "0      3.01   2.95  ...   19-20   FLA         D  67.0   95.90  92.22  10.31   \n",
              "1     69.36  52.87  ...   20-21   FLA         D  35.0  132.75  91.82  21.66   \n",
              "2     22.29  17.53  ...   21-22   FLA         D  61.0  214.78  92.51  35.45   \n",
              "3     66.82  38.66  ...   19-20   CHI         D  41.0   87.02  88.20   7.40   \n",
              "4     12.82  13.11  ...   20-21   CHI         D  35.0  118.65  82.03  13.47   \n",
              "...     ...    ...  ...     ...   ...       ...   ...     ...    ...    ...   \n",
              "2650  57.18  34.75  ...     NaN   NaN       NaN   NaN     NaN    NaN    NaN   \n",
              "2651  35.05  33.02  ...     NaN   NaN       NaN   NaN     NaN    NaN    NaN   \n",
              "2652  48.37  42.45  ...     NaN   NaN       NaN   NaN     NaN    NaN    NaN   \n",
              "2653  22.91  27.25  ...     NaN   NaN       NaN   NaN     NaN    NaN    NaN   \n",
              "2654  18.86  24.00  ...     NaN   NaN       NaN   NaN     NaN    NaN    NaN   \n",
              "\n",
              "        GA   G+/-        GAA  \n",
              "0     0.87   9.44  -2.792102  \n",
              "1     1.93  19.73   7.497898  \n",
              "2     2.87  32.58  20.347898  \n",
              "3     0.99   6.41  -5.822102  \n",
              "4     2.95  10.52  -1.712102  \n",
              "...    ...    ...        ...  \n",
              "2650   NaN    NaN        NaN  \n",
              "2651   NaN    NaN        NaN  \n",
              "2652   NaN    NaN        NaN  \n",
              "2653   NaN    NaN        NaN  \n",
              "2654   NaN    NaN        NaN  \n",
              "\n",
              "[2655 rows x 25 columns]"
            ],
            "text/html": [
              "\n",
              "  <div id=\"df-e4ef1203-7218-415a-9219-626dd039bf89\">\n",
              "    <div class=\"colab-df-container\">\n",
              "      <div>\n",
              "<style scoped>\n",
              "    .dataframe tbody tr th:only-of-type {\n",
              "        vertical-align: middle;\n",
              "    }\n",
              "\n",
              "    .dataframe tbody tr th {\n",
              "        vertical-align: top;\n",
              "    }\n",
              "\n",
              "    .dataframe thead th {\n",
              "        text-align: right;\n",
              "    }\n",
              "</style>\n",
              "<table border=\"1\" class=\"dataframe\">\n",
              "  <thead>\n",
              "    <tr style=\"text-align: right;\">\n",
              "      <th></th>\n",
              "      <th>Player</th>\n",
              "      <th>Season</th>\n",
              "      <th>Team</th>\n",
              "      <th>Position</th>\n",
              "      <th>GP</th>\n",
              "      <th>TOI</th>\n",
              "      <th>GF%</th>\n",
              "      <th>xGF%</th>\n",
              "      <th>GF</th>\n",
              "      <th>GA</th>\n",
              "      <th>...</th>\n",
              "      <th>Season</th>\n",
              "      <th>Team</th>\n",
              "      <th>Position</th>\n",
              "      <th>GP</th>\n",
              "      <th>TOI</th>\n",
              "      <th>GF%</th>\n",
              "      <th>GF</th>\n",
              "      <th>GA</th>\n",
              "      <th>G+/-</th>\n",
              "      <th>GAA</th>\n",
              "    </tr>\n",
              "  </thead>\n",
              "  <tbody>\n",
              "    <tr>\n",
              "      <th>0</th>\n",
              "      <td>A.J. Greer</td>\n",
              "      <td>21-22</td>\n",
              "      <td>N.J</td>\n",
              "      <td>L</td>\n",
              "      <td>9</td>\n",
              "      <td>70.45</td>\n",
              "      <td>50.50</td>\n",
              "      <td>58.74</td>\n",
              "      <td>3.01</td>\n",
              "      <td>2.95</td>\n",
              "      <td>...</td>\n",
              "      <td>19-20</td>\n",
              "      <td>FLA</td>\n",
              "      <td>D</td>\n",
              "      <td>67.0</td>\n",
              "      <td>95.90</td>\n",
              "      <td>92.22</td>\n",
              "      <td>10.31</td>\n",
              "      <td>0.87</td>\n",
              "      <td>9.44</td>\n",
              "      <td>-2.792102</td>\n",
              "    </tr>\n",
              "    <tr>\n",
              "      <th>1</th>\n",
              "      <td>Aaron Ekblad</td>\n",
              "      <td>19-20</td>\n",
              "      <td>FLA</td>\n",
              "      <td>D</td>\n",
              "      <td>67</td>\n",
              "      <td>1220.55</td>\n",
              "      <td>56.75</td>\n",
              "      <td>50.83</td>\n",
              "      <td>69.36</td>\n",
              "      <td>52.87</td>\n",
              "      <td>...</td>\n",
              "      <td>20-21</td>\n",
              "      <td>FLA</td>\n",
              "      <td>D</td>\n",
              "      <td>35.0</td>\n",
              "      <td>132.75</td>\n",
              "      <td>91.82</td>\n",
              "      <td>21.66</td>\n",
              "      <td>1.93</td>\n",
              "      <td>19.73</td>\n",
              "      <td>7.497898</td>\n",
              "    </tr>\n",
              "    <tr>\n",
              "      <th>2</th>\n",
              "      <td>Aaron Ekblad</td>\n",
              "      <td>20-21</td>\n",
              "      <td>FLA</td>\n",
              "      <td>D</td>\n",
              "      <td>35</td>\n",
              "      <td>603.07</td>\n",
              "      <td>55.98</td>\n",
              "      <td>55.36</td>\n",
              "      <td>22.29</td>\n",
              "      <td>17.53</td>\n",
              "      <td>...</td>\n",
              "      <td>21-22</td>\n",
              "      <td>FLA</td>\n",
              "      <td>D</td>\n",
              "      <td>61.0</td>\n",
              "      <td>214.78</td>\n",
              "      <td>92.51</td>\n",
              "      <td>35.45</td>\n",
              "      <td>2.87</td>\n",
              "      <td>32.58</td>\n",
              "      <td>20.347898</td>\n",
              "    </tr>\n",
              "    <tr>\n",
              "      <th>3</th>\n",
              "      <td>Aaron Ekblad</td>\n",
              "      <td>21-22</td>\n",
              "      <td>FLA</td>\n",
              "      <td>D</td>\n",
              "      <td>61</td>\n",
              "      <td>1047.80</td>\n",
              "      <td>63.35</td>\n",
              "      <td>59.01</td>\n",
              "      <td>66.82</td>\n",
              "      <td>38.66</td>\n",
              "      <td>...</td>\n",
              "      <td>19-20</td>\n",
              "      <td>CHI</td>\n",
              "      <td>D</td>\n",
              "      <td>41.0</td>\n",
              "      <td>87.02</td>\n",
              "      <td>88.20</td>\n",
              "      <td>7.40</td>\n",
              "      <td>0.99</td>\n",
              "      <td>6.41</td>\n",
              "      <td>-5.822102</td>\n",
              "    </tr>\n",
              "    <tr>\n",
              "      <th>4</th>\n",
              "      <td>Aaron Ness</td>\n",
              "      <td>19-20</td>\n",
              "      <td>ARI</td>\n",
              "      <td>D</td>\n",
              "      <td>24</td>\n",
              "      <td>289.15</td>\n",
              "      <td>49.44</td>\n",
              "      <td>50.87</td>\n",
              "      <td>12.82</td>\n",
              "      <td>13.11</td>\n",
              "      <td>...</td>\n",
              "      <td>20-21</td>\n",
              "      <td>CHI</td>\n",
              "      <td>D</td>\n",
              "      <td>35.0</td>\n",
              "      <td>118.65</td>\n",
              "      <td>82.03</td>\n",
              "      <td>13.47</td>\n",
              "      <td>2.95</td>\n",
              "      <td>10.52</td>\n",
              "      <td>-1.712102</td>\n",
              "    </tr>\n",
              "    <tr>\n",
              "      <th>...</th>\n",
              "      <td>...</td>\n",
              "      <td>...</td>\n",
              "      <td>...</td>\n",
              "      <td>...</td>\n",
              "      <td>...</td>\n",
              "      <td>...</td>\n",
              "      <td>...</td>\n",
              "      <td>...</td>\n",
              "      <td>...</td>\n",
              "      <td>...</td>\n",
              "      <td>...</td>\n",
              "      <td>...</td>\n",
              "      <td>...</td>\n",
              "      <td>...</td>\n",
              "      <td>...</td>\n",
              "      <td>...</td>\n",
              "      <td>...</td>\n",
              "      <td>...</td>\n",
              "      <td>...</td>\n",
              "      <td>...</td>\n",
              "      <td>...</td>\n",
              "    </tr>\n",
              "    <tr>\n",
              "      <th>2650</th>\n",
              "      <td>Zdeno Chara</td>\n",
              "      <td>19-20</td>\n",
              "      <td>BOS</td>\n",
              "      <td>D</td>\n",
              "      <td>68</td>\n",
              "      <td>1166.42</td>\n",
              "      <td>62.20</td>\n",
              "      <td>50.51</td>\n",
              "      <td>57.18</td>\n",
              "      <td>34.75</td>\n",
              "      <td>...</td>\n",
              "      <td>NaN</td>\n",
              "      <td>NaN</td>\n",
              "      <td>NaN</td>\n",
              "      <td>NaN</td>\n",
              "      <td>NaN</td>\n",
              "      <td>NaN</td>\n",
              "      <td>NaN</td>\n",
              "      <td>NaN</td>\n",
              "      <td>NaN</td>\n",
              "      <td>NaN</td>\n",
              "    </tr>\n",
              "    <tr>\n",
              "      <th>2651</th>\n",
              "      <td>Zdeno Chara</td>\n",
              "      <td>20-21</td>\n",
              "      <td>WSH</td>\n",
              "      <td>D</td>\n",
              "      <td>55</td>\n",
              "      <td>813.33</td>\n",
              "      <td>51.49</td>\n",
              "      <td>51.79</td>\n",
              "      <td>35.05</td>\n",
              "      <td>33.02</td>\n",
              "      <td>...</td>\n",
              "      <td>NaN</td>\n",
              "      <td>NaN</td>\n",
              "      <td>NaN</td>\n",
              "      <td>NaN</td>\n",
              "      <td>NaN</td>\n",
              "      <td>NaN</td>\n",
              "      <td>NaN</td>\n",
              "      <td>NaN</td>\n",
              "      <td>NaN</td>\n",
              "      <td>NaN</td>\n",
              "    </tr>\n",
              "    <tr>\n",
              "      <th>2652</th>\n",
              "      <td>Zdeno Chara</td>\n",
              "      <td>21-22</td>\n",
              "      <td>NYI</td>\n",
              "      <td>D</td>\n",
              "      <td>72</td>\n",
              "      <td>1191.52</td>\n",
              "      <td>53.26</td>\n",
              "      <td>46.08</td>\n",
              "      <td>48.37</td>\n",
              "      <td>42.45</td>\n",
              "      <td>...</td>\n",
              "      <td>NaN</td>\n",
              "      <td>NaN</td>\n",
              "      <td>NaN</td>\n",
              "      <td>NaN</td>\n",
              "      <td>NaN</td>\n",
              "      <td>NaN</td>\n",
              "      <td>NaN</td>\n",
              "      <td>NaN</td>\n",
              "      <td>NaN</td>\n",
              "      <td>NaN</td>\n",
              "    </tr>\n",
              "    <tr>\n",
              "      <th>2653</th>\n",
              "      <td>Zemgus Girgensons</td>\n",
              "      <td>19-20</td>\n",
              "      <td>BUF</td>\n",
              "      <td>C</td>\n",
              "      <td>69</td>\n",
              "      <td>783.73</td>\n",
              "      <td>45.67</td>\n",
              "      <td>49.54</td>\n",
              "      <td>22.91</td>\n",
              "      <td>27.25</td>\n",
              "      <td>...</td>\n",
              "      <td>NaN</td>\n",
              "      <td>NaN</td>\n",
              "      <td>NaN</td>\n",
              "      <td>NaN</td>\n",
              "      <td>NaN</td>\n",
              "      <td>NaN</td>\n",
              "      <td>NaN</td>\n",
              "      <td>NaN</td>\n",
              "      <td>NaN</td>\n",
              "      <td>NaN</td>\n",
              "    </tr>\n",
              "    <tr>\n",
              "      <th>2654</th>\n",
              "      <td>Zemgus Girgensons</td>\n",
              "      <td>21-22</td>\n",
              "      <td>BUF</td>\n",
              "      <td>C/L</td>\n",
              "      <td>56</td>\n",
              "      <td>668.30</td>\n",
              "      <td>44.00</td>\n",
              "      <td>45.90</td>\n",
              "      <td>18.86</td>\n",
              "      <td>24.00</td>\n",
              "      <td>...</td>\n",
              "      <td>NaN</td>\n",
              "      <td>NaN</td>\n",
              "      <td>NaN</td>\n",
              "      <td>NaN</td>\n",
              "      <td>NaN</td>\n",
              "      <td>NaN</td>\n",
              "      <td>NaN</td>\n",
              "      <td>NaN</td>\n",
              "      <td>NaN</td>\n",
              "      <td>NaN</td>\n",
              "    </tr>\n",
              "  </tbody>\n",
              "</table>\n",
              "<p>2655 rows × 25 columns</p>\n",
              "</div>\n",
              "      <button class=\"colab-df-convert\" onclick=\"convertToInteractive('df-e4ef1203-7218-415a-9219-626dd039bf89')\"\n",
              "              title=\"Convert this dataframe to an interactive table.\"\n",
              "              style=\"display:none;\">\n",
              "        \n",
              "  <svg xmlns=\"http://www.w3.org/2000/svg\" height=\"24px\"viewBox=\"0 0 24 24\"\n",
              "       width=\"24px\">\n",
              "    <path d=\"M0 0h24v24H0V0z\" fill=\"none\"/>\n",
              "    <path d=\"M18.56 5.44l.94 2.06.94-2.06 2.06-.94-2.06-.94-.94-2.06-.94 2.06-2.06.94zm-11 1L8.5 8.5l.94-2.06 2.06-.94-2.06-.94L8.5 2.5l-.94 2.06-2.06.94zm10 10l.94 2.06.94-2.06 2.06-.94-2.06-.94-.94-2.06-.94 2.06-2.06.94z\"/><path d=\"M17.41 7.96l-1.37-1.37c-.4-.4-.92-.59-1.43-.59-.52 0-1.04.2-1.43.59L10.3 9.45l-7.72 7.72c-.78.78-.78 2.05 0 2.83L4 21.41c.39.39.9.59 1.41.59.51 0 1.02-.2 1.41-.59l7.78-7.78 2.81-2.81c.8-.78.8-2.07 0-2.86zM5.41 20L4 18.59l7.72-7.72 1.47 1.35L5.41 20z\"/>\n",
              "  </svg>\n",
              "      </button>\n",
              "      \n",
              "  <style>\n",
              "    .colab-df-container {\n",
              "      display:flex;\n",
              "      flex-wrap:wrap;\n",
              "      gap: 12px;\n",
              "    }\n",
              "\n",
              "    .colab-df-convert {\n",
              "      background-color: #E8F0FE;\n",
              "      border: none;\n",
              "      border-radius: 50%;\n",
              "      cursor: pointer;\n",
              "      display: none;\n",
              "      fill: #1967D2;\n",
              "      height: 32px;\n",
              "      padding: 0 0 0 0;\n",
              "      width: 32px;\n",
              "    }\n",
              "\n",
              "    .colab-df-convert:hover {\n",
              "      background-color: #E2EBFA;\n",
              "      box-shadow: 0px 1px 2px rgba(60, 64, 67, 0.3), 0px 1px 3px 1px rgba(60, 64, 67, 0.15);\n",
              "      fill: #174EA6;\n",
              "    }\n",
              "\n",
              "    [theme=dark] .colab-df-convert {\n",
              "      background-color: #3B4455;\n",
              "      fill: #D2E3FC;\n",
              "    }\n",
              "\n",
              "    [theme=dark] .colab-df-convert:hover {\n",
              "      background-color: #434B5C;\n",
              "      box-shadow: 0px 1px 3px 1px rgba(0, 0, 0, 0.15);\n",
              "      filter: drop-shadow(0px 1px 2px rgba(0, 0, 0, 0.3));\n",
              "      fill: #FFFFFF;\n",
              "    }\n",
              "  </style>\n",
              "\n",
              "      <script>\n",
              "        const buttonEl =\n",
              "          document.querySelector('#df-e4ef1203-7218-415a-9219-626dd039bf89 button.colab-df-convert');\n",
              "        buttonEl.style.display =\n",
              "          google.colab.kernel.accessAllowed ? 'block' : 'none';\n",
              "\n",
              "        async function convertToInteractive(key) {\n",
              "          const element = document.querySelector('#df-e4ef1203-7218-415a-9219-626dd039bf89');\n",
              "          const dataTable =\n",
              "            await google.colab.kernel.invokeFunction('convertToInteractive',\n",
              "                                                     [key], {});\n",
              "          if (!dataTable) return;\n",
              "\n",
              "          const docLinkHtml = 'Like what you see? Visit the ' +\n",
              "            '<a target=\"_blank\" href=https://colab.research.google.com/notebooks/data_table.ipynb>data table notebook</a>'\n",
              "            + ' to learn more about interactive tables.';\n",
              "          element.innerHTML = '';\n",
              "          dataTable['output_type'] = 'display_data';\n",
              "          await google.colab.output.renderOutput(dataTable, element);\n",
              "          const docLink = document.createElement('div');\n",
              "          docLink.innerHTML = docLinkHtml;\n",
              "          element.appendChild(docLink);\n",
              "        }\n",
              "      </script>\n",
              "    </div>\n",
              "  </div>\n",
              "  "
            ]
          },
          "metadata": {},
          "execution_count": 25
        }
      ]
    },
    {
      "cell_type": "code",
      "source": [
        "#Drop duplicate rows\n",
        "#combined_player_df = combined_player_df.drop_duplicates(subset=['Player','GP_x'])\n",
        "#combined_player_df.head(20)"
      ],
      "metadata": {
        "id": "g3fgpcFvxFZh"
      },
      "execution_count": null,
      "outputs": []
    },
    {
      "cell_type": "code",
      "source": [
        "combined_player_df = combined_player_df.drop(columns = ['GF%_x','GF_x','GA_x','Season_y','Team_y','Position_y','GP_y','GF%_y','GF_y','GA_y','G+/-_y'])\n",
        "combined_player_df"
      ],
      "metadata": {
        "id": "AnoRVrSbwGgT",
        "outputId": "41e79081-b3c8-456c-8303-8aaf4c69a9e7",
        "colab": {
          "base_uri": "https://localhost:8080/",
          "height": 328
        }
      },
      "execution_count": 26,
      "outputs": [
        {
          "output_type": "error",
          "ename": "KeyError",
          "evalue": "ignored",
          "traceback": [
            "\u001b[0;31m---------------------------------------------------------------------------\u001b[0m",
            "\u001b[0;31mKeyError\u001b[0m                                  Traceback (most recent call last)",
            "\u001b[0;32m<ipython-input-26-1c3a16478157>\u001b[0m in \u001b[0;36m<module>\u001b[0;34m()\u001b[0m\n\u001b[0;32m----> 1\u001b[0;31m \u001b[0mcombined_player_df\u001b[0m \u001b[0;34m=\u001b[0m \u001b[0mcombined_player_df\u001b[0m\u001b[0;34m.\u001b[0m\u001b[0mdrop\u001b[0m\u001b[0;34m(\u001b[0m\u001b[0mcolumns\u001b[0m \u001b[0;34m=\u001b[0m \u001b[0;34m[\u001b[0m\u001b[0;34m'GF%_x'\u001b[0m\u001b[0;34m,\u001b[0m\u001b[0;34m'GF_x'\u001b[0m\u001b[0;34m,\u001b[0m\u001b[0;34m'GA_x'\u001b[0m\u001b[0;34m,\u001b[0m\u001b[0;34m'Season_y'\u001b[0m\u001b[0;34m,\u001b[0m\u001b[0;34m'Team_y'\u001b[0m\u001b[0;34m,\u001b[0m\u001b[0;34m'Position_y'\u001b[0m\u001b[0;34m,\u001b[0m\u001b[0;34m'GP_y'\u001b[0m\u001b[0;34m,\u001b[0m\u001b[0;34m'GF%_y'\u001b[0m\u001b[0;34m,\u001b[0m\u001b[0;34m'GF_y'\u001b[0m\u001b[0;34m,\u001b[0m\u001b[0;34m'GA_y'\u001b[0m\u001b[0;34m,\u001b[0m\u001b[0;34m'G+/-_y'\u001b[0m\u001b[0;34m]\u001b[0m\u001b[0;34m)\u001b[0m\u001b[0;34m\u001b[0m\u001b[0;34m\u001b[0m\u001b[0m\n\u001b[0m\u001b[1;32m      2\u001b[0m \u001b[0mcombined_player_df\u001b[0m\u001b[0;34m\u001b[0m\u001b[0;34m\u001b[0m\u001b[0m\n",
            "\u001b[0;32m/usr/local/lib/python3.7/dist-packages/pandas/util/_decorators.py\u001b[0m in \u001b[0;36mwrapper\u001b[0;34m(*args, **kwargs)\u001b[0m\n\u001b[1;32m    309\u001b[0m                     \u001b[0mstacklevel\u001b[0m\u001b[0;34m=\u001b[0m\u001b[0mstacklevel\u001b[0m\u001b[0;34m,\u001b[0m\u001b[0;34m\u001b[0m\u001b[0;34m\u001b[0m\u001b[0m\n\u001b[1;32m    310\u001b[0m                 )\n\u001b[0;32m--> 311\u001b[0;31m             \u001b[0;32mreturn\u001b[0m \u001b[0mfunc\u001b[0m\u001b[0;34m(\u001b[0m\u001b[0;34m*\u001b[0m\u001b[0margs\u001b[0m\u001b[0;34m,\u001b[0m \u001b[0;34m**\u001b[0m\u001b[0mkwargs\u001b[0m\u001b[0;34m)\u001b[0m\u001b[0;34m\u001b[0m\u001b[0;34m\u001b[0m\u001b[0m\n\u001b[0m\u001b[1;32m    312\u001b[0m \u001b[0;34m\u001b[0m\u001b[0m\n\u001b[1;32m    313\u001b[0m         \u001b[0;32mreturn\u001b[0m \u001b[0mwrapper\u001b[0m\u001b[0;34m\u001b[0m\u001b[0;34m\u001b[0m\u001b[0m\n",
            "\u001b[0;32m/usr/local/lib/python3.7/dist-packages/pandas/core/frame.py\u001b[0m in \u001b[0;36mdrop\u001b[0;34m(self, labels, axis, index, columns, level, inplace, errors)\u001b[0m\n\u001b[1;32m   4911\u001b[0m             \u001b[0mlevel\u001b[0m\u001b[0;34m=\u001b[0m\u001b[0mlevel\u001b[0m\u001b[0;34m,\u001b[0m\u001b[0;34m\u001b[0m\u001b[0;34m\u001b[0m\u001b[0m\n\u001b[1;32m   4912\u001b[0m             \u001b[0minplace\u001b[0m\u001b[0;34m=\u001b[0m\u001b[0minplace\u001b[0m\u001b[0;34m,\u001b[0m\u001b[0;34m\u001b[0m\u001b[0;34m\u001b[0m\u001b[0m\n\u001b[0;32m-> 4913\u001b[0;31m             \u001b[0merrors\u001b[0m\u001b[0;34m=\u001b[0m\u001b[0merrors\u001b[0m\u001b[0;34m,\u001b[0m\u001b[0;34m\u001b[0m\u001b[0;34m\u001b[0m\u001b[0m\n\u001b[0m\u001b[1;32m   4914\u001b[0m         )\n\u001b[1;32m   4915\u001b[0m \u001b[0;34m\u001b[0m\u001b[0m\n",
            "\u001b[0;32m/usr/local/lib/python3.7/dist-packages/pandas/core/generic.py\u001b[0m in \u001b[0;36mdrop\u001b[0;34m(self, labels, axis, index, columns, level, inplace, errors)\u001b[0m\n\u001b[1;32m   4148\u001b[0m         \u001b[0;32mfor\u001b[0m \u001b[0maxis\u001b[0m\u001b[0;34m,\u001b[0m \u001b[0mlabels\u001b[0m \u001b[0;32min\u001b[0m \u001b[0maxes\u001b[0m\u001b[0;34m.\u001b[0m\u001b[0mitems\u001b[0m\u001b[0;34m(\u001b[0m\u001b[0;34m)\u001b[0m\u001b[0;34m:\u001b[0m\u001b[0;34m\u001b[0m\u001b[0;34m\u001b[0m\u001b[0m\n\u001b[1;32m   4149\u001b[0m             \u001b[0;32mif\u001b[0m \u001b[0mlabels\u001b[0m \u001b[0;32mis\u001b[0m \u001b[0;32mnot\u001b[0m \u001b[0;32mNone\u001b[0m\u001b[0;34m:\u001b[0m\u001b[0;34m\u001b[0m\u001b[0;34m\u001b[0m\u001b[0m\n\u001b[0;32m-> 4150\u001b[0;31m                 \u001b[0mobj\u001b[0m \u001b[0;34m=\u001b[0m \u001b[0mobj\u001b[0m\u001b[0;34m.\u001b[0m\u001b[0m_drop_axis\u001b[0m\u001b[0;34m(\u001b[0m\u001b[0mlabels\u001b[0m\u001b[0;34m,\u001b[0m \u001b[0maxis\u001b[0m\u001b[0;34m,\u001b[0m \u001b[0mlevel\u001b[0m\u001b[0;34m=\u001b[0m\u001b[0mlevel\u001b[0m\u001b[0;34m,\u001b[0m \u001b[0merrors\u001b[0m\u001b[0;34m=\u001b[0m\u001b[0merrors\u001b[0m\u001b[0;34m)\u001b[0m\u001b[0;34m\u001b[0m\u001b[0;34m\u001b[0m\u001b[0m\n\u001b[0m\u001b[1;32m   4151\u001b[0m \u001b[0;34m\u001b[0m\u001b[0m\n\u001b[1;32m   4152\u001b[0m         \u001b[0;32mif\u001b[0m \u001b[0minplace\u001b[0m\u001b[0;34m:\u001b[0m\u001b[0;34m\u001b[0m\u001b[0;34m\u001b[0m\u001b[0m\n",
            "\u001b[0;32m/usr/local/lib/python3.7/dist-packages/pandas/core/generic.py\u001b[0m in \u001b[0;36m_drop_axis\u001b[0;34m(self, labels, axis, level, errors)\u001b[0m\n\u001b[1;32m   4212\u001b[0m                 \u001b[0mlabels_missing\u001b[0m \u001b[0;34m=\u001b[0m \u001b[0;34m(\u001b[0m\u001b[0maxis\u001b[0m\u001b[0;34m.\u001b[0m\u001b[0mget_indexer_for\u001b[0m\u001b[0;34m(\u001b[0m\u001b[0mlabels\u001b[0m\u001b[0;34m)\u001b[0m \u001b[0;34m==\u001b[0m \u001b[0;34m-\u001b[0m\u001b[0;36m1\u001b[0m\u001b[0;34m)\u001b[0m\u001b[0;34m.\u001b[0m\u001b[0many\u001b[0m\u001b[0;34m(\u001b[0m\u001b[0;34m)\u001b[0m\u001b[0;34m\u001b[0m\u001b[0;34m\u001b[0m\u001b[0m\n\u001b[1;32m   4213\u001b[0m                 \u001b[0;32mif\u001b[0m \u001b[0merrors\u001b[0m \u001b[0;34m==\u001b[0m \u001b[0;34m\"raise\"\u001b[0m \u001b[0;32mand\u001b[0m \u001b[0mlabels_missing\u001b[0m\u001b[0;34m:\u001b[0m\u001b[0;34m\u001b[0m\u001b[0;34m\u001b[0m\u001b[0m\n\u001b[0;32m-> 4214\u001b[0;31m                     \u001b[0;32mraise\u001b[0m \u001b[0mKeyError\u001b[0m\u001b[0;34m(\u001b[0m\u001b[0;34mf\"{labels} not found in axis\"\u001b[0m\u001b[0;34m)\u001b[0m\u001b[0;34m\u001b[0m\u001b[0;34m\u001b[0m\u001b[0m\n\u001b[0m\u001b[1;32m   4215\u001b[0m \u001b[0;34m\u001b[0m\u001b[0m\n\u001b[1;32m   4216\u001b[0m             \u001b[0mslicer\u001b[0m \u001b[0;34m=\u001b[0m \u001b[0;34m[\u001b[0m\u001b[0mslice\u001b[0m\u001b[0;34m(\u001b[0m\u001b[0;32mNone\u001b[0m\u001b[0;34m)\u001b[0m\u001b[0;34m]\u001b[0m \u001b[0;34m*\u001b[0m \u001b[0mself\u001b[0m\u001b[0;34m.\u001b[0m\u001b[0mndim\u001b[0m\u001b[0;34m\u001b[0m\u001b[0;34m\u001b[0m\u001b[0m\n",
            "\u001b[0;31mKeyError\u001b[0m: \"['GF%_x' 'GF_x' 'GA_x' 'Season_y' 'Team_y' 'Position_y' 'GP_y' 'GF%_y'\\n 'GF_y' 'GA_y' 'G+/-_y'] not found in axis\""
          ]
        }
      ]
    },
    {
      "cell_type": "code",
      "source": [
        "#Merge EV,PP,SH tables together\n",
        "full_player_totals = pd.merge(combined_player_df, skater_SH_totals, how=\"left\", on=[\"Player\", \"Player\"])\n",
        "#full_player_totals.head(10)"
      ],
      "metadata": {
        "id": "Sd_CdiVh-6QR"
      },
      "execution_count": null,
      "outputs": []
    },
    {
      "cell_type": "code",
      "source": [
        "#Clean up data\n",
        "full_player_totals = full_player_totals.drop(columns = ['Season','Team','Position','GP','GF%','GF','GA','G+/-'])\n",
        "#full_player_totals.head(10)"
      ],
      "metadata": {
        "id": "-u0byvYSyo0v"
      },
      "execution_count": null,
      "outputs": []
    },
    {
      "cell_type": "code",
      "source": [
        "#Merge EV,PP,SH and Points tables together\n",
        "full_player_totals = pd.merge(full_player_totals, skater_box_totals, how=\"left\", on=[\"Player\", \"Player\"])\n",
        "full_player_totals.head(30)"
      ],
      "metadata": {
        "id": "tc-fJxp1sEu4"
      },
      "execution_count": null,
      "outputs": []
    },
    {
      "cell_type": "code",
      "source": [
        "combined_player_df = combined_player_df.drop_duplicates(subset=['Player','GP_x'])\n",
        "combined_player_df.head(20)"
      ],
      "metadata": {
        "id": "RFBbsrKwhyYe"
      },
      "execution_count": null,
      "outputs": []
    },
    {
      "cell_type": "code",
      "source": [
        "#Drop Repeated Columns\n",
        "full_player_totals = full_player_totals.drop(columns = ['Season','Team','Position','GP','G','A1','A2'])\n",
        "#full_player_totals.head(10)\n"
      ],
      "metadata": {
        "id": "rwivaMNuBK-X"
      },
      "execution_count": null,
      "outputs": []
    },
    {
      "cell_type": "code",
      "source": [
        "#Rename Columns\n",
        "full_player_totals = full_player_totals.rename(columns = {'Season_x':'Season','Team_x':'Team','Position_x':'Position','GP_x':'GP','TOI_x':'TOI_EV','G+/-_x':'G_EV','xG+/-':'xG_EV','TOI_x':'TOI_PP','GAA_x':'GAA_PP','TOI_x':'TOI_SH','GAA_y':'GAA_SH','TOI_y':'TOI'})\n",
        "#full_player_totals"
      ],
      "metadata": {
        "id": "cg9jg8NGCr_u"
      },
      "execution_count": null,
      "outputs": []
    },
    {
      "cell_type": "code",
      "source": [
        "#Replace NaN with 0\n",
        "full_player_totals = full_player_totals.replace(np.NaN, 0)\n",
        "#full_player_totals"
      ],
      "metadata": {
        "id": "dz-Y-NlF06nS"
      },
      "execution_count": null,
      "outputs": []
    },
    {
      "cell_type": "code",
      "source": [
        "#Import Goalie Data\n",
        "goalie_stats_raw = pd.read_csv('https://raw.githubusercontent.com/danmartin25/Hockey_Model/main/Goalie%20Stats.csv')\n",
        "#print(goalie_stats_raw)\n",
        "#goalie_stats_raw.head()"
      ],
      "metadata": {
        "id": "fggig3SI1Zig"
      },
      "execution_count": null,
      "outputs": []
    },
    {
      "cell_type": "code",
      "source": [
        "#Reduce Goalie Stats\n",
        "goalie_stats = goalie_stats_raw.loc[:,['Player','Season','Team','Position','GP','TOI','GA','Sv%','GSAx']]\n",
        "#goalie_stats.head()"
      ],
      "metadata": {
        "id": "kQa9H0cG_VOl"
      },
      "execution_count": null,
      "outputs": []
    },
    {
      "cell_type": "code",
      "source": [
        "#Add Active / Inactive Column to both data tables\n",
        "full_player_totals['A/I'] = 'Active'\n",
        "#full_player_totals"
      ],
      "metadata": {
        "id": "Z04aWgQyXNGs"
      },
      "execution_count": null,
      "outputs": []
    },
    {
      "cell_type": "code",
      "source": [
        "#Make a Data Table for each team\n",
        "Avalanche_skaters = full_player_totals.loc[(full_player_totals.Team == 'COL')]\n",
        "Avalanche_skaters"
      ],
      "metadata": {
        "id": "an8AclsZYCyS"
      },
      "execution_count": null,
      "outputs": []
    },
    {
      "cell_type": "code",
      "source": [
        "full_player_totals.head(30)"
      ],
      "metadata": {
        "id": "KEoAqA9oI1BT"
      },
      "execution_count": null,
      "outputs": []
    },
    {
      "cell_type": "code",
      "source": [
        "#Inspect Data\n",
        "full_player_totals.head(20)"
      ],
      "metadata": {
        "id": "jthSAaXqbx4R"
      },
      "execution_count": null,
      "outputs": []
    },
    {
      "cell_type": "code",
      "source": [
        "#skater_PP_totals_raw = pd.read_csv('https://raw.githubusercontent.com/danmartin25/Hockey_Model/main/PP%20On-Ice%20Rates.csv')\n",
        "#print(skater_PP_rates_raw)\n",
        "#skater_PP_rates_raw.head()"
      ],
      "metadata": {
        "id": "V97tFeoQhCcV"
      },
      "execution_count": null,
      "outputs": []
    },
    {
      "cell_type": "markdown",
      "source": [
        "**Stuff to Do Next - (have no more time, so quick thoughts that I have not checked, like the next one would be so easy to check if I had another 5 mins)**"
      ],
      "metadata": {
        "id": "7WEVx4JZwjUr"
      }
    },
    {
      "cell_type": "code",
      "source": [
        "#Are these right? duplicate naming issues for \"TOI_SH\" and no PP?\n",
        "full_player_totals.columns"
      ],
      "metadata": {
        "id": "aPdfhozmwnRl"
      },
      "execution_count": null,
      "outputs": []
    },
    {
      "cell_type": "markdown",
      "source": [
        "Need to create a dataframe for each team. Use the loc function on player table first to get all the players for one team. Then do the same thing with goalies. We will probably need to keep them seperate tables since they do not have similar variables\n",
        "\n",
        "Not necessary at this stage but eventually we are going to want to consolidate these code blocks. Ex, the code to create all of the team rosters should be in one block with no output. For now you can do 64 blocks (32 for skaters, 32 for goalies) and show output so we can see if there are any errors, but once we get past that stage we will comment out the output and put it all in one block. If we ever need to go back in check you just take out the '#' and run the code to see the output."
      ],
      "metadata": {
        "id": "5hzBsoEPxWBj"
      }
    },
    {
      "cell_type": "markdown",
      "source": [
        "Need to add a column for 'status'. I am thinking the two states we use are 'active' and 'inactive' for the starting lineups. Will be 18 skaters and 1 goalie when we update daily but doesnt matter now. Should put this in before all of the loc functions so it shows up for the team dataframes. Note: will have to be added to both the full_player_totals dataframe and the goalie_stats dataframe."
      ],
      "metadata": {
        "id": "hxkMS58ix0Iz"
      }
    },
    {
      "cell_type": "markdown",
      "source": [
        "Add folder in github for the csv's, update github links in code to pull data"
      ],
      "metadata": {
        "id": "I6NyHdz5zMqj"
      }
    }
  ]
}