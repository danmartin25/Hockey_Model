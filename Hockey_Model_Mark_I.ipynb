{
  "nbformat": 4,
  "nbformat_minor": 0,
  "metadata": {
    "colab": {
      "name": "Hockey Model Mark I.ipynb",
      "provenance": [],
      "collapsed_sections": [],
      "include_colab_link": true
    },
    "kernelspec": {
      "name": "python3",
      "display_name": "Python 3"
    },
    "language_info": {
      "name": "python"
    }
  },
  "cells": [
    {
      "cell_type": "markdown",
      "metadata": {
        "id": "view-in-github",
        "colab_type": "text"
      },
      "source": [
        "<a href=\"https://colab.research.google.com/github/danmartin25/Hockey_Model/blob/main/Hockey_Model_Mark_I.ipynb\" target=\"_parent\"><img src=\"https://colab.research.google.com/assets/colab-badge.svg\" alt=\"Open In Colab\"/></a>"
      ]
    },
    {
      "cell_type": "markdown",
      "source": [
        "**Notes**\n",
        "1. On-ice EV xG+/-\n",
        "\n",
        "2. On-ice EV G+/-\n",
        "\n",
        "3. On-ice PP G+/- above average\n",
        "\n",
        "4. On-ice SH G+/- above average\n",
        "\n",
        "5. GSAx\n",
        "\n",
        "6. Individual points above average (depending on position and role)"
      ],
      "metadata": {
        "id": "hNUCQe2I3t-p"
      }
    },
    {
      "cell_type": "code",
      "source": [
        "# Import Dependencies\n",
        "import pandas as pd\n",
        "import numpy as np\n",
        "import matplotlib.pyplot as plt\n",
        "import seaborn as sns"
      ],
      "metadata": {
        "id": "BUi8GdMO30IC"
      },
      "execution_count": null,
      "outputs": []
    },
    {
      "cell_type": "code",
      "source": [
        "#Import Even-Strength On-Ice Totals Data\n",
        "skater_ice_totals_raw = pd.read_csv('EV On-Ice Totals.csv')\n",
        "print(skater_ice_totals_raw)\n",
        "skater_ice_totals_raw.head()"
      ],
      "metadata": {
        "id": "XmWW1PSwVGYT"
      },
      "execution_count": null,
      "outputs": []
    },
    {
      "cell_type": "code",
      "source": [
        "#Restrict Totals Data to GP,TOI,GF%,CF%,xGF%,GF,GA,CF,CA,xGF,xGA\n",
        "skater_ice_totals = skater_ice_totals_raw.loc[:,['Player','Season','Team','Position','GP','TOI','GF%','CF%','xGF%','GF','GA','CF','CA','xGF','xGA']]\n",
        "skater_ice_totals"
      ],
      "metadata": {
        "id": "3cTkZNbQVLma"
      },
      "execution_count": null,
      "outputs": []
    },
    {
      "cell_type": "code",
      "source": [
        "#Import Even-Strength On-Ice Rates Data\n",
        "skater_ice_rates_raw = pd.read_csv('EV On-Ice Rates.csv')\n",
        "print(skater_ice_rates_raw)\n",
        "skater_ice_rates_raw.head()"
      ],
      "metadata": {
        "id": "j2-uwDtfVPVd"
      },
      "execution_count": null,
      "outputs": []
    },
    {
      "cell_type": "code",
      "source": [
        "#Restrict Rates Data\n",
        "skater_ice_rates = skater_ice_rates_raw.loc[:,['Player','Season','Team','Position','GP','TOI','GF%','CF%','xGF%','GF/60','GA/60','CF/60','CA/60','xGF/60','xGA/60']]\n",
        "skater_ice_rates"
      ],
      "metadata": {
        "id": "hKmUFUvoVQO-"
      },
      "execution_count": null,
      "outputs": []
    },
    {
      "cell_type": "code",
      "source": [
        "#Add columns for G+/-,xG+/-,G/s,xG/s\n",
        "skater_ice_rates['G+/-'] = skater_ice_rates['GF/60'] - skater_ice_rates['GA/60']\n",
        "skater_ice_rates['xG+/-'] = skater_ice_rates['xGF/60'] - skater_ice_rates['xGA/60']\n",
        "skater_ice_rates['G/s'] = skater_ice_rates['G+/-'] / 3600\n",
        "skater_ice_rates['xG/s'] = skater_ice_rates['xG+/-'] / 3600\n",
        "skater_ice_rates"
      ],
      "metadata": {
        "id": "cJUBNIoHVT26"
      },
      "execution_count": null,
      "outputs": []
    },
    {
      "cell_type": "code",
      "source": [
        "#Get the average of G/s and xG/s\n",
        "G_s_mean = skater_ice_rates['G/s'].mean()\n",
        "xG_s_mean = skater_ice_rates['xG/s'].mean()\n",
        "G_s_mean\n",
        "xG_s_mean"
      ],
      "metadata": {
        "id": "nV_BuuySVV9X"
      },
      "execution_count": null,
      "outputs": []
    },
    {
      "cell_type": "code",
      "source": [
        "#Add column for stats above averag for G/s and xG/s\n",
        "skater_ice_rates['G/s AAvg'] = skater_ice_rates['G/s'] - G_s_mean\n",
        "skater_ice_rates['xG/s AAvg'] = skater_ice_rates['xG/s'] - xG_s_mean\n",
        "skater_ice_rates"
      ],
      "metadata": {
        "id": "W4jsgOOOVXIk"
      },
      "execution_count": null,
      "outputs": []
    },
    {
      "cell_type": "code",
      "source": [
        "#Add column for impact\n",
        "skater_ice_rates['G Impact'] = skater_ice_rates['G/s AAvg'] * (skater_ice_rates['TOI'] / (60^3))\n",
        "skater_ice_rates['xG Impact'] = skater_ice_rates['xG/s AAvg'] * (skater_ice_rates['TOI'] / (60^3))\n",
        "skater_ice_rates"
      ],
      "metadata": {
        "id": "NaT3LCu-Vd0i"
      },
      "execution_count": null,
      "outputs": []
    },
    {
      "cell_type": "code",
      "source": [
        "#Import PP On-Ice Rates Data\n",
        "skater_PP_rates_raw = pd.read_csv('PP On-Ice Rates.csv')\n",
        "print(skater_PP_rates_raw)\n",
        "skater_PP_rates_raw.head()"
      ],
      "metadata": {
        "id": "WmqnfqP9Veya"
      },
      "execution_count": null,
      "outputs": []
    }
  ]
}