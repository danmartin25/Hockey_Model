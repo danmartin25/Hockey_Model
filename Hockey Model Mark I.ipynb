{
  "nbformat": 4,
  "nbformat_minor": 0,
  "metadata": {
    "colab": {
      "name": "Hockey Model Mark I.ipynb",
      "provenance": [],
      "collapsed_sections": [],
      "include_colab_link": true
    },
    "kernelspec": {
      "name": "python3",
      "display_name": "Python 3"
    },
    "language_info": {
      "name": "python"
    }
  },
  "cells": [
    {
      "cell_type": "markdown",
      "metadata": {
        "id": "view-in-github",
        "colab_type": "text"
      },
      "source": [
        "<a href=\"https://colab.research.google.com/github/danmartin25/Hockey_Model/blob/main/Hockey%20Model%20Mark%20I.ipynb\" target=\"_parent\"><img src=\"https://colab.research.google.com/assets/colab-badge.svg\" alt=\"Open In Colab\"/></a>"
      ]
    },
    {
      "cell_type": "markdown",
      "source": [
        "**Notes**\n",
        "1. On-ice EV xG+/-\n",
        "\n",
        "2. On-ice EV G+/-\n",
        "\n",
        "3. On-ice PP G+/- above average\n",
        "\n",
        "4. On-ice SH G+/- above average\n",
        "\n",
        "5. GSAx\n",
        "\n",
        "6. Individual points above average (depending on position and role)"
      ],
      "metadata": {
        "id": "hNUCQe2I3t-p"
      }
    },
    {
      "cell_type": "code",
      "source": [
        "# Import Dependencies\n",
        "import pandas as pd\n",
        "import numpy as np\n",
        "import matplotlib.pyplot as plt\n",
        "import requests"
      ],
      "metadata": {
        "id": "BUi8GdMO30IC"
      },
      "execution_count": 52,
      "outputs": []
    },
    {
      "cell_type": "code",
      "source": [
        "#Import Even-Strength On-Ice Rates Data\n",
        "skater_EV_rates_raw = pd.read_csv('https://raw.githubusercontent.com/danmartin25/Hockey_Model/main/Player%20Data/EV%20On-Ice%20Rates.csv')\n",
        "#skater_EV_rates_raw.head()"
      ],
      "metadata": {
        "id": "XmWW1PSwVGYT"
      },
      "execution_count": 53,
      "outputs": []
    },
    {
      "cell_type": "code",
      "source": [
        "#Restrict Totals Data to GP,TOI,GF%,xGF%,GF,GA,xGF,xGA\n",
        "skater_EV_rates = skater_EV_rates_raw.loc[:,['Player','Season','Team','Position','GP','TOI','GF/60','GA/60','xGF/60','xGA/60']]\n",
        "#skater_EV_rates"
      ],
      "metadata": {
        "id": "3cTkZNbQVLma"
      },
      "execution_count": 54,
      "outputs": []
    },
    {
      "cell_type": "code",
      "source": [
        "skater_EV_rates['EV_TOI'] = skater_EV_rates['TOI']*3600\n",
        "#skater_EV_rates"
      ],
      "metadata": {
        "id": "n0W_lGKuJEGZ"
      },
      "execution_count": 55,
      "outputs": []
    },
    {
      "cell_type": "code",
      "source": [
        "#Convert rate/60 to rates/s\n",
        "skater_EV_rates['GF_EV'] = skater_EV_rates['GF/60']/3600\n",
        "skater_EV_rates['GA_EV'] = skater_EV_rates['GA/60']/3600\n",
        "skater_EV_rates['xGF_EV'] = skater_EV_rates['xGF/60']/3600\n",
        "skater_EV_rates['xGA_EV'] = skater_EV_rates['xGA/60']/3600\n",
        "#skater_EV_rates"
      ],
      "metadata": {
        "id": "Wl_Lr8iygAzJ"
      },
      "execution_count": 56,
      "outputs": []
    },
    {
      "cell_type": "code",
      "source": [
        "#Drop TOI, GF/60, GA/60, xGF/60 and xGA/60 columns\n",
        "skater_EV_rates = skater_EV_rates.drop(columns = ['TOI','GF/60','GA/60','xGF/60','xGA/60'])\n",
        "#skater_EV_rates"
      ],
      "metadata": {
        "id": "YAjSstmCJmqN"
      },
      "execution_count": 57,
      "outputs": []
    },
    {
      "cell_type": "code",
      "source": [
        "#Rename columns\n",
        "skater_EV_rates = skater_EV_rates.rename(columns = {'Position':'Position_EV','GP':'GP_EV'})\n",
        "#skater_EV_rates"
      ],
      "metadata": {
        "id": "GKEiv8_qsC6U"
      },
      "execution_count": 58,
      "outputs": []
    },
    {
      "cell_type": "code",
      "source": [
        "#Import PP On-Ice Rates Data\n",
        "skater_PP_rates_raw = pd.read_csv('https://raw.githubusercontent.com/danmartin25/Hockey_Model/main/Player%20Data/PP%20On-Ice%20Rates.csv')\n",
        "#skater_PP_rates_raw.head()"
      ],
      "metadata": {
        "id": "WmqnfqP9Veya"
      },
      "execution_count": 59,
      "outputs": []
    },
    {
      "cell_type": "code",
      "source": [
        "#Reduce PP On-Ice Totals Data\n",
        "skater_PP_rates = skater_PP_rates_raw.loc[:,['Player','Season','Team','Position','GP','TOI','G±/60']]\n",
        "#skater_PP_rates"
      ],
      "metadata": {
        "id": "iQDVl4fJiF_i"
      },
      "execution_count": 60,
      "outputs": []
    },
    {
      "cell_type": "code",
      "source": [
        "#Convert G±/60 to G/s and TOI to PP_TOI(s)\n",
        "skater_PP_rates['PP'] = skater_PP_rates['G±/60']/3600\n",
        "skater_PP_rates['PP_TOI'] = skater_PP_rates['TOI']*3600\n",
        "#skater_PP_rates"
      ],
      "metadata": {
        "id": "tk5-JkAfe_RJ"
      },
      "execution_count": 61,
      "outputs": []
    },
    {
      "cell_type": "code",
      "source": [
        "#Drop columns\n",
        "skater_PP_rates = skater_PP_rates.drop(columns = ['TOI','G±/60'])\n",
        "#skater_PP_rates"
      ],
      "metadata": {
        "id": "B0dz7YIJqrAC"
      },
      "execution_count": 62,
      "outputs": []
    },
    {
      "cell_type": "code",
      "source": [
        "#Rename columns\n",
        "skater_PP_rates = skater_PP_rates.rename(columns = {'Position':'Position_PP','GP':'GP_PP'})\n",
        "#skater_PP_rates"
      ],
      "metadata": {
        "id": "Dl4Zy0f9uVJ5"
      },
      "execution_count": 63,
      "outputs": []
    },
    {
      "cell_type": "code",
      "source": [
        "#Import SH On-Ice Totals Data\n",
        "skater_SH_rates_raw = pd.read_csv('https://raw.githubusercontent.com/danmartin25/Hockey_Model/main/Player%20Data/SH%20On-Ice%20Rates.csv')\n",
        "#skater_SH_rates_raw.head()"
      ],
      "metadata": {
        "id": "bw7j9RFqojeR"
      },
      "execution_count": 64,
      "outputs": []
    },
    {
      "cell_type": "code",
      "source": [
        "#Reduce SH On-Ice Totals Data\n",
        "skater_SH_rates = skater_SH_rates_raw.loc[:,['Player','Season','Team','Position','GP','TOI','G±/60']]\n",
        "#skater_SH_rates"
      ],
      "metadata": {
        "id": "4mYzlSsRp2KR"
      },
      "execution_count": 65,
      "outputs": []
    },
    {
      "cell_type": "code",
      "source": [
        "#Convert TOI to TOI(s) and G±/60 to G± (s)\n",
        "skater_SH_rates['SH'] = skater_SH_rates['G±/60']/3600\n",
        "skater_SH_rates['SH_TOI'] = skater_SH_rates['TOI']*3600\n",
        "#skater_SH_rates"
      ],
      "metadata": {
        "id": "2_jO0oRJ1Ahp"
      },
      "execution_count": 66,
      "outputs": []
    },
    {
      "cell_type": "code",
      "source": [
        "#Drop columns\n",
        "skater_SH_rates = skater_SH_rates.drop(columns = ['G±/60','TOI'])\n",
        "#skater_SH_rates"
      ],
      "metadata": {
        "id": "Ntu31okTsSnY"
      },
      "execution_count": 67,
      "outputs": []
    },
    {
      "cell_type": "code",
      "source": [
        "#Rename columns\n",
        "skater_SH_rates = skater_SH_rates.rename(columns = {'Position':'Position_SH','GP':'GP_SH'})\n",
        "#skater_SH_rates"
      ],
      "metadata": {
        "id": "EBuJcEtwrn0y"
      },
      "execution_count": 68,
      "outputs": []
    },
    {
      "cell_type": "code",
      "source": [
        "#Import Player Box Stats\n",
        "skater_box_totals_raw = pd.read_csv('https://raw.githubusercontent.com/danmartin25/Hockey_Model/main/Player%20Data/Player%20Stats%20Box.csv')\n",
        "#skater_box_totals_raw.head()"
      ],
      "metadata": {
        "id": "BaXHcJgmH9KX"
      },
      "execution_count": 69,
      "outputs": []
    },
    {
      "cell_type": "code",
      "source": [
        "#Reduce Data Stats\n",
        "skater_box_totals = skater_box_totals_raw.loc[:,['Player','Season','Team','Position','GP','TOI','G','A1','A2']]\n",
        "#skater_box_totals.head()"
      ],
      "metadata": {
        "id": "vKYmDtckKao9"
      },
      "execution_count": 70,
      "outputs": []
    },
    {
      "cell_type": "code",
      "source": [
        "skater_box_totals['TOI_tot'] = skater_box_totals['TOI']*3600\n",
        "#skater_box_totals"
      ],
      "metadata": {
        "id": "k5587-3Zghlv"
      },
      "execution_count": 71,
      "outputs": []
    },
    {
      "cell_type": "code",
      "source": [
        "skater_box_totals = skater_box_totals.drop(columns = {'TOI'})\n",
        "#skater_box_totals"
      ],
      "metadata": {
        "id": "1dIZuFb-gyPN"
      },
      "execution_count": 72,
      "outputs": []
    },
    {
      "cell_type": "code",
      "source": [
        "#Get PAA\n",
        "#skater_box_totals['PAA'] = skater_box_totals['Points'] - Points_mean\n",
        "#skater_box_totals\n",
        "\n",
        "#Get PAA for Fwds and Dmen and combine\n",
        "#pd.options.mode.chained_assignment = None\n",
        "#forwards_table['PAA'] = forwards_table['Points'] - Forwards_mean\n",
        "#forwards_table.head(10)\n",
        "\n",
        "#defense_table['PAA'] = defense_table['Points'] - Defense_mean\n",
        "#defensemen_table.head(10)\n",
        "\n",
        "#Add dataframes back together and sort again\n",
        "#concat_frames = [forwards_table, defense_table]\n",
        "#skater_box_totals = pd.concat(concat_frames)\n",
        "#skater_box_totals = skater_box_totals.sort_index()\n",
        "#skater_box_totals.head(10)"
      ],
      "metadata": {
        "id": "Xcp8IH20RZGj"
      },
      "execution_count": 73,
      "outputs": []
    },
    {
      "cell_type": "code",
      "source": [
        "#Combine skater EV and PP stats\n",
        "skater_EV_PP = pd.merge(skater_EV_rates, skater_PP_rates, how=\"outer\", on=['Player','Season'])\n",
        "#skater_EV_PP"
      ],
      "metadata": {
        "id": "MGH26r0V-aBu"
      },
      "execution_count": 74,
      "outputs": []
    },
    {
      "cell_type": "code",
      "source": [
        "#Drop duplicate columns\n",
        "skater_EV_PP = skater_EV_PP.drop(columns = ['Team_y','Position_PP','GP_PP'])\n",
        "#skater_EV_PP"
      ],
      "metadata": {
        "id": "AnoRVrSbwGgT"
      },
      "execution_count": 75,
      "outputs": []
    },
    {
      "cell_type": "code",
      "source": [
        "#Merge EV,PP,SH tables together\n",
        "skater_EV_PP_SH = pd.merge(skater_EV_PP, skater_SH_rates, how=\"left\", on=[\"Player\", \"Season\"])\n",
        "#skater_EV_PP_SH"
      ],
      "metadata": {
        "id": "Sd_CdiVh-6QR"
      },
      "execution_count": 76,
      "outputs": []
    },
    {
      "cell_type": "code",
      "source": [
        "#Clean up data\n",
        "skater_EV_PP_SH = skater_EV_PP_SH.drop(columns = ['Team','Position_SH','GP_SH'])\n",
        "#skater_EV_PP_SH"
      ],
      "metadata": {
        "id": "-u0byvYSyo0v"
      },
      "execution_count": 77,
      "outputs": []
    },
    {
      "cell_type": "code",
      "source": [
        "#Merge EV,PP,SH and Points tables together\n",
        "full_skater_totals = pd.merge(skater_EV_PP_SH, skater_box_totals, how=\"left\", on=[\"Player\", \"Season\"])\n",
        "#full_skater_totals.head()"
      ],
      "metadata": {
        "id": "tc-fJxp1sEu4"
      },
      "execution_count": 78,
      "outputs": []
    },
    {
      "cell_type": "code",
      "source": [
        "#Replace NaN with 0\n",
        "full_skater_totals = full_skater_totals.replace(np.NaN, 0)\n",
        "#full_skater_totals"
      ],
      "metadata": {
        "id": "GVe2L6TvG7W8"
      },
      "execution_count": 79,
      "outputs": []
    },
    {
      "cell_type": "code",
      "source": [
        "#Drop Repeated Columns\n",
        "full_skater_totals = full_skater_totals.drop(columns = ['Team','Position','GP'])\n",
        "#full_skater_totals.head(10)\n"
      ],
      "metadata": {
        "id": "rwivaMNuBK-X"
      },
      "execution_count": 80,
      "outputs": []
    },
    {
      "cell_type": "code",
      "source": [
        "full_skater_totals = full_skater_totals.rename(columns = {'Team_x':'Team','Position_EV':'Position'})\n",
        "#full_skater_totals"
      ],
      "metadata": {
        "id": "zrfejREmqjCb"
      },
      "execution_count": 81,
      "outputs": []
    },
    {
      "cell_type": "code",
      "source": [
        "#Look at positions to get correct F/D average points\n",
        "forwards_table = full_skater_totals.loc[full_skater_totals.Position!= \"D\"]\n",
        "defense_table = full_skater_totals.loc[full_skater_totals.Position== \"D\"]"
      ],
      "metadata": {
        "id": "DdtWssypWguE"
      },
      "execution_count": 82,
      "outputs": []
    },
    {
      "cell_type": "code",
      "source": [
        "#Calculate Mean Stats of forwards and defensemen\n",
        "avg_GF_EV_F = forwards_table['GF_EV'].mean()\n",
        "avg_GA_EV_F = forwards_table['GA_EV'].mean()\n",
        "avg_xGF_EV_F = forwards_table['xGF_EV'].mean()\n",
        "avg_xGA_EV_F = forwards_table['xGA_EV'].mean()\n",
        "avg_PP_F = forwards_table['PP'].mean()\n",
        "avg_SH_F = forwards_table['SH'].mean()\n",
        "avg_G_F = forwards_table['G'].mean()\n",
        "avg_A1_F = forwards_table['A1'].mean()\n",
        "avg_A2_F = forwards_table['A2'].mean()\n",
        "#print(Forwards_mean)\n",
        "avg_GF_EV_D = defense_table['GF_EV'].mean()\n",
        "avg_GA_EV_D = defense_table['GA_EV'].mean()\n",
        "avg_xGF_EV_D = defense_table['xGF_EV'].mean()\n",
        "avg_xGA_EV_D = defense_table['xGA_EV'].mean()\n",
        "avg_PP_D = defense_table['PP'].mean()\n",
        "avg_SH_D = defense_table['SH'].mean()\n",
        "avg_G_D = defense_table['G'].mean()\n",
        "avg_A1_D = defense_table['A1'].mean()\n",
        "avg_A2_D = defense_table['A2'].mean()\n",
        "#print(Defensemen_mean)"
      ],
      "metadata": {
        "id": "fR_-3IGDrDBX"
      },
      "execution_count": 83,
      "outputs": []
    },
    {
      "cell_type": "code",
      "source": [
        "#Add impact for all variables to the tables\n",
        "pd.options.mode.chained_assignment = None\n",
        "#forwards\n",
        "forwards_table['GF_Impact'] = (forwards_table['GF_EV']-avg_GF_EV_F)*forwards_table['EV_TOI']\n",
        "forwards_table['GA_Impact'] = (forwards_table['GA_EV']-avg_GA_EV_F)*forwards_table['EV_TOI']\n",
        "forwards_table['xGF_Impact'] = (forwards_table['xGF_EV']-avg_xGF_EV_F)*forwards_table['EV_TOI']\n",
        "forwards_table['xGA_Impact'] = (forwards_table['xGA_EV']-avg_xGA_EV_F)*forwards_table['EV_TOI']\n",
        "forwards_table['PP_Impact'] = (forwards_table['PP']-avg_PP_F)*forwards_table['PP_TOI']\n",
        "forwards_table['SH_Impact'] = (forwards_table['SH']-avg_SH_F)*forwards_table['SH_TOI']\n",
        "forwards_table['G_Impact'] = (forwards_table['G']-avg_G_F)*forwards_table['TOI_tot']\n",
        "forwards_table['A1_Impact'] = (forwards_table['A1']-avg_A1_F)*forwards_table['TOI_tot']\n",
        "forwards_table['A2_Impact'] = (forwards_table['A2']-avg_A2_F)*forwards_table['TOI_tot']\n",
        "#defense\n",
        "defense_table['GF_Impact'] = (defense_table['GF_EV']-avg_GF_EV_D)*defense_table['EV_TOI']\n",
        "defense_table['GA_Impact'] = (defense_table['GA_EV']-avg_GA_EV_D)*defense_table['EV_TOI']\n",
        "defense_table['xGF_Impact'] = (defense_table['xGF_EV']-avg_xGF_EV_D)*defense_table['EV_TOI']\n",
        "defense_table['xGA_Impact'] = (defense_table['xGA_EV']-avg_xGA_EV_D)*defense_table['EV_TOI']\n",
        "defense_table['PP_Impact'] = (defense_table['PP']-avg_PP_D)*defense_table['PP_TOI']\n",
        "defense_table['SH_Impact'] = (defense_table['SH']-avg_SH_D)*defense_table['SH_TOI']\n",
        "defense_table['G_Impact'] = (defense_table['G']-avg_G_D)*defense_table['TOI_tot']\n",
        "defense_table['A1_Impact'] = (defense_table['A1']-avg_A1_D)*defense_table['TOI_tot']\n",
        "defense_table['A2_Impact'] = (defense_table['A2']-avg_A2_D)*defense_table['TOI_tot']"
      ],
      "metadata": {
        "id": "14JhVHVbcUcj"
      },
      "execution_count": 84,
      "outputs": []
    },
    {
      "cell_type": "code",
      "source": [
        "#Import Goalie Data\n",
        "goalie_stats_raw = pd.read_csv('https://raw.githubusercontent.com/danmartin25/Hockey_Model/main/Player%20Data/Goalie%20Stats.csv')\n",
        "#goalie_stats_raw.head()"
      ],
      "metadata": {
        "id": "fggig3SI1Zig"
      },
      "execution_count": 85,
      "outputs": []
    },
    {
      "cell_type": "code",
      "source": [
        "#Reduce Goalie Stats\n",
        "goalie_stats = goalie_stats_raw.loc[:,['Player','Season','Team','Position','GP','GSAx']]\n",
        "#goalie_stats.head()"
      ],
      "metadata": {
        "id": "kQa9H0cG_VOl"
      },
      "execution_count": 86,
      "outputs": []
    },
    {
      "cell_type": "code",
      "source": [
        "#Add Active / Inactive Column to both data tables\n",
        "forwards_table['A/I'] = 'Active'\n",
        "defense_table['A/I'] = 'Active'\n",
        "goalie_stats['A/I'] = 'Active'"
      ],
      "metadata": {
        "id": "Z04aWgQyXNGs"
      },
      "execution_count": 87,
      "outputs": []
    },
    {
      "cell_type": "code",
      "source": [
        "#Put Players on current teams\n",
        "\n",
        "#NHL API info\n",
        "#https://towardsdatascience.com/nhl-analytics-with-python-6390c5d3206d\n",
        "#https://github.com/dword4/nhlapi\n",
        "#https://gitlab.com/dword4/nhlapi\n",
        "\n",
        "#API JSON project example\n",
        "#https://github.com/danmartin25/World_Weather_Analysis/blob/main/WeatherPy.ipynb\n",
        "\n",
        "#Test all\n",
        "#data = requests.get('https://statsapi.web.nhl.com/api/v1/configurations').json()\n",
        "#data\n",
        "\n",
        "#Different options\n",
        "#data = requests.get('https://statsapi.web.nhl.com/api/v1/expands').json()\n",
        "#data\n",
        "\n",
        "#Empty Dictionary to Hold Rosters\n",
        "#active_rosters = []\n",
        "\n",
        "### NOTE: ONLY RUN REQUEST ONCE, THEN COMMENT OUT. INFO WILL STAY IN VARIABLE\n",
        "#json_api_data = requests.get('https://statsapi.web.nhl.com/api/v1/teams?expand=team.roster').json()\n",
        "\n",
        "#Variable where data is stored\n",
        "#json_api_data\n",
        "\n",
        "#Devils Roster (Index 0, change indext to 1, 2, etc for other teams rosters)\n",
        "#json_api_data[\"teams\"][0]\n",
        "\n",
        "#player_name = json_api_data[\"teams\"][0]\n",
        "#player_team = \n",
        "#player_position = #code\n",
        "\n",
        "\n",
        "#active_rosters.append{{\"Player\": player_name,\n",
        "#                       \"Team\": player_team,\n",
        "#                       \"Postion\": player_position}}\n",
        "\n",
        "\n"
      ],
      "metadata": {
        "id": "b2TR_LkAkgl-"
      },
      "execution_count": 88,
      "outputs": []
    },
    {
      "cell_type": "code",
      "source": [
        "#Create Roster for each team\n",
        "Avalanche_forwards = forwards_table.loc[(forwards_table.Player==\"Andrew Cogliano\")|(forwards_table.Player==\"J.T. Compher\")|(forwards_table.Player==\"Darren Helm\")|(forwards_table.Player==\"Nazem Kadri\")\n",
        "|(forwards_table.Player==\"Gabriel Landeskog\")|(forwards_table.Player==\"Artturi Lehkonen\")|(forwards_table.Player==\"Nathan MacKinnon\")|(forwards_table.Player==\"Alex Newhook\")|(forwards_table.Player==\"Valeri Nichushkin\")\n",
        "|(forwards_table.Player==\"Logan O'Connor\")|(forwards_table.Player==\"Mikko Rantanen\")|(forwards_table.Player==\"Nico Sturm\")]\n",
        "Avalanche_defense = defense_table.loc[(defense_table.Player==\"Bowen Byram\")|(defense_table.Player==\"Jack Johnson\")\n",
        "|(defense_table.Player==\"Erik Johnson\")|(defense_table.Player==\"Cale Makar\")|(defense_table.Player==\"Josh Manson\")|(defense_table.Player==\"Devon Toews\")]\n",
        "Avalanche_goalie = goalie_stats.loc[(goalie_stats.Player==\"Darcy Kuemper\")]\n",
        "#Avalanche_forwards"
      ],
      "metadata": {
        "id": "gPE81j_k93lM"
      },
      "execution_count": 89,
      "outputs": []
    },
    {
      "cell_type": "code",
      "source": [
        "#Create Avalanche roster for 2021-2022\n",
        "Avalanche_forwards_2122 = Avalanche_forwards.loc[Avalanche_forwards.Season==\"21-22\"]\n",
        "Avalanche_defense_2122 = Avalanche_defense.loc[Avalanche_defense.Season==\"21-22\"]\n",
        "Avalanche_goalies_2122 = Avalanche_goalie.loc[Avalanche_goalie.Season==\"21-22\"]\n",
        "#Avalanche_forwards_2122"
      ],
      "metadata": {
        "id": "XY5tfujAfOUM"
      },
      "execution_count": 90,
      "outputs": []
    },
    {
      "cell_type": "code",
      "source": [
        "#Create strength of roster for Avalanche\n",
        "Avalanche_Strength_2122 = 0.5 + (Avalanche_forwards_2122['GF_Impact'].sum()*0.00294) + (Avalanche_forwards_2122['GA_Impact'].sum()*-0.00248) + (Avalanche_forwards_2122['xGF_Impact'].sum()*0.00485) + (Avalanche_forwards_2122['xGA_Impact'].sum()*-0.00439)\n",
        "+ (Avalanche_forwards_2122['xGF_Impact'].sum()*0.00485) + (Avalanche_forwards_2122['PP_Impact'].sum()*0.00361) + (Avalanche_forwards_2122['SH_Impact'].sum()*0.00498) + (Avalanche_forwards_2122['G_Impact'].sum()*0.00749)\n",
        "+ (Avalanche_forwards_2122['A1_Impact'].sum()*0.00771) + (Avalanche_forwards_2122['A2_Impact'].sum()*0.0102) + (Avalanche_defense_2122['GF_Impact'].sum()*0.00444) + (Avalanche_defense_2122['GA_Impact'].sum()*-0.00385)\n",
        "+ (Avalanche_defense_2122['xGF_Impact']*0.00736) + (Avalanche_defense_2122['xGA_Impact']*-0.00654) + (Avalanche_defense_2122['PP_Impact']*0.00833) + (Avalanche_defense_2122['SH_Impact']*0.00498)\n",
        "+ (Avalanche_defense_2122['G_Impact'].sum()*0.0132) + (Avalanche_defense_2122['A1_Impact'].sum()*0.00963) + (Avalanche_defense_2122['A2_Impact'].sum()*0.00918) + (Avalanche_goalies_2122['GSAx']*0.00622)\n",
        "Avalanche_Strength_2122"
      ],
      "metadata": {
        "id": "plQ-JfSum4_c",
        "outputId": "9ad1d1bf-f1c2-4cc6-a4a5-770fb7092ae6",
        "colab": {
          "base_uri": "https://localhost:8080/"
        }
      },
      "execution_count": 91,
      "outputs": [
        {
          "output_type": "execute_result",
          "data": {
            "text/plain": [
              "41.364297984805496"
            ]
          },
          "metadata": {},
          "execution_count": 91
        }
      ]
    },
    {
      "cell_type": "code",
      "source": [
        "#Create Roster for Lightning\n",
        "Lightning_forwards = forwards_table.loc[(forwards_table.Player==\"Pierre-Edouard Bellemare\")|(forwards_table.Player==\"Anthony Cirelli\")|(forwards_table.Player==\"Ross Colton\")|(forwards_table.Player==\"Brandon Hagel\")\n",
        "|(forwards_table.Player==\"Alex Killorn\")|(forwards_table.Player==\"Nikita Kucherov\")|(forwards_table.Player==\"Patrick Maroon\")|(forwards_table.Player==\"Riley Nash\")|(forwards_table.Player==\"Ondrej Palat\")\n",
        "|(forwards_table.Player==\"Nick Paul\")|(forwards_table.Player==\"Corey Perry\")|(forwards_table.Player==\"Steven Stamkos\")]\n",
        "Lightning_defense = defense_table.loc[(defense_table.Player==\"Zach Bogosian\")|(defense_table.Player==\"Erik Cernak\")\n",
        "|(defense_table.Player==\"Victor Hedman\")|(defense_table.Player==\"Ryan McDonaugh\")|(defense_table.Player==\"Jan Rutta\")|(defense_table.Player==\"Mikhail Sergachev\")]\n",
        "Lightning_goalie = goalie_stats.loc[(goalie_stats.Player==\"Andrei Vasilevskiy\")]\n",
        "#Lightning_forwards"
      ],
      "metadata": {
        "id": "g5MJ2BAOQLMy"
      },
      "execution_count": 92,
      "outputs": []
    },
    {
      "cell_type": "code",
      "source": [
        "#Create Lightning roster for 2021-2022\n",
        "Lightning_forwards_2122 = Avalanche_forwards.loc[Avalanche_forwards.Season==\"21-22\"]\n",
        "Lightning_defense_2122 = Avalanche_defense.loc[Avalanche_defense.Season==\"21-22\"]\n",
        "Lightning_goalies_2122 = Avalanche_goalie.loc[Avalanche_goalie.Season==\"21-22\"]\n",
        "#Lightning_forwards_2122"
      ],
      "metadata": {
        "id": "4yZsRGWJR7TO"
      },
      "execution_count": 93,
      "outputs": []
    },
    {
      "cell_type": "code",
      "source": [
        "#Create strength of Lightning roster for 2021-2022 season.\n",
        "Lightning_Strength_2122 = 0.5 + (Lightning_forwards_2122['GF_Impact'].sum()*0.00294) + (Lightning_forwards_2122['GA_Impact'].sum()*-0.00248) + (Lightning_forwards_2122['xGF_Impact'].sum()*0.00485) + (Lightning_forwards_2122['xGA_Impact'].sum()*-0.00439)\n",
        "+ (Lightning_forwards_2122['xGF_Impact'].sum()*0.00485) + (Lightning_forwards_2122['PP_Impact'].sum()*0.00361) + (Lightning_forwards_2122['SH_Impact'].sum()*0.00498) + (Lightning_forwards_2122['G_Impact'].sum()*0.00749)\n",
        "+ (Lightning_forwards_2122['A1_Impact'].sum()*0.00771) + (Lightning_forwards_2122['A2_Impact'].sum()*0.0102) + (Lightning_defense_2122['GF_Impact'].sum()*0.00444) + (Lightning_defense_2122['GA_Impact'].sum()*-0.00385)\n",
        "+ (Lightning_defense_2122['xGF_Impact']*0.00736) + (Lightning_defense_2122['xGA_Impact']*-0.00654) + (Lightning_defense_2122['PP_Impact']*0.00833) + (Lightning_defense_2122['SH_Impact']*0.00498)\n",
        "+ (Lightning_defense_2122['G_Impact'].sum()*0.0132) + (Lightning_defense_2122['A1_Impact'].sum()*0.00963) + (Lightning_defense_2122['A2_Impact'].sum()*0.00918) + (Lightning_goalies_2122['GSAx']*0.00622)\n",
        "Lightning_Strength_2122"
      ],
      "metadata": {
        "id": "DMqCAXpPSLtE",
        "outputId": "b64b4792-7fe0-49f2-eb88-9b7cf83032e1",
        "colab": {
          "base_uri": "https://localhost:8080/"
        }
      },
      "execution_count": 94,
      "outputs": [
        {
          "output_type": "execute_result",
          "data": {
            "text/plain": [
              "41.364297984805496"
            ]
          },
          "metadata": {},
          "execution_count": 94
        }
      ]
    },
    {
      "cell_type": "code",
      "source": [
        "#Game Projection for Game 6 of Stanley Cup Final\n",
        "Lightning_Probability = Lightning_Strength_2122/(Lightning_Strength_2122+Avalanche_Strength_2122)\n",
        "Avalanche_Probability = 1-Lightning_Probability\n",
        "Lightning_Odds = ((1/Lightning_Probability)-1)*100\n",
        "Avalanche_Odds = ((1/Avalanche_Probability)-1)*100"
      ],
      "metadata": {
        "id": "mIiw74j6S5H1"
      },
      "execution_count": 95,
      "outputs": []
    },
    {
      "cell_type": "code",
      "source": [
        "print(\"Lightning Odds:\", Lightning_Odds)\n",
        "print(\"Avalanche_Odds:\", Avalanche_Odds)\n"
      ],
      "metadata": {
        "id": "eSTjoNKQWGYP",
        "outputId": "38e0734f-6f4e-48f4-a255-08edd3f4baa7",
        "colab": {
          "base_uri": "https://localhost:8080/"
        }
      },
      "execution_count": 96,
      "outputs": [
        {
          "output_type": "stream",
          "name": "stdout",
          "text": [
            "Lightning Odds: 100.0\n",
            "Avalanche_Odds: 100.0\n"
          ]
        }
      ]
    },
    {
      "cell_type": "code",
      "source": [
        "defense_table.loc[defense_table.Player==\"Tj Brodie\"]"
      ],
      "metadata": {
        "id": "dZVmlVfQwyIu",
        "outputId": "5ee1eed4-2b44-4795-e92d-d6235b24eda3",
        "colab": {
          "base_uri": "https://localhost:8080/",
          "height": 173
        }
      },
      "execution_count": 97,
      "outputs": [
        {
          "output_type": "execute_result",
          "data": {
            "text/plain": [
              "         Player Season Team Position  GP_EV     EV_TOI     GF_EV     GA_EV  \\\n",
              "2237  Tj Brodie  19-20  CGY        D     64  4086180.0  0.000778  0.000681   \n",
              "2238  Tj Brodie  20-21  TOR        D     56  3792168.0  0.000856  0.000467   \n",
              "2239  Tj Brodie  21-22  TOR        D     82  5474448.0  0.000800  0.000675   \n",
              "\n",
              "        xGF_EV    xGA_EV  ...   GF_Impact   GA_Impact  xGF_Impact  xGA_Impact  \\\n",
              "2237  0.000731  0.000633  ...  453.048211 -140.715103  306.683772 -172.330651   \n",
              "2238  0.000742  0.000581  ...  715.396534 -941.692860  326.752223 -360.073182   \n",
              "2239  0.000772  0.000628  ...  728.624448 -218.936258  638.980709 -261.293098   \n",
              "\n",
              "       PP_Impact   SH_Impact      G_Impact     A1_Impact     A2_Impact     A/I  \n",
              "2237   45.709909 -286.536765  3.438310e+06 -7.473886e+06  2.244856e+07  Active  \n",
              "2238  250.020742 -156.875450 -9.867783e+06 -6.891076e+06  1.200605e+07  Active  \n",
              "2239   -0.000000  160.227305  4.585123e+06  3.403323e+07  4.250746e+07  Active  \n",
              "\n",
              "[3 rows x 28 columns]"
            ],
            "text/html": [
              "\n",
              "  <div id=\"df-c412cead-b1c7-4c0a-b69d-5d93301101b3\">\n",
              "    <div class=\"colab-df-container\">\n",
              "      <div>\n",
              "<style scoped>\n",
              "    .dataframe tbody tr th:only-of-type {\n",
              "        vertical-align: middle;\n",
              "    }\n",
              "\n",
              "    .dataframe tbody tr th {\n",
              "        vertical-align: top;\n",
              "    }\n",
              "\n",
              "    .dataframe thead th {\n",
              "        text-align: right;\n",
              "    }\n",
              "</style>\n",
              "<table border=\"1\" class=\"dataframe\">\n",
              "  <thead>\n",
              "    <tr style=\"text-align: right;\">\n",
              "      <th></th>\n",
              "      <th>Player</th>\n",
              "      <th>Season</th>\n",
              "      <th>Team</th>\n",
              "      <th>Position</th>\n",
              "      <th>GP_EV</th>\n",
              "      <th>EV_TOI</th>\n",
              "      <th>GF_EV</th>\n",
              "      <th>GA_EV</th>\n",
              "      <th>xGF_EV</th>\n",
              "      <th>xGA_EV</th>\n",
              "      <th>...</th>\n",
              "      <th>GF_Impact</th>\n",
              "      <th>GA_Impact</th>\n",
              "      <th>xGF_Impact</th>\n",
              "      <th>xGA_Impact</th>\n",
              "      <th>PP_Impact</th>\n",
              "      <th>SH_Impact</th>\n",
              "      <th>G_Impact</th>\n",
              "      <th>A1_Impact</th>\n",
              "      <th>A2_Impact</th>\n",
              "      <th>A/I</th>\n",
              "    </tr>\n",
              "  </thead>\n",
              "  <tbody>\n",
              "    <tr>\n",
              "      <th>2237</th>\n",
              "      <td>Tj Brodie</td>\n",
              "      <td>19-20</td>\n",
              "      <td>CGY</td>\n",
              "      <td>D</td>\n",
              "      <td>64</td>\n",
              "      <td>4086180.0</td>\n",
              "      <td>0.000778</td>\n",
              "      <td>0.000681</td>\n",
              "      <td>0.000731</td>\n",
              "      <td>0.000633</td>\n",
              "      <td>...</td>\n",
              "      <td>453.048211</td>\n",
              "      <td>-140.715103</td>\n",
              "      <td>306.683772</td>\n",
              "      <td>-172.330651</td>\n",
              "      <td>45.709909</td>\n",
              "      <td>-286.536765</td>\n",
              "      <td>3.438310e+06</td>\n",
              "      <td>-7.473886e+06</td>\n",
              "      <td>2.244856e+07</td>\n",
              "      <td>Active</td>\n",
              "    </tr>\n",
              "    <tr>\n",
              "      <th>2238</th>\n",
              "      <td>Tj Brodie</td>\n",
              "      <td>20-21</td>\n",
              "      <td>TOR</td>\n",
              "      <td>D</td>\n",
              "      <td>56</td>\n",
              "      <td>3792168.0</td>\n",
              "      <td>0.000856</td>\n",
              "      <td>0.000467</td>\n",
              "      <td>0.000742</td>\n",
              "      <td>0.000581</td>\n",
              "      <td>...</td>\n",
              "      <td>715.396534</td>\n",
              "      <td>-941.692860</td>\n",
              "      <td>326.752223</td>\n",
              "      <td>-360.073182</td>\n",
              "      <td>250.020742</td>\n",
              "      <td>-156.875450</td>\n",
              "      <td>-9.867783e+06</td>\n",
              "      <td>-6.891076e+06</td>\n",
              "      <td>1.200605e+07</td>\n",
              "      <td>Active</td>\n",
              "    </tr>\n",
              "    <tr>\n",
              "      <th>2239</th>\n",
              "      <td>Tj Brodie</td>\n",
              "      <td>21-22</td>\n",
              "      <td>TOR</td>\n",
              "      <td>D</td>\n",
              "      <td>82</td>\n",
              "      <td>5474448.0</td>\n",
              "      <td>0.000800</td>\n",
              "      <td>0.000675</td>\n",
              "      <td>0.000772</td>\n",
              "      <td>0.000628</td>\n",
              "      <td>...</td>\n",
              "      <td>728.624448</td>\n",
              "      <td>-218.936258</td>\n",
              "      <td>638.980709</td>\n",
              "      <td>-261.293098</td>\n",
              "      <td>-0.000000</td>\n",
              "      <td>160.227305</td>\n",
              "      <td>4.585123e+06</td>\n",
              "      <td>3.403323e+07</td>\n",
              "      <td>4.250746e+07</td>\n",
              "      <td>Active</td>\n",
              "    </tr>\n",
              "  </tbody>\n",
              "</table>\n",
              "<p>3 rows × 28 columns</p>\n",
              "</div>\n",
              "      <button class=\"colab-df-convert\" onclick=\"convertToInteractive('df-c412cead-b1c7-4c0a-b69d-5d93301101b3')\"\n",
              "              title=\"Convert this dataframe to an interactive table.\"\n",
              "              style=\"display:none;\">\n",
              "        \n",
              "  <svg xmlns=\"http://www.w3.org/2000/svg\" height=\"24px\"viewBox=\"0 0 24 24\"\n",
              "       width=\"24px\">\n",
              "    <path d=\"M0 0h24v24H0V0z\" fill=\"none\"/>\n",
              "    <path d=\"M18.56 5.44l.94 2.06.94-2.06 2.06-.94-2.06-.94-.94-2.06-.94 2.06-2.06.94zm-11 1L8.5 8.5l.94-2.06 2.06-.94-2.06-.94L8.5 2.5l-.94 2.06-2.06.94zm10 10l.94 2.06.94-2.06 2.06-.94-2.06-.94-.94-2.06-.94 2.06-2.06.94z\"/><path d=\"M17.41 7.96l-1.37-1.37c-.4-.4-.92-.59-1.43-.59-.52 0-1.04.2-1.43.59L10.3 9.45l-7.72 7.72c-.78.78-.78 2.05 0 2.83L4 21.41c.39.39.9.59 1.41.59.51 0 1.02-.2 1.41-.59l7.78-7.78 2.81-2.81c.8-.78.8-2.07 0-2.86zM5.41 20L4 18.59l7.72-7.72 1.47 1.35L5.41 20z\"/>\n",
              "  </svg>\n",
              "      </button>\n",
              "      \n",
              "  <style>\n",
              "    .colab-df-container {\n",
              "      display:flex;\n",
              "      flex-wrap:wrap;\n",
              "      gap: 12px;\n",
              "    }\n",
              "\n",
              "    .colab-df-convert {\n",
              "      background-color: #E8F0FE;\n",
              "      border: none;\n",
              "      border-radius: 50%;\n",
              "      cursor: pointer;\n",
              "      display: none;\n",
              "      fill: #1967D2;\n",
              "      height: 32px;\n",
              "      padding: 0 0 0 0;\n",
              "      width: 32px;\n",
              "    }\n",
              "\n",
              "    .colab-df-convert:hover {\n",
              "      background-color: #E2EBFA;\n",
              "      box-shadow: 0px 1px 2px rgba(60, 64, 67, 0.3), 0px 1px 3px 1px rgba(60, 64, 67, 0.15);\n",
              "      fill: #174EA6;\n",
              "    }\n",
              "\n",
              "    [theme=dark] .colab-df-convert {\n",
              "      background-color: #3B4455;\n",
              "      fill: #D2E3FC;\n",
              "    }\n",
              "\n",
              "    [theme=dark] .colab-df-convert:hover {\n",
              "      background-color: #434B5C;\n",
              "      box-shadow: 0px 1px 3px 1px rgba(0, 0, 0, 0.15);\n",
              "      filter: drop-shadow(0px 1px 2px rgba(0, 0, 0, 0.3));\n",
              "      fill: #FFFFFF;\n",
              "    }\n",
              "  </style>\n",
              "\n",
              "      <script>\n",
              "        const buttonEl =\n",
              "          document.querySelector('#df-c412cead-b1c7-4c0a-b69d-5d93301101b3 button.colab-df-convert');\n",
              "        buttonEl.style.display =\n",
              "          google.colab.kernel.accessAllowed ? 'block' : 'none';\n",
              "\n",
              "        async function convertToInteractive(key) {\n",
              "          const element = document.querySelector('#df-c412cead-b1c7-4c0a-b69d-5d93301101b3');\n",
              "          const dataTable =\n",
              "            await google.colab.kernel.invokeFunction('convertToInteractive',\n",
              "                                                     [key], {});\n",
              "          if (!dataTable) return;\n",
              "\n",
              "          const docLinkHtml = 'Like what you see? Visit the ' +\n",
              "            '<a target=\"_blank\" href=https://colab.research.google.com/notebooks/data_table.ipynb>data table notebook</a>'\n",
              "            + ' to learn more about interactive tables.';\n",
              "          element.innerHTML = '';\n",
              "          dataTable['output_type'] = 'display_data';\n",
              "          await google.colab.output.renderOutput(dataTable, element);\n",
              "          const docLink = document.createElement('div');\n",
              "          docLink.innerHTML = docLinkHtml;\n",
              "          element.appendChild(docLink);\n",
              "        }\n",
              "      </script>\n",
              "    </div>\n",
              "  </div>\n",
              "  "
            ]
          },
          "metadata": {},
          "execution_count": 97
        }
      ]
    },
    {
      "cell_type": "code",
      "source": [
        "#Make Game projection for Leafs-Capitals from 4/24\n",
        "#Leafs Roster\n",
        "Leafs_forwards = forwards_table.loc[(forwards_table.Player==\"Nicholas Abruzzese\")|(forwards_table.Player==\"Colin Blackwell\")|(forwards_table.Player==\"Kyle Clifford\")|(forwards_table.Player==\"Pierre Engvall\")\n",
        "|(forwards_table.Player==\"David Kampf\")|(forwards_table.Player==\"Alex Kerfoot\")|(forwards_table.Player==\"Mitch Marner\")|(forwards_table.Player==\"Auston Matthews\")|(forwards_table.Player==\"Ilya Mikheyev\")\n",
        "|(forwards_table.Player==\"William Nylander\")|(forwards_table.Player==\"Wayne Simmonds\")|(forwards_table.Player==\"Jason Spezza\")]\n",
        "Leafs_defense = defense_table.loc[(defense_table.Player==\"Tj Brodie\")|(defense_table.Player==\"Carl Dahlstrom\")\n",
        "|(defense_table.Player==\"Mark Giordano\")|(defense_table.Player==\"Justin Holl\")|(defense_table.Player==\"Ilya Lyubushkin\")|(defense_table.Player==\"Morgan Rielly\")]\n",
        "Leafs_goalie = goalie_stats.loc[(goalie_stats.Player==\"Erik Kallgren\")]\n",
        "#Leafs_forwards\n",
        "\n",
        "#Capitals Roster\n",
        "Capitals_forwards = forwards_table.loc[(forwards_table.Player==\"Nicklas Backstrom\")|(forwards_table.Player==\"Nic Dowd\")|(forwards_table.Player==\"Lars Eller\")|(forwards_table.Player==\"Garnet Hathaway\")\n",
        "|(forwards_table.Player==\"Marcus Johansson\")|(forwards_table.Player==\"Evgeny Kuznetsov\")|(forwards_table.Player==\"Johan Larsson\")|(forwards_table.Player==\"Anthony Mantha\")|(forwards_table.Player==\"T.J. Oshie\")\n",
        "|(forwards_table.Player==\"Alex Ovechkin\")|(forwards_table.Player==\"Conor Sheary\")|(forwards_table.Player==\"Tom Wilson\")]\n",
        "Capitals_defense = defense_table.loc[(defense_table.Player==\"John Carlson\")|(defense_table.Player==\"Martin Fehervary\")\n",
        "|(defense_table.Player==\"Nick Jensen\")|(defense_table.Player==\"Dmitry Orlov\")|(defense_table.Player==\"Justin Schultz\")|(defense_table.Player==\"Trevor Van Riemsdyk\")]\n",
        "Capitals_goalie = goalie_stats.loc[(goalie_stats.Player==\"Vitek Vanecek\")]\n",
        "#Capitals_forwards"
      ],
      "metadata": {
        "id": "0R_yBsUcvKa0"
      },
      "execution_count": 98,
      "outputs": []
    },
    {
      "cell_type": "code",
      "source": [
        "#Create Leafs roster for 2021-2022\n",
        "Leafs_forwards_2122 = Leafs_forwards.loc[Leafs_forwards.Season==\"21-22\"]\n",
        "Leafs_defense_2122 = Leafs_defense.loc[Leafs_defense.Season==\"21-22\"]\n",
        "Leafs_goalies_2122 = Leafs_goalie.loc[Leafs_goalie.Season==\"21-22\"]\n",
        "#Leafs_forwards_2122\n",
        "\n",
        "#Create Capitals roster for 2021-2022\n",
        "Capitals_forwards_2122 = Capitals_forwards.loc[Capitals_forwards.Season==\"21-22\"]\n",
        "Capitals_defense_2122 = Capitals_defense.loc[Capitals_defense.Season==\"21-22\"]\n",
        "Capitals_goalies_2122 = Capitals_goalie.loc[Capitals_goalie.Season==\"21-22\"]\n",
        "#Capitals_forwards_2122"
      ],
      "metadata": {
        "id": "DDwy_fdxz_Kd"
      },
      "execution_count": 99,
      "outputs": []
    },
    {
      "cell_type": "code",
      "source": [
        "#Create strength of roster for Leafs\n",
        "Leafs_Strength_2122 = 0.5 + (Leafs_forwards_2122['GF_Impact'].sum()*0.00294) + (Leafs_forwards_2122['GA_Impact'].sum()*-0.00248) + (Leafs_forwards_2122['xGF_Impact'].sum()*0.00485) + (Leafs_forwards_2122['xGA_Impact'].sum()*-0.00439)\n",
        "+ (Leafs_forwards_2122['xGF_Impact'].sum()*0.00485) + (Leafs_forwards_2122['PP_Impact'].sum()*0.00361) + (Leafs_forwards_2122['SH_Impact'].sum()*0.00498) + (Leafs_forwards_2122['G_Impact'].sum()*0.00749)\n",
        "+ (Leafs_forwards_2122['A1_Impact'].sum()*0.00771) + (Leafs_forwards_2122['A2_Impact'].sum()*0.0102) + (Leafs_defense_2122['GF_Impact'].sum()*0.00444) + (Leafs_defense_2122['GA_Impact'].sum()*-0.00385)\n",
        "+ (Leafs_defense_2122['xGF_Impact']*0.00736) + (Leafs_defense_2122['xGA_Impact']*-0.00654) + (Leafs_defense_2122['PP_Impact']*0.00833) + (Leafs_defense_2122['SH_Impact']*0.00498)\n",
        "+ (Leafs_defense_2122['G_Impact'].sum()*0.0132) + (Leafs_defense_2122['A1_Impact'].sum()*0.00963) + (Leafs_defense_2122['A2_Impact'].sum()*0.00918) + (Leafs_goalies_2122['GSAx']*0.00622)\n",
        "#Leafs_Strength_2122\n",
        "\n",
        "#Create strength of roster for Capitals\n",
        "Capitals_Strength_2122 = 0.5 + (Capitals_forwards_2122['GF_Impact'].sum()*0.00294) + (Capitals_forwards_2122['GA_Impact'].sum()*-0.00248) + (Capitals_forwards_2122['xGF_Impact'].sum()*0.00485) + (Capitals_forwards_2122['xGA_Impact'].sum()*-0.00439)\n",
        "+ (Capitals_forwards_2122['xGF_Impact'].sum()*0.00485) + (Capitals_forwards_2122['PP_Impact'].sum()*0.00361) + (Capitals_forwards_2122['SH_Impact'].sum()*0.00498) + (Capitals_forwards_2122['G_Impact'].sum()*0.00749)\n",
        "+ (Capitals_forwards_2122['A1_Impact'].sum()*0.00771) + (Capitals_forwards_2122['A2_Impact'].sum()*0.0102) + (Capitals_defense_2122['GF_Impact'].sum()*0.00444) + (Capitals_defense_2122['GA_Impact'].sum()*-0.00385)\n",
        "+ (Capitals_defense_2122['xGF_Impact']*0.00736) + (Capitals_defense_2122['xGA_Impact']*-0.00654) + (Capitals_defense_2122['PP_Impact']*0.00833) + (Capitals_defense_2122['SH_Impact']*0.00498)\n",
        "+ (Capitals_defense_2122['G_Impact'].sum()*0.0132) + (Capitals_defense_2122['A1_Impact'].sum()*0.00963) + (Capitals_defense_2122['A2_Impact'].sum()*0.00918) + (Capitals_goalies_2122['GSAx']*0.00622)\n",
        "#Capitals_Strength_2122"
      ],
      "metadata": {
        "id": "WB-bFACL0OtP",
        "outputId": "01d89233-7ca7-48d4-a139-e03b476ef9db",
        "colab": {
          "base_uri": "https://localhost:8080/"
        }
      },
      "execution_count": 100,
      "outputs": [
        {
          "output_type": "execute_result",
          "data": {
            "text/plain": [
              "280    6.054376e+06\n",
              "Name: GSAx, dtype: float64"
            ]
          },
          "metadata": {},
          "execution_count": 100
        }
      ]
    },
    {
      "cell_type": "code",
      "source": [
        "#Game Projection for Leafs-Capitals on 4/24\n",
        "Leafs_Probability = Leafs_Strength_2122/(Leafs_Strength_2122+Capitals_Strength_2122)\n",
        "Capitals_Probability = 1-Leafs_Probability\n",
        "\n",
        "#Leafs Odds\n",
        "if (1/Leafs_Probability) >= 2:\n",
        "  Leafs_Odds = ((1/Leafs_Probability)-1)*100\n",
        "elif (1/Leafs_Probability) <2:\n",
        "  Leafs_Odds = (-100/((1/Leafs_Probability)-1))\n",
        "\n",
        "if (1/Capitals_Probability) >= 2:\n",
        "  Capitals_Odds = ((1/Capitals_Probability)-1)*100\n",
        "elif (1/Capitals_Probability) <2:\n",
        "  Capitals_Odds = -100/((1/Capitals_Probability)-1)"
      ],
      "metadata": {
        "id": "nFGc8u2QAAjd"
      },
      "execution_count": 101,
      "outputs": []
    },
    {
      "cell_type": "code",
      "source": [
        "print(round(Leafs_Odds), \"Leafs Odds\", '|', \"Capitals_Odds\", round(Capitals_Odds))\n",
        "print(\"Leafs_Odds:\", round(Leafs_Odds))\n",
        "print(\"Capitals_Odds:\", round(Capitals_Odds))"
      ],
      "metadata": {
        "id": "MACLCksa1FLv",
        "outputId": "f76907f5-1503-4eac-c254-d807a6d59785",
        "colab": {
          "base_uri": "https://localhost:8080/"
        }
      },
      "execution_count": 107,
      "outputs": [
        {
          "output_type": "stream",
          "name": "stdout",
          "text": [
            "-335 Leafs Odds | Capitals_Odds 335\n",
            "Leafs_Odds: -335\n",
            "Capitals_Odds: 335\n"
          ]
        }
      ]
    },
    {
      "cell_type": "markdown",
      "source": [
        "1. Add adjustment for Home and Away.\n",
        "2. Adjust for recency of players.\n",
        "3. Clean up code blocks and refine inputing the data.\n",
        "4. Bring in team logos for odds and probabilities."
      ],
      "metadata": {
        "id": "w0HgwQkS567w"
      }
    },
    {
      "cell_type": "code",
      "source": [
        "#Make a Data Table for skaters on each team\n",
        "Avalanche_skaters = skater_stats.loc[(skater_stats.Team == 'COL')]\n",
        "Blackhawks_skaters = skater_stats.loc[(skater_stats.Team == 'CHI')]\n",
        "Blue_Jackets_skaters = skater_stats.loc[(skater_stats.Team == 'CBJ')]\n",
        "Blues_skaters = skater_stats.loc[(skater_stats.Team == 'STL')]\n",
        "Bruins_skaters = skater_stats.loc[(skater_stats.Team == 'BOS')]\n",
        "Canadiens_skaters = skater_stats.loc[(skater_stats.Team == 'MTL')]\n",
        "Canucks_skaters = skater_stats.loc[(skater_stats.Team == 'VAN')]\n",
        "Capitals_skaters = skater_stats.loc[(skater_stats.Team == 'WSH')]\n",
        "Coyotes_skaters = skater_stats.loc[(skater_stats.Team == 'ARI')]\n",
        "Devils_skaters = skater_stats.loc[(skater_stats.Team == 'N.J')]\n",
        "Ducks_skaters = skater_stats.loc[(skater_stats.Team == 'ANA')]\n",
        "Flames_skaters = skater_stats.loc[(skater_stats.Team == 'CGY')]\n",
        "Flyers_skaters = skater_stats.loc[(skater_stats.Team == 'PHI')]\n",
        "Hurricanes_skaters = skater_stats.loc[(skater_stats.Team == 'CAR')]\n",
        "Islanders_skaters = skater_stats.loc[(skater_stats.Team == 'NYI')]\n",
        "Jets_skaters = skater_stats.loc[(skater_stats.Team == 'WPG')]\n",
        "Kings_skaters = skater_stats.loc[(skater_stats.Team == 'L.A')]\n",
        "Knights_skaters = skater_stats.loc[(skater_stats.Team == 'VGK')]\n",
        "Kraken_skaters = skater_stats.loc[(skater_stats.Team == 'SEA')]\n",
        "Leafs_skaters = skater_stats.loc[(skater_stats.Team == 'TOR')]\n",
        "Lightning_skaters = skater_stats.loc[(skater_stats.Team == 'T.B')]\n",
        "Oilers_skaters = skater_stats.loc[(skater_stats.Team == 'EDM')]\n",
        "Panthers_skaters = skater_stats.loc[(skater_stats.Team == 'FLA')]\n",
        "Penguins_skaters = skater_stats.loc[(skater_stats.Team == 'PIT')]\n",
        "Predators_skaters = skater_stats.loc[(skater_stats.Team == 'NSH')]\n",
        "Rangers_skaters = skater_stats.loc[(skater_stats.Team == 'NYR')]\n",
        "Red_Wings_skaters = skater_stats.loc[(skater_stats.Team == 'DET')]\n",
        "Sabres_skaters = skater_stats.loc[(skater_stats.Team == 'BUF')]\n",
        "Senators_skaters = skater_stats.loc[(skater_stats.Team == 'OTT')]\n",
        "Sharks_skaters = skater_stats.loc[(skater_stats.Team == 'S.J')]\n",
        "Stars_skaters = skater_stats.loc[(skater_stats.Team == 'DAL')]\n",
        "Wild_skaters = skater_stats.loc[(skater_stats.Team == 'MIN')]"
      ],
      "metadata": {
        "id": "an8AclsZYCyS"
      },
      "execution_count": null,
      "outputs": []
    },
    {
      "cell_type": "code",
      "source": [
        "#Make a Data for each team of goalies\n",
        "Avalanche_goalie = goalie_stats.loc[(goalie_stats.Team == 'COL')]\n",
        "Blackhawks_goalie = goalie_stats.loc[(goalie_stats.Team == 'CHI')]\n",
        "Blue_Jackets_goalie = goalie_stats.loc[(goalie_stats.Team == 'CBJ')]\n",
        "Blues_goalie = goalie_stats.loc[(goalie_stats.Team == 'STL')]\n",
        "Bruins_goalie = goalie_stats.loc[(goalie_stats.Team == 'BOS')]\n",
        "Canadiens_goalie = goalie_stats.loc[(goalie_stats.Team == 'MTL')]\n",
        "Canucks_goalie = goalie_stats.loc[(goalie_stats.Team == 'VAN')]\n",
        "Capitals_goalie = goalie_stats.loc[(goalie_stats.Team == 'WSH')]\n",
        "Coyotes_goalie = goalie_stats.loc[(goalie_stats.Team == 'ARI')]\n",
        "Devils_goalie = goalie_stats.loc[(goalie_stats.Team == 'N.J')]\n",
        "Ducks_goalie = goalie_stats.loc[(goalie_stats.Team == 'ANA')]\n",
        "Flames_goalie = goalie_stats.loc[(goalie_stats.Team == 'CGY')]\n",
        "Flyers_goalie = goalie_stats.loc[(goalie_stats.Team == 'PHI')]\n",
        "Hurricanes_goalie = goalie_stats.loc[(goalie_stats.Team == 'CAR')]\n",
        "Islanders_goalie = goalie_stats.loc[(goalie_stats.Team == 'NYI')]\n",
        "Jets_goalie = goalie_stats.loc[(goalie_stats.Team == 'WPG')]\n",
        "Kings_goalie = goalie_stats.loc[(goalie_stats.Team == 'L.A')]\n",
        "Knights_goalie = goalie_stats.loc[(goalie_stats.Team == 'VGK')]\n",
        "Kraken_goalie = goalie_stats.loc[(goalie_stats.Team == 'SEA')]\n",
        "Leafs_goalie = goalie_stats.loc[(goalie_stats.Team == 'TOR')]\n",
        "Lightning_goalie = goalie_stats.loc[(goalie_stats.Team == 'T.B')]\n",
        "Oilers_goalie = goalie_stats.loc[(goalie_stats.Team == 'EDM')]\n",
        "Panthers_goalie = goalie_stats.loc[(goalie_stats.Team == 'FLA')]\n",
        "Penguins_goalie = goalie_stats.loc[(goalie_stats.Team == 'PIT')]\n",
        "Predators_goalie = goalie_stats.loc[(goalie_stats.Team == 'NSH')]\n",
        "Rangers_goalie = goalie_stats.loc[(goalie_stats.Team == 'NYR')]\n",
        "Red_Wings_goalie = goalie_stats.loc[(goalie_stats.Team == 'DET')]\n",
        "Sabres_goalie = goalie_stats.loc[(goalie_stats.Team == 'BUF')]\n",
        "Senators_goalie = goalie_stats.loc[(goalie_stats.Team == 'OTT')]\n",
        "Sharks_goalie = goalie_stats.loc[(goalie_stats.Team == 'S.J')]\n",
        "Stars_goalie = goalie_stats.loc[(goalie_stats.Team == 'DAL')]\n",
        "Wild_goalie = goalie_stats.loc[(goalie_stats.Team == 'MIN')]"
      ],
      "metadata": {
        "id": "KEoAqA9oI1BT"
      },
      "execution_count": null,
      "outputs": []
    }
  ]
}