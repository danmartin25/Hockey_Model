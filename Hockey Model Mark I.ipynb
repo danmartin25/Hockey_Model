{
  "nbformat": 4,
  "nbformat_minor": 0,
  "metadata": {
    "colab": {
      "name": "Hockey Model Mark I.ipynb",
      "provenance": [],
      "collapsed_sections": [],
      "include_colab_link": true
    },
    "kernelspec": {
      "name": "python3",
      "display_name": "Python 3"
    },
    "language_info": {
      "name": "python"
    }
  },
  "cells": [
    {
      "cell_type": "markdown",
      "metadata": {
        "id": "view-in-github",
        "colab_type": "text"
      },
      "source": [
        "<a href=\"https://colab.research.google.com/github/danmartin25/Hockey_Model/blob/main/Hockey%20Model%20Mark%20I.ipynb\" target=\"_parent\"><img src=\"https://colab.research.google.com/assets/colab-badge.svg\" alt=\"Open In Colab\"/></a>"
      ]
    },
    {
      "cell_type": "markdown",
      "source": [
        "**Notes**\n",
        "1. On-ice EV xG+/-\n",
        "\n",
        "2. On-ice EV G+/-\n",
        "\n",
        "3. On-ice PP G+/- above average\n",
        "\n",
        "4. On-ice SH G+/- above average\n",
        "\n",
        "5. GSAx\n",
        "\n",
        "6. Individual points above average (depending on position and role)"
      ],
      "metadata": {
        "id": "hNUCQe2I3t-p"
      }
    },
    {
      "cell_type": "code",
      "source": [
        "# Import Dependencies\n",
        "import pandas as pd\n",
        "import numpy as np\n",
        "import matplotlib.pyplot as plt\n",
        "import requests"
      ],
      "metadata": {
        "id": "BUi8GdMO30IC"
      },
      "execution_count": 1,
      "outputs": []
    },
    {
      "cell_type": "code",
      "source": [
        "#Import Even-Strength On-Ice Rates Data\n",
        "skater_EV_rates_raw = pd.read_csv('https://raw.githubusercontent.com/danmartin25/Hockey_Model/main/Player%20Data/EV%20On-Ice%20Rates.csv')\n",
        "#skater_EV_rates_raw.head()"
      ],
      "metadata": {
        "id": "XmWW1PSwVGYT"
      },
      "execution_count": 2,
      "outputs": []
    },
    {
      "cell_type": "code",
      "source": [
        "#Restrict Totals Data to GP,TOI,GF%,xGF%,GF,GA,xGF,xGA\n",
        "skater_EV_rates = skater_EV_rates_raw.loc[:,['Player','Season','Team','Position','GP','TOI','GF/60','GA/60','xGF/60','xGA/60']]\n",
        "#skater_EV_rates"
      ],
      "metadata": {
        "id": "3cTkZNbQVLma"
      },
      "execution_count": 3,
      "outputs": []
    },
    {
      "cell_type": "code",
      "source": [
        "skater_EV_rates['EV_TOI'] = skater_EV_rates['TOI']*3600\n",
        "#skater_EV_rates"
      ],
      "metadata": {
        "id": "n0W_lGKuJEGZ"
      },
      "execution_count": 4,
      "outputs": []
    },
    {
      "cell_type": "code",
      "source": [
        "#Convert rate/60 to rates/s\n",
        "skater_EV_rates['GF_EV'] = skater_EV_rates['GF/60']/3600\n",
        "skater_EV_rates['GA_EV'] = skater_EV_rates['GA/60']/3600\n",
        "skater_EV_rates['xGF_EV'] = skater_EV_rates['xGF/60']/3600\n",
        "skater_EV_rates['xGA_EV'] = skater_EV_rates['xGA/60']/3600\n",
        "#skater_EV_rates"
      ],
      "metadata": {
        "id": "Wl_Lr8iygAzJ"
      },
      "execution_count": 5,
      "outputs": []
    },
    {
      "cell_type": "code",
      "source": [
        "#Drop TOI, GF/60, GA/60, xGF/60 and xGA/60 columns\n",
        "skater_EV_rates = skater_EV_rates.drop(columns = ['TOI','GF/60','GA/60','xGF/60','xGA/60'])\n",
        "#skater_EV_rates"
      ],
      "metadata": {
        "id": "YAjSstmCJmqN"
      },
      "execution_count": 6,
      "outputs": []
    },
    {
      "cell_type": "code",
      "source": [
        "#Rename columns\n",
        "skater_EV_rates = skater_EV_rates.rename(columns = {'Position':'Position_EV','GP':'GP_EV'})\n",
        "#skater_EV_rates"
      ],
      "metadata": {
        "id": "GKEiv8_qsC6U"
      },
      "execution_count": 7,
      "outputs": []
    },
    {
      "cell_type": "code",
      "source": [
        "#Import PP On-Ice Rates Data\n",
        "skater_PP_rates_raw = pd.read_csv('https://raw.githubusercontent.com/danmartin25/Hockey_Model/main/Player%20Data/PP%20On-Ice%20Rates.csv')\n",
        "#skater_PP_rates_raw.head()"
      ],
      "metadata": {
        "id": "WmqnfqP9Veya"
      },
      "execution_count": 8,
      "outputs": []
    },
    {
      "cell_type": "code",
      "source": [
        "#Reduce PP On-Ice Totals Data\n",
        "skater_PP_rates = skater_PP_rates_raw.loc[:,['Player','Season','Team','Position','GP','TOI','G±/60']]\n",
        "#skater_PP_rates"
      ],
      "metadata": {
        "id": "iQDVl4fJiF_i"
      },
      "execution_count": 9,
      "outputs": []
    },
    {
      "cell_type": "code",
      "source": [
        "#Convert G±/60 to G/s and TOI to PP_TOI(s)\n",
        "skater_PP_rates['PP'] = skater_PP_rates['G±/60']/3600\n",
        "skater_PP_rates['PP_TOI'] = skater_PP_rates['TOI']*3600\n",
        "#skater_PP_rates"
      ],
      "metadata": {
        "id": "tk5-JkAfe_RJ"
      },
      "execution_count": 10,
      "outputs": []
    },
    {
      "cell_type": "code",
      "source": [
        "#Drop columns\n",
        "skater_PP_rates = skater_PP_rates.drop(columns = ['TOI','G±/60'])\n",
        "#skater_PP_rates"
      ],
      "metadata": {
        "id": "B0dz7YIJqrAC"
      },
      "execution_count": 11,
      "outputs": []
    },
    {
      "cell_type": "code",
      "source": [
        "#Rename columns\n",
        "skater_PP_rates = skater_PP_rates.rename(columns = {'Position':'Position_PP','GP':'GP_PP'})\n",
        "#skater_PP_rates"
      ],
      "metadata": {
        "id": "Dl4Zy0f9uVJ5"
      },
      "execution_count": 12,
      "outputs": []
    },
    {
      "cell_type": "code",
      "source": [
        "#Import SH On-Ice Totals Data\n",
        "skater_SH_rates_raw = pd.read_csv('https://raw.githubusercontent.com/danmartin25/Hockey_Model/main/Player%20Data/SH%20On-Ice%20Rates.csv')\n",
        "#skater_SH_rates_raw.head()"
      ],
      "metadata": {
        "id": "bw7j9RFqojeR"
      },
      "execution_count": 13,
      "outputs": []
    },
    {
      "cell_type": "code",
      "source": [
        "#Reduce SH On-Ice Totals Data\n",
        "skater_SH_rates = skater_SH_rates_raw.loc[:,['Player','Season','Team','Position','GP','TOI','G±/60']]\n",
        "#skater_SH_rates"
      ],
      "metadata": {
        "id": "4mYzlSsRp2KR"
      },
      "execution_count": 14,
      "outputs": []
    },
    {
      "cell_type": "code",
      "source": [
        "#Convert TOI to TOI(s) and G±/60 to G± (s)\n",
        "skater_SH_rates['SH'] = skater_SH_rates['G±/60']/3600\n",
        "skater_SH_rates['SH_TOI'] = skater_SH_rates['TOI']*3600\n",
        "#skater_SH_rates"
      ],
      "metadata": {
        "id": "2_jO0oRJ1Ahp"
      },
      "execution_count": 15,
      "outputs": []
    },
    {
      "cell_type": "code",
      "source": [
        "#Drop columns\n",
        "skater_SH_rates = skater_SH_rates.drop(columns = ['G±/60','TOI'])\n",
        "#skater_SH_rates"
      ],
      "metadata": {
        "id": "Ntu31okTsSnY"
      },
      "execution_count": 16,
      "outputs": []
    },
    {
      "cell_type": "code",
      "source": [
        "#Rename columns\n",
        "skater_SH_rates = skater_SH_rates.rename(columns = {'Position':'Position_SH','GP':'GP_SH'})\n",
        "#skater_SH_rates"
      ],
      "metadata": {
        "id": "EBuJcEtwrn0y"
      },
      "execution_count": 17,
      "outputs": []
    },
    {
      "cell_type": "code",
      "source": [
        "#Import Player Box Stats\n",
        "skater_box_totals_raw = pd.read_csv('https://raw.githubusercontent.com/danmartin25/Hockey_Model/main/Player%20Data/Player%20Stats%20Box.csv')\n",
        "#skater_box_totals_raw.head()"
      ],
      "metadata": {
        "id": "BaXHcJgmH9KX"
      },
      "execution_count": 18,
      "outputs": []
    },
    {
      "cell_type": "code",
      "source": [
        "#Reduce Data Stats\n",
        "skater_box_totals = skater_box_totals_raw.loc[:,['Player','Season','Team','Position','GP','TOI','G','A1','A2']]\n",
        "#skater_box_totals.head()"
      ],
      "metadata": {
        "id": "vKYmDtckKao9"
      },
      "execution_count": 19,
      "outputs": []
    },
    {
      "cell_type": "code",
      "source": [
        "skater_box_totals['TOI_tot'] = skater_box_totals['TOI']*3600\n",
        "#skater_box_totals"
      ],
      "metadata": {
        "id": "k5587-3Zghlv"
      },
      "execution_count": 20,
      "outputs": []
    },
    {
      "cell_type": "code",
      "source": [
        "skater_box_totals = skater_box_totals.drop(columns = {'TOI'})\n",
        "#skater_box_totals"
      ],
      "metadata": {
        "id": "1dIZuFb-gyPN"
      },
      "execution_count": 21,
      "outputs": []
    },
    {
      "cell_type": "code",
      "source": [
        "#Get PAA\n",
        "#skater_box_totals['PAA'] = skater_box_totals['Points'] - Points_mean\n",
        "#skater_box_totals\n",
        "\n",
        "#Get PAA for Fwds and Dmen and combine\n",
        "#pd.options.mode.chained_assignment = None\n",
        "#forwards_table['PAA'] = forwards_table['Points'] - Forwards_mean\n",
        "#forwards_table.head(10)\n",
        "\n",
        "#defense_table['PAA'] = defense_table['Points'] - Defense_mean\n",
        "#defensemen_table.head(10)\n",
        "\n",
        "#Add dataframes back together and sort again\n",
        "#concat_frames = [forwards_table, defense_table]\n",
        "#skater_box_totals = pd.concat(concat_frames)\n",
        "#skater_box_totals = skater_box_totals.sort_index()\n",
        "#skater_box_totals.head(10)"
      ],
      "metadata": {
        "id": "Xcp8IH20RZGj"
      },
      "execution_count": 22,
      "outputs": []
    },
    {
      "cell_type": "code",
      "source": [
        "#Combine skater EV and PP stats\n",
        "skater_EV_PP = pd.merge(skater_EV_rates, skater_PP_rates, how=\"outer\", on=['Player','Season'])\n",
        "#skater_EV_PP"
      ],
      "metadata": {
        "id": "MGH26r0V-aBu"
      },
      "execution_count": 23,
      "outputs": []
    },
    {
      "cell_type": "code",
      "source": [
        "#Drop duplicate columns\n",
        "skater_EV_PP = skater_EV_PP.drop(columns = ['Team_y','Position_PP','GP_PP'])\n",
        "#skater_EV_PP"
      ],
      "metadata": {
        "id": "AnoRVrSbwGgT"
      },
      "execution_count": 24,
      "outputs": []
    },
    {
      "cell_type": "code",
      "source": [
        "#Merge EV,PP,SH tables together\n",
        "skater_EV_PP_SH = pd.merge(skater_EV_PP, skater_SH_rates, how=\"left\", on=[\"Player\", \"Season\"])\n",
        "#skater_EV_PP_SH"
      ],
      "metadata": {
        "id": "Sd_CdiVh-6QR"
      },
      "execution_count": 25,
      "outputs": []
    },
    {
      "cell_type": "code",
      "source": [
        "#Clean up data\n",
        "skater_EV_PP_SH = skater_EV_PP_SH.drop(columns = ['Team','Position_SH','GP_SH'])\n",
        "#skater_EV_PP_SH"
      ],
      "metadata": {
        "id": "-u0byvYSyo0v"
      },
      "execution_count": 26,
      "outputs": []
    },
    {
      "cell_type": "code",
      "source": [
        "#Merge EV,PP,SH and Points tables together\n",
        "full_skater_totals = pd.merge(skater_EV_PP_SH, skater_box_totals, how=\"left\", on=[\"Player\", \"Season\"])\n",
        "#full_skater_totals.head()"
      ],
      "metadata": {
        "id": "tc-fJxp1sEu4"
      },
      "execution_count": 27,
      "outputs": []
    },
    {
      "cell_type": "code",
      "source": [
        "#Replace NaN with 0\n",
        "full_skater_totals = full_skater_totals.replace(np.NaN, 0)\n",
        "#full_skater_totals"
      ],
      "metadata": {
        "id": "GVe2L6TvG7W8"
      },
      "execution_count": 28,
      "outputs": []
    },
    {
      "cell_type": "code",
      "source": [
        "#Drop Repeated Columns\n",
        "full_skater_totals = full_skater_totals.drop(columns = ['Team','Position','GP'])\n",
        "#full_skater_totals.head(10)\n"
      ],
      "metadata": {
        "id": "rwivaMNuBK-X"
      },
      "execution_count": 29,
      "outputs": []
    },
    {
      "cell_type": "code",
      "source": [
        "full_skater_totals = full_skater_totals.rename(columns = {'Team_x':'Team','Position_EV':'Position'})\n",
        "#full_skater_totals"
      ],
      "metadata": {
        "id": "zrfejREmqjCb"
      },
      "execution_count": 30,
      "outputs": []
    },
    {
      "cell_type": "code",
      "source": [
        "#Look at positions to get correct F/D average points\n",
        "forwards_table = full_skater_totals.loc[full_skater_totals.Position!= \"D\"]\n",
        "defense_table = full_skater_totals.loc[full_skater_totals.Position== \"D\"]"
      ],
      "metadata": {
        "id": "DdtWssypWguE"
      },
      "execution_count": 31,
      "outputs": []
    },
    {
      "cell_type": "code",
      "source": [
        "#Calculate Mean Stats of forwards and defensemen\n",
        "avg_GF_EV_F = forwards_table['GF_EV'].mean()\n",
        "avg_GA_EV_F = forwards_table['GA_EV'].mean()\n",
        "avg_xGF_EV_F = forwards_table['xGF_EV'].mean()\n",
        "avg_xGA_EV_F = forwards_table['xGA_EV'].mean()\n",
        "avg_PP_F = forwards_table['PP'].mean()\n",
        "avg_SH_F = forwards_table['SH'].mean()\n",
        "avg_G_F = forwards_table['G'].mean()\n",
        "avg_A1_F = forwards_table['A1'].mean()\n",
        "avg_A2_F = forwards_table['A2'].mean()\n",
        "#print(Forwards_mean)\n",
        "avg_GF_EV_D = defense_table['GF_EV'].mean()\n",
        "avg_GA_EV_D = defense_table['GA_EV'].mean()\n",
        "avg_xGF_EV_D = defense_table['xGF_EV'].mean()\n",
        "avg_xGA_EV_D = defense_table['xGA_EV'].mean()\n",
        "avg_PP_D = defense_table['PP'].mean()\n",
        "avg_SH_D = defense_table['SH'].mean()\n",
        "avg_G_D = defense_table['G'].mean()\n",
        "avg_A1_D = defense_table['A1'].mean()\n",
        "avg_A2_D = defense_table['A2'].mean()\n",
        "#print(Defensemen_mean)"
      ],
      "metadata": {
        "id": "fR_-3IGDrDBX"
      },
      "execution_count": 32,
      "outputs": []
    },
    {
      "cell_type": "code",
      "source": [
        "#Add impact for all variables to the tables\n",
        "pd.options.mode.chained_assignment = None\n",
        "#forwards\n",
        "forwards_table['GF_Impact'] = (forwards_table['GF_EV']-avg_GF_EV_F)*forwards_table['EV_TOI']\n",
        "forwards_table['GA_Impact'] = (forwards_table['GA_EV']-avg_GA_EV_F)*forwards_table['EV_TOI']\n",
        "forwards_table['xGF_Impact'] = (forwards_table['xGF_EV']-avg_xGF_EV_F)*forwards_table['EV_TOI']\n",
        "forwards_table['xGA_Impact'] = (forwards_table['xGA_EV']-avg_xGA_EV_F)*forwards_table['EV_TOI']\n",
        "forwards_table['PP_Impact'] = (forwards_table['PP']-avg_PP_F)*forwards_table['PP_TOI']\n",
        "forwards_table['SH_Impact'] = (forwards_table['SH']-avg_SH_F)*forwards_table['SH_TOI']\n",
        "forwards_table['G_Impact'] = (forwards_table['G']-avg_G_F)*forwards_table['TOI_tot']\n",
        "forwards_table['A1_Impact'] = (forwards_table['A1']-avg_A1_F)*forwards_table['TOI_tot']\n",
        "forwards_table['A2_Impact'] = (forwards_table['A2']-avg_A2_F)*forwards_table['TOI_tot']\n",
        "#defense\n",
        "defense_table['GF_Impact'] = (defense_table['GF_EV']-avg_GF_EV_D)*defense_table['EV_TOI']\n",
        "defense_table['GA_Impact'] = (defense_table['GA_EV']-avg_GA_EV_D)*defense_table['EV_TOI']\n",
        "defense_table['xGF_Impact'] = (defense_table['xGF_EV']-avg_xGF_EV_D)*defense_table['EV_TOI']\n",
        "defense_table['xGA_Impact'] = (defense_table['xGA_EV']-avg_xGA_EV_D)*defense_table['EV_TOI']\n",
        "defense_table['PP_Impact'] = (defense_table['PP']-avg_PP_D)*defense_table['PP_TOI']\n",
        "defense_table['SH_Impact'] = (defense_table['SH']-avg_SH_D)*defense_table['SH_TOI']\n",
        "defense_table['G_Impact'] = (defense_table['G']-avg_G_D)*defense_table['TOI_tot']\n",
        "defense_table['A1_Impact'] = (defense_table['A1']-avg_A1_D)*defense_table['TOI_tot']\n",
        "defense_table['A2_Impact'] = (defense_table['A2']-avg_A2_D)*defense_table['TOI_tot']"
      ],
      "metadata": {
        "id": "14JhVHVbcUcj"
      },
      "execution_count": 33,
      "outputs": []
    },
    {
      "cell_type": "code",
      "source": [
        "#Import Goalie Data\n",
        "goalie_stats_raw = pd.read_csv('https://raw.githubusercontent.com/danmartin25/Hockey_Model/main/Player%20Data/Goalie%20Stats.csv')\n",
        "#goalie_stats_raw.head()"
      ],
      "metadata": {
        "id": "fggig3SI1Zig"
      },
      "execution_count": 34,
      "outputs": []
    },
    {
      "cell_type": "code",
      "source": [
        "#Reduce Goalie Stats\n",
        "goalie_stats = goalie_stats_raw.loc[:,['Player','Season','Team','Position','GP','GSAx']]\n",
        "#goalie_stats.head()"
      ],
      "metadata": {
        "id": "kQa9H0cG_VOl"
      },
      "execution_count": 35,
      "outputs": []
    },
    {
      "cell_type": "code",
      "source": [
        "#Add Active / Inactive Column to both data tables\n",
        "forwards_table['A/I'] = 'Active'\n",
        "defense_table['A/I'] = 'Active'\n",
        "goalie_stats['A/I'] = 'Active'"
      ],
      "metadata": {
        "id": "Z04aWgQyXNGs"
      },
      "execution_count": 36,
      "outputs": []
    },
    {
      "cell_type": "code",
      "source": [
        "#Write if statement for weighing of season data for skaters\n",
        "#Forwards Table\n",
        "forwards_table.loc[forwards_table['Season'] == '21-22', 'Total Impact'] = ((forwards_table['GF_Impact']*0.00294) + (forwards_table['GA_Impact']*-0.00248) + (forwards_table['xGF_Impact']*0.00485) + (forwards_table['xGA_Impact']*-0.00439)\n",
        "+ (forwards_table['xGF_Impact']*0.00485) + (forwards_table['PP_Impact']*0.00361) + (forwards_table['SH_Impact']*0.00498) + (forwards_table['G_Impact']*0.00749)\n",
        "+ (forwards_table['A1_Impact']*0.00771) + (forwards_table['A2_Impact']*0.0102))*3\n",
        "forwards_table.loc[forwards_table['Season'] == '20-21', 'Total Impact'] = ((forwards_table['GF_Impact']*0.00294) + (forwards_table['GA_Impact']*-0.00248) + (forwards_table['xGF_Impact']*0.00485) + (forwards_table['xGA_Impact']*-0.00439)\n",
        "+ (forwards_table['xGF_Impact']*0.00485) + (forwards_table['PP_Impact']*0.00361) + (forwards_table['SH_Impact']*0.00498) + (forwards_table['G_Impact']*0.00749)\n",
        "+ (forwards_table['A1_Impact']*0.00771) + (forwards_table['A2_Impact']*0.0102))*2\n",
        "forwards_table.loc[forwards_table['Season'] == '19-20', 'Total Impact'] = ((forwards_table['GF_Impact']*0.00294) + (forwards_table['GA_Impact']*-0.00248) + (forwards_table['xGF_Impact']*0.00485) + (forwards_table['xGA_Impact']*-0.00439)\n",
        "+ (forwards_table['xGF_Impact']*0.00485) + (forwards_table['PP_Impact']*0.00361) + (forwards_table['SH_Impact']*0.00498) + (forwards_table['G_Impact']*0.00749)\n",
        "+ (forwards_table['A1_Impact']*0.00771) + (forwards_table['A2_Impact']*0.0102))*1\n",
        "forwards_table\n",
        "\n",
        "#Defense Table\n",
        "defense_table.loc[defense_table['Season'] == '21-22', 'Total Impact'] = ((defense_table['GF_Impact']*0.00444) + (defense_table['GA_Impact']*-0.00385)\n",
        "+ (defense_table['xGF_Impact']*0.00736) + (defense_table['xGA_Impact']*-0.00654) + (defense_table['PP_Impact']*0.00833) + (defense_table['SH_Impact']*0.00498)\n",
        "+ (defense_table['G_Impact']*0.0132) + (defense_table['A1_Impact']*0.00963) + (defense_table['A2_Impact']*0.00918))*3\n",
        "defense_table.loc[defense_table['Season'] == '20-21', 'Total Impact'] = ((defense_table['GF_Impact']*0.00444) + (defense_table['GA_Impact']*-0.00385)\n",
        "+ (defense_table['xGF_Impact']*0.00736) + (defense_table['xGA_Impact']*-0.00654) + (defense_table['PP_Impact']*0.00833) + (defense_table['SH_Impact']*0.00498)\n",
        "+ (defense_table['G_Impact']*0.0132) + (defense_table['A1_Impact']*0.00963) + (defense_table['A2_Impact']*0.00918))*2\n",
        "defense_table.loc[defense_table['Season'] == '19-20', 'Total Impact'] = ((defense_table['GF_Impact']*0.00444) + (defense_table['GA_Impact']*-0.00385)\n",
        "+ (defense_table['xGF_Impact']*0.00736) + (defense_table['xGA_Impact']*-0.00654) + (defense_table['PP_Impact']*0.00833) + (defense_table['SH_Impact']*0.00498)\n",
        "+ (defense_table['G_Impact']*0.0132) + (defense_table['A1_Impact']*0.00963) + (defense_table['A2_Impact']*0.00918))*1\n",
        "defense_table"
      ],
      "metadata": {
        "id": "burNNvXCGyKP",
        "outputId": "200404b7-aa51-4760-d902-b76b2c823065",
        "colab": {
          "base_uri": "https://localhost:8080/",
          "height": 424
        }
      },
      "execution_count": 37,
      "outputs": [
        {
          "output_type": "execute_result",
          "data": {
            "text/plain": [
              "               Player Season Team Position  GP_EV     EV_TOI     GF_EV  \\\n",
              "1        Aaron Ekblad  19-20  FLA        D     67  4565808.0  0.000939   \n",
              "2        Aaron Ekblad  20-21  FLA        D     35  2268540.0  0.000667   \n",
              "3        Aaron Ekblad  21-22  FLA        D     61  3933900.0  0.001081   \n",
              "4          Aaron Ness  19-20  ARI        D     24  1053468.0  0.000731   \n",
              "5        Adam Boqvist  19-20  CHI        D     41  2030220.0  0.000919   \n",
              "...               ...    ...  ...      ...    ...        ...       ...   \n",
              "2466  Zach Whitecloud  20-21  VGK        D     51  2861352.0  0.000603   \n",
              "2467  Zach Whitecloud  21-22  VGK        D     59  3576132.0  0.000928   \n",
              "2475      Zdeno Chara  19-20  BOS        D     68  4216320.0  0.000814   \n",
              "2476      Zdeno Chara  20-21  WSH        D     55  2942712.0  0.000714   \n",
              "2477      Zdeno Chara  21-22  NYI        D     72  4306680.0  0.000675   \n",
              "\n",
              "         GA_EV    xGF_EV    xGA_EV  ...   GA_Impact   xGF_Impact  xGA_Impact  \\\n",
              "1     0.000775  0.000692  0.000694  ...  273.983227   165.122527   86.463107   \n",
              "2     0.000489  0.000700  0.000569  ... -512.924836   100.946289 -240.607959   \n",
              "3     0.000636  0.000942  0.000642  ... -310.311062  1125.744563 -133.125890   \n",
              "4     0.000747  0.000622  0.000600  ...   33.953097   -35.058811  -79.544584   \n",
              "5     0.000825  0.000764  0.000819  ...  223.339651   220.049942  292.223954   \n",
              "...        ...       ...       ...  ...         ...          ...         ...   \n",
              "2466  0.000439  0.000667  0.000569  ... -790.029304    31.947046 -303.483326   \n",
              "2467  0.000675  0.000772  0.000622  ... -143.018064   417.408177 -190.554674   \n",
              "2475  0.000494  0.000600  0.000592  ... -929.900712  -234.012712 -353.499178   \n",
              "2476  0.000672  0.000583  0.000542  ... -125.860285  -212.370568 -393.854605   \n",
              "2477  0.000592  0.000656  0.000769  ... -531.124425     0.232159  404.556977   \n",
              "\n",
              "        PP_Impact   SH_Impact      G_Impact     A1_Impact     A2_Impact  \\\n",
              "1      370.223264 -801.705154  9.575132e+06  9.641494e+07  3.744098e+07   \n",
              "2      912.060693  -54.846263  2.443626e+07 -1.851396e+06 -7.506635e+05   \n",
              "3     1516.519070   27.675103  6.417089e+07  4.056350e+07  1.245321e+08   \n",
              "4       -0.000000    0.000000 -3.541964e+06 -4.966168e+06 -6.755076e+06   \n",
              "5      206.282102    0.000000  1.746623e+06 -1.402219e+06 -5.357405e+06   \n",
              "...           ...         ...           ...           ...           ...   \n",
              "2466    -0.000000  -18.077949 -4.149599e+06 -5.178611e+06 -7.754867e+05   \n",
              "2467    -0.000000 -589.482289  1.888493e+07  9.640749e+06 -1.292726e+07   \n",
              "2475    -0.000000 -369.116796  8.893756e+06 -1.843913e+07  3.921471e+06   \n",
              "2476    -0.000000 -353.266201 -4.602651e+06 -5.744010e+06 -8.105298e+06   \n",
              "2477    -0.000000  185.926204 -6.167773e+06  1.172043e+07 -1.086149e+07   \n",
              "\n",
              "         A/I  Total Impact  \n",
              "1     Active  1.398580e+06  \n",
              "2     Active  5.957004e+05  \n",
              "3     Active  7.142753e+06  \n",
              "4     Active -1.565893e+05  \n",
              "5     Active -3.962607e+04  \n",
              "...      ...           ...  \n",
              "2466  Active -2.235187e+05  \n",
              "2467  Active  6.703658e+05  \n",
              "2475  Active -2.416709e+04  \n",
              "2476  Active -3.809522e+05  \n",
              "2477  Active -2.047645e+05  \n",
              "\n",
              "[876 rows x 29 columns]"
            ],
            "text/html": [
              "\n",
              "  <div id=\"df-990cc742-719c-4909-87c9-a493dbc4ccce\">\n",
              "    <div class=\"colab-df-container\">\n",
              "      <div>\n",
              "<style scoped>\n",
              "    .dataframe tbody tr th:only-of-type {\n",
              "        vertical-align: middle;\n",
              "    }\n",
              "\n",
              "    .dataframe tbody tr th {\n",
              "        vertical-align: top;\n",
              "    }\n",
              "\n",
              "    .dataframe thead th {\n",
              "        text-align: right;\n",
              "    }\n",
              "</style>\n",
              "<table border=\"1\" class=\"dataframe\">\n",
              "  <thead>\n",
              "    <tr style=\"text-align: right;\">\n",
              "      <th></th>\n",
              "      <th>Player</th>\n",
              "      <th>Season</th>\n",
              "      <th>Team</th>\n",
              "      <th>Position</th>\n",
              "      <th>GP_EV</th>\n",
              "      <th>EV_TOI</th>\n",
              "      <th>GF_EV</th>\n",
              "      <th>GA_EV</th>\n",
              "      <th>xGF_EV</th>\n",
              "      <th>xGA_EV</th>\n",
              "      <th>...</th>\n",
              "      <th>GA_Impact</th>\n",
              "      <th>xGF_Impact</th>\n",
              "      <th>xGA_Impact</th>\n",
              "      <th>PP_Impact</th>\n",
              "      <th>SH_Impact</th>\n",
              "      <th>G_Impact</th>\n",
              "      <th>A1_Impact</th>\n",
              "      <th>A2_Impact</th>\n",
              "      <th>A/I</th>\n",
              "      <th>Total Impact</th>\n",
              "    </tr>\n",
              "  </thead>\n",
              "  <tbody>\n",
              "    <tr>\n",
              "      <th>1</th>\n",
              "      <td>Aaron Ekblad</td>\n",
              "      <td>19-20</td>\n",
              "      <td>FLA</td>\n",
              "      <td>D</td>\n",
              "      <td>67</td>\n",
              "      <td>4565808.0</td>\n",
              "      <td>0.000939</td>\n",
              "      <td>0.000775</td>\n",
              "      <td>0.000692</td>\n",
              "      <td>0.000694</td>\n",
              "      <td>...</td>\n",
              "      <td>273.983227</td>\n",
              "      <td>165.122527</td>\n",
              "      <td>86.463107</td>\n",
              "      <td>370.223264</td>\n",
              "      <td>-801.705154</td>\n",
              "      <td>9.575132e+06</td>\n",
              "      <td>9.641494e+07</td>\n",
              "      <td>3.744098e+07</td>\n",
              "      <td>Active</td>\n",
              "      <td>1.398580e+06</td>\n",
              "    </tr>\n",
              "    <tr>\n",
              "      <th>2</th>\n",
              "      <td>Aaron Ekblad</td>\n",
              "      <td>20-21</td>\n",
              "      <td>FLA</td>\n",
              "      <td>D</td>\n",
              "      <td>35</td>\n",
              "      <td>2268540.0</td>\n",
              "      <td>0.000667</td>\n",
              "      <td>0.000489</td>\n",
              "      <td>0.000700</td>\n",
              "      <td>0.000569</td>\n",
              "      <td>...</td>\n",
              "      <td>-512.924836</td>\n",
              "      <td>100.946289</td>\n",
              "      <td>-240.607959</td>\n",
              "      <td>912.060693</td>\n",
              "      <td>-54.846263</td>\n",
              "      <td>2.443626e+07</td>\n",
              "      <td>-1.851396e+06</td>\n",
              "      <td>-7.506635e+05</td>\n",
              "      <td>Active</td>\n",
              "      <td>5.957004e+05</td>\n",
              "    </tr>\n",
              "    <tr>\n",
              "      <th>3</th>\n",
              "      <td>Aaron Ekblad</td>\n",
              "      <td>21-22</td>\n",
              "      <td>FLA</td>\n",
              "      <td>D</td>\n",
              "      <td>61</td>\n",
              "      <td>3933900.0</td>\n",
              "      <td>0.001081</td>\n",
              "      <td>0.000636</td>\n",
              "      <td>0.000942</td>\n",
              "      <td>0.000642</td>\n",
              "      <td>...</td>\n",
              "      <td>-310.311062</td>\n",
              "      <td>1125.744563</td>\n",
              "      <td>-133.125890</td>\n",
              "      <td>1516.519070</td>\n",
              "      <td>27.675103</td>\n",
              "      <td>6.417089e+07</td>\n",
              "      <td>4.056350e+07</td>\n",
              "      <td>1.245321e+08</td>\n",
              "      <td>Active</td>\n",
              "      <td>7.142753e+06</td>\n",
              "    </tr>\n",
              "    <tr>\n",
              "      <th>4</th>\n",
              "      <td>Aaron Ness</td>\n",
              "      <td>19-20</td>\n",
              "      <td>ARI</td>\n",
              "      <td>D</td>\n",
              "      <td>24</td>\n",
              "      <td>1053468.0</td>\n",
              "      <td>0.000731</td>\n",
              "      <td>0.000747</td>\n",
              "      <td>0.000622</td>\n",
              "      <td>0.000600</td>\n",
              "      <td>...</td>\n",
              "      <td>33.953097</td>\n",
              "      <td>-35.058811</td>\n",
              "      <td>-79.544584</td>\n",
              "      <td>-0.000000</td>\n",
              "      <td>0.000000</td>\n",
              "      <td>-3.541964e+06</td>\n",
              "      <td>-4.966168e+06</td>\n",
              "      <td>-6.755076e+06</td>\n",
              "      <td>Active</td>\n",
              "      <td>-1.565893e+05</td>\n",
              "    </tr>\n",
              "    <tr>\n",
              "      <th>5</th>\n",
              "      <td>Adam Boqvist</td>\n",
              "      <td>19-20</td>\n",
              "      <td>CHI</td>\n",
              "      <td>D</td>\n",
              "      <td>41</td>\n",
              "      <td>2030220.0</td>\n",
              "      <td>0.000919</td>\n",
              "      <td>0.000825</td>\n",
              "      <td>0.000764</td>\n",
              "      <td>0.000819</td>\n",
              "      <td>...</td>\n",
              "      <td>223.339651</td>\n",
              "      <td>220.049942</td>\n",
              "      <td>292.223954</td>\n",
              "      <td>206.282102</td>\n",
              "      <td>0.000000</td>\n",
              "      <td>1.746623e+06</td>\n",
              "      <td>-1.402219e+06</td>\n",
              "      <td>-5.357405e+06</td>\n",
              "      <td>Active</td>\n",
              "      <td>-3.962607e+04</td>\n",
              "    </tr>\n",
              "    <tr>\n",
              "      <th>...</th>\n",
              "      <td>...</td>\n",
              "      <td>...</td>\n",
              "      <td>...</td>\n",
              "      <td>...</td>\n",
              "      <td>...</td>\n",
              "      <td>...</td>\n",
              "      <td>...</td>\n",
              "      <td>...</td>\n",
              "      <td>...</td>\n",
              "      <td>...</td>\n",
              "      <td>...</td>\n",
              "      <td>...</td>\n",
              "      <td>...</td>\n",
              "      <td>...</td>\n",
              "      <td>...</td>\n",
              "      <td>...</td>\n",
              "      <td>...</td>\n",
              "      <td>...</td>\n",
              "      <td>...</td>\n",
              "      <td>...</td>\n",
              "      <td>...</td>\n",
              "    </tr>\n",
              "    <tr>\n",
              "      <th>2466</th>\n",
              "      <td>Zach Whitecloud</td>\n",
              "      <td>20-21</td>\n",
              "      <td>VGK</td>\n",
              "      <td>D</td>\n",
              "      <td>51</td>\n",
              "      <td>2861352.0</td>\n",
              "      <td>0.000603</td>\n",
              "      <td>0.000439</td>\n",
              "      <td>0.000667</td>\n",
              "      <td>0.000569</td>\n",
              "      <td>...</td>\n",
              "      <td>-790.029304</td>\n",
              "      <td>31.947046</td>\n",
              "      <td>-303.483326</td>\n",
              "      <td>-0.000000</td>\n",
              "      <td>-18.077949</td>\n",
              "      <td>-4.149599e+06</td>\n",
              "      <td>-5.178611e+06</td>\n",
              "      <td>-7.754867e+05</td>\n",
              "      <td>Active</td>\n",
              "      <td>-2.235187e+05</td>\n",
              "    </tr>\n",
              "    <tr>\n",
              "      <th>2467</th>\n",
              "      <td>Zach Whitecloud</td>\n",
              "      <td>21-22</td>\n",
              "      <td>VGK</td>\n",
              "      <td>D</td>\n",
              "      <td>59</td>\n",
              "      <td>3576132.0</td>\n",
              "      <td>0.000928</td>\n",
              "      <td>0.000675</td>\n",
              "      <td>0.000772</td>\n",
              "      <td>0.000622</td>\n",
              "      <td>...</td>\n",
              "      <td>-143.018064</td>\n",
              "      <td>417.408177</td>\n",
              "      <td>-190.554674</td>\n",
              "      <td>-0.000000</td>\n",
              "      <td>-589.482289</td>\n",
              "      <td>1.888493e+07</td>\n",
              "      <td>9.640749e+06</td>\n",
              "      <td>-1.292726e+07</td>\n",
              "      <td>Active</td>\n",
              "      <td>6.703658e+05</td>\n",
              "    </tr>\n",
              "    <tr>\n",
              "      <th>2475</th>\n",
              "      <td>Zdeno Chara</td>\n",
              "      <td>19-20</td>\n",
              "      <td>BOS</td>\n",
              "      <td>D</td>\n",
              "      <td>68</td>\n",
              "      <td>4216320.0</td>\n",
              "      <td>0.000814</td>\n",
              "      <td>0.000494</td>\n",
              "      <td>0.000600</td>\n",
              "      <td>0.000592</td>\n",
              "      <td>...</td>\n",
              "      <td>-929.900712</td>\n",
              "      <td>-234.012712</td>\n",
              "      <td>-353.499178</td>\n",
              "      <td>-0.000000</td>\n",
              "      <td>-369.116796</td>\n",
              "      <td>8.893756e+06</td>\n",
              "      <td>-1.843913e+07</td>\n",
              "      <td>3.921471e+06</td>\n",
              "      <td>Active</td>\n",
              "      <td>-2.416709e+04</td>\n",
              "    </tr>\n",
              "    <tr>\n",
              "      <th>2476</th>\n",
              "      <td>Zdeno Chara</td>\n",
              "      <td>20-21</td>\n",
              "      <td>WSH</td>\n",
              "      <td>D</td>\n",
              "      <td>55</td>\n",
              "      <td>2942712.0</td>\n",
              "      <td>0.000714</td>\n",
              "      <td>0.000672</td>\n",
              "      <td>0.000583</td>\n",
              "      <td>0.000542</td>\n",
              "      <td>...</td>\n",
              "      <td>-125.860285</td>\n",
              "      <td>-212.370568</td>\n",
              "      <td>-393.854605</td>\n",
              "      <td>-0.000000</td>\n",
              "      <td>-353.266201</td>\n",
              "      <td>-4.602651e+06</td>\n",
              "      <td>-5.744010e+06</td>\n",
              "      <td>-8.105298e+06</td>\n",
              "      <td>Active</td>\n",
              "      <td>-3.809522e+05</td>\n",
              "    </tr>\n",
              "    <tr>\n",
              "      <th>2477</th>\n",
              "      <td>Zdeno Chara</td>\n",
              "      <td>21-22</td>\n",
              "      <td>NYI</td>\n",
              "      <td>D</td>\n",
              "      <td>72</td>\n",
              "      <td>4306680.0</td>\n",
              "      <td>0.000675</td>\n",
              "      <td>0.000592</td>\n",
              "      <td>0.000656</td>\n",
              "      <td>0.000769</td>\n",
              "      <td>...</td>\n",
              "      <td>-531.124425</td>\n",
              "      <td>0.232159</td>\n",
              "      <td>404.556977</td>\n",
              "      <td>-0.000000</td>\n",
              "      <td>185.926204</td>\n",
              "      <td>-6.167773e+06</td>\n",
              "      <td>1.172043e+07</td>\n",
              "      <td>-1.086149e+07</td>\n",
              "      <td>Active</td>\n",
              "      <td>-2.047645e+05</td>\n",
              "    </tr>\n",
              "  </tbody>\n",
              "</table>\n",
              "<p>876 rows × 29 columns</p>\n",
              "</div>\n",
              "      <button class=\"colab-df-convert\" onclick=\"convertToInteractive('df-990cc742-719c-4909-87c9-a493dbc4ccce')\"\n",
              "              title=\"Convert this dataframe to an interactive table.\"\n",
              "              style=\"display:none;\">\n",
              "        \n",
              "  <svg xmlns=\"http://www.w3.org/2000/svg\" height=\"24px\"viewBox=\"0 0 24 24\"\n",
              "       width=\"24px\">\n",
              "    <path d=\"M0 0h24v24H0V0z\" fill=\"none\"/>\n",
              "    <path d=\"M18.56 5.44l.94 2.06.94-2.06 2.06-.94-2.06-.94-.94-2.06-.94 2.06-2.06.94zm-11 1L8.5 8.5l.94-2.06 2.06-.94-2.06-.94L8.5 2.5l-.94 2.06-2.06.94zm10 10l.94 2.06.94-2.06 2.06-.94-2.06-.94-.94-2.06-.94 2.06-2.06.94z\"/><path d=\"M17.41 7.96l-1.37-1.37c-.4-.4-.92-.59-1.43-.59-.52 0-1.04.2-1.43.59L10.3 9.45l-7.72 7.72c-.78.78-.78 2.05 0 2.83L4 21.41c.39.39.9.59 1.41.59.51 0 1.02-.2 1.41-.59l7.78-7.78 2.81-2.81c.8-.78.8-2.07 0-2.86zM5.41 20L4 18.59l7.72-7.72 1.47 1.35L5.41 20z\"/>\n",
              "  </svg>\n",
              "      </button>\n",
              "      \n",
              "  <style>\n",
              "    .colab-df-container {\n",
              "      display:flex;\n",
              "      flex-wrap:wrap;\n",
              "      gap: 12px;\n",
              "    }\n",
              "\n",
              "    .colab-df-convert {\n",
              "      background-color: #E8F0FE;\n",
              "      border: none;\n",
              "      border-radius: 50%;\n",
              "      cursor: pointer;\n",
              "      display: none;\n",
              "      fill: #1967D2;\n",
              "      height: 32px;\n",
              "      padding: 0 0 0 0;\n",
              "      width: 32px;\n",
              "    }\n",
              "\n",
              "    .colab-df-convert:hover {\n",
              "      background-color: #E2EBFA;\n",
              "      box-shadow: 0px 1px 2px rgba(60, 64, 67, 0.3), 0px 1px 3px 1px rgba(60, 64, 67, 0.15);\n",
              "      fill: #174EA6;\n",
              "    }\n",
              "\n",
              "    [theme=dark] .colab-df-convert {\n",
              "      background-color: #3B4455;\n",
              "      fill: #D2E3FC;\n",
              "    }\n",
              "\n",
              "    [theme=dark] .colab-df-convert:hover {\n",
              "      background-color: #434B5C;\n",
              "      box-shadow: 0px 1px 3px 1px rgba(0, 0, 0, 0.15);\n",
              "      filter: drop-shadow(0px 1px 2px rgba(0, 0, 0, 0.3));\n",
              "      fill: #FFFFFF;\n",
              "    }\n",
              "  </style>\n",
              "\n",
              "      <script>\n",
              "        const buttonEl =\n",
              "          document.querySelector('#df-990cc742-719c-4909-87c9-a493dbc4ccce button.colab-df-convert');\n",
              "        buttonEl.style.display =\n",
              "          google.colab.kernel.accessAllowed ? 'block' : 'none';\n",
              "\n",
              "        async function convertToInteractive(key) {\n",
              "          const element = document.querySelector('#df-990cc742-719c-4909-87c9-a493dbc4ccce');\n",
              "          const dataTable =\n",
              "            await google.colab.kernel.invokeFunction('convertToInteractive',\n",
              "                                                     [key], {});\n",
              "          if (!dataTable) return;\n",
              "\n",
              "          const docLinkHtml = 'Like what you see? Visit the ' +\n",
              "            '<a target=\"_blank\" href=https://colab.research.google.com/notebooks/data_table.ipynb>data table notebook</a>'\n",
              "            + ' to learn more about interactive tables.';\n",
              "          element.innerHTML = '';\n",
              "          dataTable['output_type'] = 'display_data';\n",
              "          await google.colab.output.renderOutput(dataTable, element);\n",
              "          const docLink = document.createElement('div');\n",
              "          docLink.innerHTML = docLinkHtml;\n",
              "          element.appendChild(docLink);\n",
              "        }\n",
              "      </script>\n",
              "    </div>\n",
              "  </div>\n",
              "  "
            ]
          },
          "metadata": {},
          "execution_count": 37
        }
      ]
    },
    {
      "cell_type": "code",
      "source": [
        "#Sum all impacts from the previous 3 seasons for a player\n",
        "\n",
        "#Capitals\n",
        "Caps_forwards = ['Alex Ovechkin','Evgeny Kuznetsov','Connor Brown','Aliaksei Protas','Dylan Strome','Anthony Mantha','Marcus Johansson','Lars Eller','T.J. Oshie','Conor Sheary','Nic Dowd','Garnet Hathaway']\n",
        "Caps_defense = ['Martin Fehervary','John Carlson','Dmitri Orlov','Nick Jensen','Erik Gustafsson','Trevor Van Riemsdyk']\n",
        "Caps_goalie = ['Darcy Kuemper']\n",
        "\n",
        "#Bruins\n",
        "Bruins_forwards = ['Taylor Hall','Patrice Bergeron','Jake DeBrusk','Pavel Zacha','David Krejci','David Pastrnak','A.J. Greer','Charlie Coyle','Craig Smith','Nick Foligno','Tomas Nosek','Jakub Lauko']\n",
        "Bruins_defense = ['Hampus Lindholm','Brandon Carlo','Derek Forbort','Jakub Zboril','Mike Reilly','Connor Clifton']\n",
        "Bruins_goalie = ['Linus Ullmark']"
      ],
      "metadata": {
        "id": "Z8gLPlcCjgA-"
      },
      "execution_count": 42,
      "outputs": []
    },
    {
      "cell_type": "code",
      "source": [
        "#Obtain the strength of each team\n",
        "\n",
        "#Capitals Strength\n",
        "Capitals_Strength = Caps_forwards['']"
      ],
      "metadata": {
        "id": "NvUwpMep05e4"
      },
      "execution_count": null,
      "outputs": []
    },
    {
      "cell_type": "code",
      "source": [
        "#Add total Impact coplumn to forwards, defense and goalie tables\n",
        "#Forwards Table\n",
        "#forwards_table['Total Impact'] = (forwards_table['GF_Impact']*0.00294) + (forwards_table['GA_Impact']*-0.00248) + (forwards_table['xGF_Impact']*0.00485) + (forwards_table['xGA_Impact']*-0.00439)\n",
        "#+ (forwards_table['xGF_Impact']*0.00485) + (forwards_table['PP_Impact']*0.00361) + (forwards_table['SH_Impact']*0.00498) + (forwards_table['G_Impact']*0.00749)\n",
        "#+ (forwards_table['A1_Impact']*0.00771) + (forwards_table['A2_Impact']*0.0102)\n",
        "#Defense Table\n",
        "#defense_table['Total Impact'] = (defense_table['GF_Impact']*0.00444) + (defense_table['GA_Impact']*-0.00385)\n",
        "#+ (defense_table['xGF_Impact']*0.00736) + (defense_table['xGA_Impact']*-0.00654) + (defense_table['PP_Impact']*0.00833) + (defense_table['SH_Impact']*0.00498)\n",
        "#+ (defense_table['G_Impact']*0.0132) + (defense_table['A1_Impact']*0.00963) + (defense_table['A2_Impact']*0.00918)\n",
        "#Goalie Stats\n",
        "#goalie_stats['Total Impact'] = goalie_stats['GSAx']*0.00622\n",
        "\n",
        "#forwards_table"
      ],
      "metadata": {
        "id": "fa0qN_RZ1S-M",
        "outputId": "9e877d0d-f766-44e8-d0ad-a5d83c274124",
        "colab": {
          "base_uri": "https://localhost:8080/",
          "height": 424
        }
      },
      "execution_count": 38,
      "outputs": [
        {
          "output_type": "execute_result",
          "data": {
            "text/plain": [
              "                 Player Season         Team Position  GP_EV     EV_TOI  \\\n",
              "0            A.J. Greer  21-22          N.J        L      9   253620.0   \n",
              "8           Adam Brooks  19-20          TOR        C      7   185760.0   \n",
              "9           Adam Brooks  20-21          TOR        C     11   397368.0   \n",
              "10          Adam Brooks  21-22  MTL/VGK/WPG        C     25   768636.0   \n",
              "11            Adam Erne  19-20          DET        L     56  2158992.0   \n",
              "...                 ...    ...          ...      ...    ...        ...   \n",
              "2472       Zack MacEwen  20-21          VAN        C     34  1039140.0   \n",
              "2473       Zack MacEwen  21-22          PHI        C     75  2548188.0   \n",
              "2474         Zack Smith  19-20          CHI        C     50  1850832.0   \n",
              "2478  Zemgus Girgensons  19-20          BUF        C     69  2827620.0   \n",
              "2479  Zemgus Girgensons  21-22          BUF      C/L     56  2450232.0   \n",
              "\n",
              "         GF_EV     GA_EV    xGF_EV    xGA_EV  ...   GA_Impact  xGF_Impact  \\\n",
              "0     0.000711  0.000697  0.000747  0.000525  ...    2.229453   25.494204   \n",
              "8     0.000950  0.000319  0.000767  0.000653  ...  -68.543072   22.284830   \n",
              "9     0.000775  0.000303  0.000489  0.000414  ... -153.246527  -62.709465   \n",
              "10    0.000406  0.000231  0.000572  0.000683  ... -351.940087  -57.247036   \n",
              "11    0.000242  0.000833  0.000483  0.000658  ...  312.841470 -352.709390   \n",
              "...        ...       ...       ...       ...  ...         ...         ...   \n",
              "2472  0.000589  0.000628  0.000572  0.000631  ...  -63.027915  -77.393831   \n",
              "2473  0.000475  0.000778  0.000572  0.000864  ...  227.670607 -189.785816   \n",
              "2474  0.000417  0.000517  0.000469  0.000733  ... -317.908217 -328.072024   \n",
              "2478  0.000486  0.000578  0.000539  0.000550  ... -312.887239 -304.851557   \n",
              "2479  0.000461  0.000611  0.000514  0.000608  ... -189.453378 -325.420377   \n",
              "\n",
              "      xGA_Impact   PP_Impact   SH_Impact      G_Impact     A1_Impact  \\\n",
              "0     -35.882065   -0.000000    0.000000 -2.399057e+06 -2.122005e+06   \n",
              "8      -2.545257   -0.000000    0.000000 -2.063184e+06 -1.254097e+06   \n",
              "9    -100.371479   -0.000000    0.000000 -2.716961e+06 -3.525169e+06   \n",
              "10     12.954360   -0.000000    0.000000 -6.785474e+06 -5.908860e+06   \n",
              "11    -17.587799 -225.588907    0.000000 -2.007068e+07 -1.271366e+07   \n",
              "...          ...         ...         ...           ...           ...   \n",
              "2472  -37.330147   -0.000000    0.000000 -9.965080e+06 -8.814274e+06   \n",
              "2473  503.035894   -0.000000    0.000000 -1.937468e+07 -1.392550e+07   \n",
              "2474  123.734966   -0.000000   57.981808 -1.361673e+07 -7.071927e+06   \n",
              "2478 -329.360143   -0.000000 -965.854758  5.393759e+06 -1.486114e+07   \n",
              "2479 -142.471927  228.822450 -631.690526 -1.269562e+06 -3.987132e+06   \n",
              "\n",
              "         A2_Impact     A/I  Total Impact  \n",
              "0    -1.207542e+06  Active      0.321653  \n",
              "8    -9.388766e+05  Active      0.453409  \n",
              "9    -2.006023e+06  Active      0.663272  \n",
              "10   -4.626071e+06  Active     -0.012749  \n",
              "11   -1.368341e+07  Active     -4.997354  \n",
              "...            ...     ...           ...  \n",
              "2472 -5.015825e+06  Active     -0.240045  \n",
              "2473 -7.160385e+06  Active     -4.999979  \n",
              "2474 -7.934615e+06  Active     -2.612353  \n",
              "2478 -9.403298e+06  Active     -0.614153  \n",
              "2479 -1.414549e+07  Active     -1.839384  \n",
              "\n",
              "[1604 rows x 29 columns]"
            ],
            "text/html": [
              "\n",
              "  <div id=\"df-9c3864d7-6bc8-4e0c-9e45-29dc6e0f1c24\">\n",
              "    <div class=\"colab-df-container\">\n",
              "      <div>\n",
              "<style scoped>\n",
              "    .dataframe tbody tr th:only-of-type {\n",
              "        vertical-align: middle;\n",
              "    }\n",
              "\n",
              "    .dataframe tbody tr th {\n",
              "        vertical-align: top;\n",
              "    }\n",
              "\n",
              "    .dataframe thead th {\n",
              "        text-align: right;\n",
              "    }\n",
              "</style>\n",
              "<table border=\"1\" class=\"dataframe\">\n",
              "  <thead>\n",
              "    <tr style=\"text-align: right;\">\n",
              "      <th></th>\n",
              "      <th>Player</th>\n",
              "      <th>Season</th>\n",
              "      <th>Team</th>\n",
              "      <th>Position</th>\n",
              "      <th>GP_EV</th>\n",
              "      <th>EV_TOI</th>\n",
              "      <th>GF_EV</th>\n",
              "      <th>GA_EV</th>\n",
              "      <th>xGF_EV</th>\n",
              "      <th>xGA_EV</th>\n",
              "      <th>...</th>\n",
              "      <th>GA_Impact</th>\n",
              "      <th>xGF_Impact</th>\n",
              "      <th>xGA_Impact</th>\n",
              "      <th>PP_Impact</th>\n",
              "      <th>SH_Impact</th>\n",
              "      <th>G_Impact</th>\n",
              "      <th>A1_Impact</th>\n",
              "      <th>A2_Impact</th>\n",
              "      <th>A/I</th>\n",
              "      <th>Total Impact</th>\n",
              "    </tr>\n",
              "  </thead>\n",
              "  <tbody>\n",
              "    <tr>\n",
              "      <th>0</th>\n",
              "      <td>A.J. Greer</td>\n",
              "      <td>21-22</td>\n",
              "      <td>N.J</td>\n",
              "      <td>L</td>\n",
              "      <td>9</td>\n",
              "      <td>253620.0</td>\n",
              "      <td>0.000711</td>\n",
              "      <td>0.000697</td>\n",
              "      <td>0.000747</td>\n",
              "      <td>0.000525</td>\n",
              "      <td>...</td>\n",
              "      <td>2.229453</td>\n",
              "      <td>25.494204</td>\n",
              "      <td>-35.882065</td>\n",
              "      <td>-0.000000</td>\n",
              "      <td>0.000000</td>\n",
              "      <td>-2.399057e+06</td>\n",
              "      <td>-2.122005e+06</td>\n",
              "      <td>-1.207542e+06</td>\n",
              "      <td>Active</td>\n",
              "      <td>0.321653</td>\n",
              "    </tr>\n",
              "    <tr>\n",
              "      <th>8</th>\n",
              "      <td>Adam Brooks</td>\n",
              "      <td>19-20</td>\n",
              "      <td>TOR</td>\n",
              "      <td>C</td>\n",
              "      <td>7</td>\n",
              "      <td>185760.0</td>\n",
              "      <td>0.000950</td>\n",
              "      <td>0.000319</td>\n",
              "      <td>0.000767</td>\n",
              "      <td>0.000653</td>\n",
              "      <td>...</td>\n",
              "      <td>-68.543072</td>\n",
              "      <td>22.284830</td>\n",
              "      <td>-2.545257</td>\n",
              "      <td>-0.000000</td>\n",
              "      <td>0.000000</td>\n",
              "      <td>-2.063184e+06</td>\n",
              "      <td>-1.254097e+06</td>\n",
              "      <td>-9.388766e+05</td>\n",
              "      <td>Active</td>\n",
              "      <td>0.453409</td>\n",
              "    </tr>\n",
              "    <tr>\n",
              "      <th>9</th>\n",
              "      <td>Adam Brooks</td>\n",
              "      <td>20-21</td>\n",
              "      <td>TOR</td>\n",
              "      <td>C</td>\n",
              "      <td>11</td>\n",
              "      <td>397368.0</td>\n",
              "      <td>0.000775</td>\n",
              "      <td>0.000303</td>\n",
              "      <td>0.000489</td>\n",
              "      <td>0.000414</td>\n",
              "      <td>...</td>\n",
              "      <td>-153.246527</td>\n",
              "      <td>-62.709465</td>\n",
              "      <td>-100.371479</td>\n",
              "      <td>-0.000000</td>\n",
              "      <td>0.000000</td>\n",
              "      <td>-2.716961e+06</td>\n",
              "      <td>-3.525169e+06</td>\n",
              "      <td>-2.006023e+06</td>\n",
              "      <td>Active</td>\n",
              "      <td>0.663272</td>\n",
              "    </tr>\n",
              "    <tr>\n",
              "      <th>10</th>\n",
              "      <td>Adam Brooks</td>\n",
              "      <td>21-22</td>\n",
              "      <td>MTL/VGK/WPG</td>\n",
              "      <td>C</td>\n",
              "      <td>25</td>\n",
              "      <td>768636.0</td>\n",
              "      <td>0.000406</td>\n",
              "      <td>0.000231</td>\n",
              "      <td>0.000572</td>\n",
              "      <td>0.000683</td>\n",
              "      <td>...</td>\n",
              "      <td>-351.940087</td>\n",
              "      <td>-57.247036</td>\n",
              "      <td>12.954360</td>\n",
              "      <td>-0.000000</td>\n",
              "      <td>0.000000</td>\n",
              "      <td>-6.785474e+06</td>\n",
              "      <td>-5.908860e+06</td>\n",
              "      <td>-4.626071e+06</td>\n",
              "      <td>Active</td>\n",
              "      <td>-0.012749</td>\n",
              "    </tr>\n",
              "    <tr>\n",
              "      <th>11</th>\n",
              "      <td>Adam Erne</td>\n",
              "      <td>19-20</td>\n",
              "      <td>DET</td>\n",
              "      <td>L</td>\n",
              "      <td>56</td>\n",
              "      <td>2158992.0</td>\n",
              "      <td>0.000242</td>\n",
              "      <td>0.000833</td>\n",
              "      <td>0.000483</td>\n",
              "      <td>0.000658</td>\n",
              "      <td>...</td>\n",
              "      <td>312.841470</td>\n",
              "      <td>-352.709390</td>\n",
              "      <td>-17.587799</td>\n",
              "      <td>-225.588907</td>\n",
              "      <td>0.000000</td>\n",
              "      <td>-2.007068e+07</td>\n",
              "      <td>-1.271366e+07</td>\n",
              "      <td>-1.368341e+07</td>\n",
              "      <td>Active</td>\n",
              "      <td>-4.997354</td>\n",
              "    </tr>\n",
              "    <tr>\n",
              "      <th>...</th>\n",
              "      <td>...</td>\n",
              "      <td>...</td>\n",
              "      <td>...</td>\n",
              "      <td>...</td>\n",
              "      <td>...</td>\n",
              "      <td>...</td>\n",
              "      <td>...</td>\n",
              "      <td>...</td>\n",
              "      <td>...</td>\n",
              "      <td>...</td>\n",
              "      <td>...</td>\n",
              "      <td>...</td>\n",
              "      <td>...</td>\n",
              "      <td>...</td>\n",
              "      <td>...</td>\n",
              "      <td>...</td>\n",
              "      <td>...</td>\n",
              "      <td>...</td>\n",
              "      <td>...</td>\n",
              "      <td>...</td>\n",
              "      <td>...</td>\n",
              "    </tr>\n",
              "    <tr>\n",
              "      <th>2472</th>\n",
              "      <td>Zack MacEwen</td>\n",
              "      <td>20-21</td>\n",
              "      <td>VAN</td>\n",
              "      <td>C</td>\n",
              "      <td>34</td>\n",
              "      <td>1039140.0</td>\n",
              "      <td>0.000589</td>\n",
              "      <td>0.000628</td>\n",
              "      <td>0.000572</td>\n",
              "      <td>0.000631</td>\n",
              "      <td>...</td>\n",
              "      <td>-63.027915</td>\n",
              "      <td>-77.393831</td>\n",
              "      <td>-37.330147</td>\n",
              "      <td>-0.000000</td>\n",
              "      <td>0.000000</td>\n",
              "      <td>-9.965080e+06</td>\n",
              "      <td>-8.814274e+06</td>\n",
              "      <td>-5.015825e+06</td>\n",
              "      <td>Active</td>\n",
              "      <td>-0.240045</td>\n",
              "    </tr>\n",
              "    <tr>\n",
              "      <th>2473</th>\n",
              "      <td>Zack MacEwen</td>\n",
              "      <td>21-22</td>\n",
              "      <td>PHI</td>\n",
              "      <td>C</td>\n",
              "      <td>75</td>\n",
              "      <td>2548188.0</td>\n",
              "      <td>0.000475</td>\n",
              "      <td>0.000778</td>\n",
              "      <td>0.000572</td>\n",
              "      <td>0.000864</td>\n",
              "      <td>...</td>\n",
              "      <td>227.670607</td>\n",
              "      <td>-189.785816</td>\n",
              "      <td>503.035894</td>\n",
              "      <td>-0.000000</td>\n",
              "      <td>0.000000</td>\n",
              "      <td>-1.937468e+07</td>\n",
              "      <td>-1.392550e+07</td>\n",
              "      <td>-7.160385e+06</td>\n",
              "      <td>Active</td>\n",
              "      <td>-4.999979</td>\n",
              "    </tr>\n",
              "    <tr>\n",
              "      <th>2474</th>\n",
              "      <td>Zack Smith</td>\n",
              "      <td>19-20</td>\n",
              "      <td>CHI</td>\n",
              "      <td>C</td>\n",
              "      <td>50</td>\n",
              "      <td>1850832.0</td>\n",
              "      <td>0.000417</td>\n",
              "      <td>0.000517</td>\n",
              "      <td>0.000469</td>\n",
              "      <td>0.000733</td>\n",
              "      <td>...</td>\n",
              "      <td>-317.908217</td>\n",
              "      <td>-328.072024</td>\n",
              "      <td>123.734966</td>\n",
              "      <td>-0.000000</td>\n",
              "      <td>57.981808</td>\n",
              "      <td>-1.361673e+07</td>\n",
              "      <td>-7.071927e+06</td>\n",
              "      <td>-7.934615e+06</td>\n",
              "      <td>Active</td>\n",
              "      <td>-2.612353</td>\n",
              "    </tr>\n",
              "    <tr>\n",
              "      <th>2478</th>\n",
              "      <td>Zemgus Girgensons</td>\n",
              "      <td>19-20</td>\n",
              "      <td>BUF</td>\n",
              "      <td>C</td>\n",
              "      <td>69</td>\n",
              "      <td>2827620.0</td>\n",
              "      <td>0.000486</td>\n",
              "      <td>0.000578</td>\n",
              "      <td>0.000539</td>\n",
              "      <td>0.000550</td>\n",
              "      <td>...</td>\n",
              "      <td>-312.887239</td>\n",
              "      <td>-304.851557</td>\n",
              "      <td>-329.360143</td>\n",
              "      <td>-0.000000</td>\n",
              "      <td>-965.854758</td>\n",
              "      <td>5.393759e+06</td>\n",
              "      <td>-1.486114e+07</td>\n",
              "      <td>-9.403298e+06</td>\n",
              "      <td>Active</td>\n",
              "      <td>-0.614153</td>\n",
              "    </tr>\n",
              "    <tr>\n",
              "      <th>2479</th>\n",
              "      <td>Zemgus Girgensons</td>\n",
              "      <td>21-22</td>\n",
              "      <td>BUF</td>\n",
              "      <td>C/L</td>\n",
              "      <td>56</td>\n",
              "      <td>2450232.0</td>\n",
              "      <td>0.000461</td>\n",
              "      <td>0.000611</td>\n",
              "      <td>0.000514</td>\n",
              "      <td>0.000608</td>\n",
              "      <td>...</td>\n",
              "      <td>-189.453378</td>\n",
              "      <td>-325.420377</td>\n",
              "      <td>-142.471927</td>\n",
              "      <td>228.822450</td>\n",
              "      <td>-631.690526</td>\n",
              "      <td>-1.269562e+06</td>\n",
              "      <td>-3.987132e+06</td>\n",
              "      <td>-1.414549e+07</td>\n",
              "      <td>Active</td>\n",
              "      <td>-1.839384</td>\n",
              "    </tr>\n",
              "  </tbody>\n",
              "</table>\n",
              "<p>1604 rows × 29 columns</p>\n",
              "</div>\n",
              "      <button class=\"colab-df-convert\" onclick=\"convertToInteractive('df-9c3864d7-6bc8-4e0c-9e45-29dc6e0f1c24')\"\n",
              "              title=\"Convert this dataframe to an interactive table.\"\n",
              "              style=\"display:none;\">\n",
              "        \n",
              "  <svg xmlns=\"http://www.w3.org/2000/svg\" height=\"24px\"viewBox=\"0 0 24 24\"\n",
              "       width=\"24px\">\n",
              "    <path d=\"M0 0h24v24H0V0z\" fill=\"none\"/>\n",
              "    <path d=\"M18.56 5.44l.94 2.06.94-2.06 2.06-.94-2.06-.94-.94-2.06-.94 2.06-2.06.94zm-11 1L8.5 8.5l.94-2.06 2.06-.94-2.06-.94L8.5 2.5l-.94 2.06-2.06.94zm10 10l.94 2.06.94-2.06 2.06-.94-2.06-.94-.94-2.06-.94 2.06-2.06.94z\"/><path d=\"M17.41 7.96l-1.37-1.37c-.4-.4-.92-.59-1.43-.59-.52 0-1.04.2-1.43.59L10.3 9.45l-7.72 7.72c-.78.78-.78 2.05 0 2.83L4 21.41c.39.39.9.59 1.41.59.51 0 1.02-.2 1.41-.59l7.78-7.78 2.81-2.81c.8-.78.8-2.07 0-2.86zM5.41 20L4 18.59l7.72-7.72 1.47 1.35L5.41 20z\"/>\n",
              "  </svg>\n",
              "      </button>\n",
              "      \n",
              "  <style>\n",
              "    .colab-df-container {\n",
              "      display:flex;\n",
              "      flex-wrap:wrap;\n",
              "      gap: 12px;\n",
              "    }\n",
              "\n",
              "    .colab-df-convert {\n",
              "      background-color: #E8F0FE;\n",
              "      border: none;\n",
              "      border-radius: 50%;\n",
              "      cursor: pointer;\n",
              "      display: none;\n",
              "      fill: #1967D2;\n",
              "      height: 32px;\n",
              "      padding: 0 0 0 0;\n",
              "      width: 32px;\n",
              "    }\n",
              "\n",
              "    .colab-df-convert:hover {\n",
              "      background-color: #E2EBFA;\n",
              "      box-shadow: 0px 1px 2px rgba(60, 64, 67, 0.3), 0px 1px 3px 1px rgba(60, 64, 67, 0.15);\n",
              "      fill: #174EA6;\n",
              "    }\n",
              "\n",
              "    [theme=dark] .colab-df-convert {\n",
              "      background-color: #3B4455;\n",
              "      fill: #D2E3FC;\n",
              "    }\n",
              "\n",
              "    [theme=dark] .colab-df-convert:hover {\n",
              "      background-color: #434B5C;\n",
              "      box-shadow: 0px 1px 3px 1px rgba(0, 0, 0, 0.15);\n",
              "      filter: drop-shadow(0px 1px 2px rgba(0, 0, 0, 0.3));\n",
              "      fill: #FFFFFF;\n",
              "    }\n",
              "  </style>\n",
              "\n",
              "      <script>\n",
              "        const buttonEl =\n",
              "          document.querySelector('#df-9c3864d7-6bc8-4e0c-9e45-29dc6e0f1c24 button.colab-df-convert');\n",
              "        buttonEl.style.display =\n",
              "          google.colab.kernel.accessAllowed ? 'block' : 'none';\n",
              "\n",
              "        async function convertToInteractive(key) {\n",
              "          const element = document.querySelector('#df-9c3864d7-6bc8-4e0c-9e45-29dc6e0f1c24');\n",
              "          const dataTable =\n",
              "            await google.colab.kernel.invokeFunction('convertToInteractive',\n",
              "                                                     [key], {});\n",
              "          if (!dataTable) return;\n",
              "\n",
              "          const docLinkHtml = 'Like what you see? Visit the ' +\n",
              "            '<a target=\"_blank\" href=https://colab.research.google.com/notebooks/data_table.ipynb>data table notebook</a>'\n",
              "            + ' to learn more about interactive tables.';\n",
              "          element.innerHTML = '';\n",
              "          dataTable['output_type'] = 'display_data';\n",
              "          await google.colab.output.renderOutput(dataTable, element);\n",
              "          const docLink = document.createElement('div');\n",
              "          docLink.innerHTML = docLinkHtml;\n",
              "          element.appendChild(docLink);\n",
              "        }\n",
              "      </script>\n",
              "    </div>\n",
              "  </div>\n",
              "  "
            ]
          },
          "metadata": {},
          "execution_count": 38
        }
      ]
    },
    {
      "cell_type": "code",
      "source": [
        "#Put Players on current teams\n",
        "\n",
        "#NHL API info\n",
        "#https://towardsdatascience.com/nhl-analytics-with-python-6390c5d3206d\n",
        "#https://github.com/dword4/nhlapi\n",
        "#https://gitlab.com/dword4/nhlapi\n",
        "\n",
        "#API JSON project example\n",
        "#https://github.com/danmartin25/World_Weather_Analysis/blob/main/WeatherPy.ipynb\n",
        "\n",
        "#Test all\n",
        "#data = requests.get('https://statsapi.web.nhl.com/api/v1/configurations').json()\n",
        "#data\n",
        "\n",
        "#Different options\n",
        "#data = requests.get('https://statsapi.web.nhl.com/api/v1/expands').json()\n",
        "#data\n",
        "\n",
        "#Empty Dictionary to Hold Rosters\n",
        "#active_rosters = []\n",
        "\n",
        "### NOTE: ONLY RUN REQUEST ONCE, THEN COMMENT OUT. INFO WILL STAY IN VARIABLE\n",
        "#json_api_data = requests.get('https://statsapi.web.nhl.com/api/v1/teams?expand=team.roster').json()\n",
        "\n",
        "#Variable where data is stored\n",
        "#json_api_data\n",
        "\n",
        "#Devils Roster (Index 0, change indext to 1, 2, etc for other teams rosters)\n",
        "#json_api_data[\"teams\"][0]\n",
        "\n",
        "#player_name = json_api_data[\"teams\"][0]\n",
        "#player_team = \n",
        "#player_position = #code\n",
        "\n",
        "\n",
        "#active_rosters.append{{\"Player\": player_name,\n",
        "#                       \"Team\": player_team,\n",
        "#                       \"Postion\": player_position}}\n",
        "\n",
        "\n"
      ],
      "metadata": {
        "id": "b2TR_LkAkgl-"
      },
      "execution_count": null,
      "outputs": []
    },
    {
      "cell_type": "code",
      "source": [
        "#Create Roster for each team\n",
        "Avalanche_forwards = forwards_table.loc[(forwards_table.Player==\"Andrew Cogliano\")|(forwards_table.Player==\"J.T. Compher\")|(forwards_table.Player==\"Darren Helm\")|(forwards_table.Player==\"Nazem Kadri\")\n",
        "|(forwards_table.Player==\"Gabriel Landeskog\")|(forwards_table.Player==\"Artturi Lehkonen\")|(forwards_table.Player==\"Nathan MacKinnon\")|(forwards_table.Player==\"Alex Newhook\")|(forwards_table.Player==\"Valeri Nichushkin\")\n",
        "|(forwards_table.Player==\"Logan O'Connor\")|(forwards_table.Player==\"Mikko Rantanen\")|(forwards_table.Player==\"Nico Sturm\")]\n",
        "Avalanche_defense = defense_table.loc[(defense_table.Player==\"Bowen Byram\")|(defense_table.Player==\"Jack Johnson\")\n",
        "|(defense_table.Player==\"Erik Johnson\")|(defense_table.Player==\"Cale Makar\")|(defense_table.Player==\"Josh Manson\")|(defense_table.Player==\"Devon Toews\")]\n",
        "Avalanche_goalie = goalie_stats.loc[(goalie_stats.Player==\"Darcy Kuemper\")]\n",
        "#Avalanche_forwards"
      ],
      "metadata": {
        "id": "gPE81j_k93lM"
      },
      "execution_count": null,
      "outputs": []
    },
    {
      "cell_type": "code",
      "source": [
        "#Create Avalanche roster for 2021-2022\n",
        "forwards_table = Avalanche_forwards.loc[Avalanche_forwards.Season==\"21-22\"]\n",
        "Avalanche_defense_2122 = Avalanche_defense.loc[Avalanche_defense.Season==\"21-22\"]\n",
        "Avalanche_goalies_2122 = Avalanche_goalie.loc[Avalanche_goalie.Season==\"21-22\"]\n",
        "#forwards_table"
      ],
      "metadata": {
        "id": "XY5tfujAfOUM"
      },
      "execution_count": null,
      "outputs": []
    },
    {
      "cell_type": "code",
      "source": [
        "#Create strength of roster for Avalanche\n",
        "Avalanche_Strength_2122 = 0.5 + (defense_table['GF_Impact'].sum()*0.00294) + (Avalanche_forwards_2122['GA_Impact'].sum()*-0.00248) + (Avalanche_forwards_2122['xGF_Impact'].sum()*0.00485) + (Avalanche_forwards_2122['xGA_Impact'].sum()*-0.00439)\n",
        "+ (Avalanche_forwards_2122['xGF_Impact'].sum()*0.00485) + (Avalanche_forwards_2122['PP_Impact'].sum()*0.00361) + (Avalanche_forwards_2122['SH_Impact'].sum()*0.00498) + (Avalanche_forwards_2122['G_Impact'].sum()*0.00749)\n",
        "+ (Avalanche_forwards_2122['A1_Impact'].sum()*0.00771) + (Avalanche_forwards_2122['A2_Impact'].sum()*0.0102) + (defense_table['GF_Impact'].sum()*0.00444) + (Avalanche_defense_2122['GA_Impact'].sum()*-0.00385)\n",
        "+ (Avalanche_defense_2122['xGF_Impact']*0.00736) + (Avalanche_defense_2122['xGA_Impact']*-0.00654) + (Avalanche_defense_2122['PP_Impact']*0.00833) + (Avalanche_defense_2122['SH_Impact']*0.00498)\n",
        "+ (Avalanche_defense_2122['G_Impact'].sum()*0.0132) + (Avalanche_defense_2122['A1_Impact'].sum()*0.00963) + (Avalanche_defense_2122['A2_Impact'].sum()*0.00918) + (Avalanche_goalies_2122['GSAx']*0.00622)\n",
        "Avalanche_Strength_2122"
      ],
      "metadata": {
        "id": "plQ-JfSum4_c",
        "outputId": "0916ccab-a542-4a90-fca3-9713c440844f",
        "colab": {
          "base_uri": "https://localhost:8080/"
        }
      },
      "execution_count": null,
      "outputs": [
        {
          "output_type": "execute_result",
          "data": {
            "text/plain": [
              "41.364297984805496"
            ]
          },
          "metadata": {},
          "execution_count": 40
        }
      ]
    },
    {
      "cell_type": "code",
      "source": [
        "#Create Roster for Lightning\n",
        "Lightning_forwards = forwards_table.loc[(forwards_table.Player==\"Pierre-Edouard Bellemare\")|(forwards_table.Player==\"Anthony Cirelli\")|(forwards_table.Player==\"Ross Colton\")|(forwards_table.Player==\"Brandon Hagel\")\n",
        "|(forwards_table.Player==\"Alex Killorn\")|(forwards_table.Player==\"Nikita Kucherov\")|(forwards_table.Player==\"Patrick Maroon\")|(forwards_table.Player==\"Riley Nash\")|(forwards_table.Player==\"Ondrej Palat\")\n",
        "|(forwards_table.Player==\"Nick Paul\")|(forwards_table.Player==\"Corey Perry\")|(forwards_table.Player==\"Steven Stamkos\")]\n",
        "Lightning_defense = defense_table.loc[(defense_table.Player==\"Zach Bogosian\")|(defense_table.Player==\"Erik Cernak\")\n",
        "|(defense_table.Player==\"Victor Hedman\")|(defense_table.Player==\"Ryan McDonaugh\")|(defense_table.Player==\"Jan Rutta\")|(defense_table.Player==\"Mikhail Sergachev\")]\n",
        "Lightning_goalie = goalie_stats.loc[(goalie_stats.Player==\"Andrei Vasilevskiy\")]\n",
        "#Lightning_forwards"
      ],
      "metadata": {
        "id": "g5MJ2BAOQLMy"
      },
      "execution_count": null,
      "outputs": []
    },
    {
      "cell_type": "code",
      "source": [
        "#Create Lightning roster for 2021-2022\n",
        "Lightning_forwards_2122 = Avalanche_forwards.loc[Avalanche_forwards.Season==\"21-22\"]\n",
        "Lightning_defense_2122 = Avalanche_defense.loc[Avalanche_defense.Season==\"21-22\"]\n",
        "Lightning_goalies_2122 = Avalanche_goalie.loc[Avalanche_goalie.Season==\"21-22\"]\n",
        "#Lightning_forwards_2122"
      ],
      "metadata": {
        "id": "4yZsRGWJR7TO"
      },
      "execution_count": null,
      "outputs": []
    },
    {
      "cell_type": "code",
      "source": [
        "#Create strength of Lightning roster for 2021-2022 season.\n",
        "Lightning_Strength_2122 = 0.5 + (Lightning_forwards_2122['GF_Impact'].sum()*0.00294) + (Lightning_forwards_2122['GA_Impact'].sum()*-0.00248) + (Lightning_forwards_2122['xGF_Impact'].sum()*0.00485) + (Lightning_forwards_2122['xGA_Impact'].sum()*-0.00439)\n",
        "+ (Lightning_forwards_2122['xGF_Impact'].sum()*0.00485) + (Lightning_forwards_2122['PP_Impact'].sum()*0.00361) + (Lightning_forwards_2122['SH_Impact'].sum()*0.00498) + (Lightning_forwards_2122['G_Impact'].sum()*0.00749)\n",
        "+ (Lightning_forwards_2122['A1_Impact'].sum()*0.00771) + (Lightning_forwards_2122['A2_Impact'].sum()*0.0102) + (Lightning_defense_2122['GF_Impact'].sum()*0.00444) + (Lightning_defense_2122['GA_Impact'].sum()*-0.00385)\n",
        "+ (Lightning_defense_2122['xGF_Impact']*0.00736) + (Lightning_defense_2122['xGA_Impact']*-0.00654) + (Lightning_defense_2122['PP_Impact']*0.00833) + (Lightning_defense_2122['SH_Impact']*0.00498)\n",
        "+ (Lightning_defense_2122['G_Impact'].sum()*0.0132) + (Lightning_defense_2122['A1_Impact'].sum()*0.00963) + (Lightning_defense_2122['A2_Impact'].sum()*0.00918) + (Lightning_goalies_2122['GSAx']*0.00622)\n",
        "Lightning_Strength_2122"
      ],
      "metadata": {
        "id": "DMqCAXpPSLtE",
        "outputId": "6944c8b3-7b5f-40ab-a2ac-448eff988899",
        "colab": {
          "base_uri": "https://localhost:8080/"
        }
      },
      "execution_count": null,
      "outputs": [
        {
          "output_type": "execute_result",
          "data": {
            "text/plain": [
              "41.364297984805496"
            ]
          },
          "metadata": {},
          "execution_count": 43
        }
      ]
    },
    {
      "cell_type": "code",
      "source": [
        "#Game Projection for Game 6 of Stanley Cup Final\n",
        "Lightning_Probability = Lightning_Strength_2122/(Lightning_Strength_2122+Avalanche_Strength_2122)\n",
        "Avalanche_Probability = 1-Lightning_Probability\n",
        "Lightning_Odds = ((1/Lightning_Probability)-1)*100\n",
        "Avalanche_Odds = ((1/Avalanche_Probability)-1)*100"
      ],
      "metadata": {
        "id": "mIiw74j6S5H1"
      },
      "execution_count": null,
      "outputs": []
    },
    {
      "cell_type": "code",
      "source": [
        "print(\"Lightning Odds:\", Lightning_Odds)\n",
        "print(\"Avalanche_Odds:\", Avalanche_Odds)\n"
      ],
      "metadata": {
        "id": "eSTjoNKQWGYP",
        "outputId": "3cdabb96-ea06-4e2b-fd2b-58fd5a6ead90",
        "colab": {
          "base_uri": "https://localhost:8080/"
        }
      },
      "execution_count": null,
      "outputs": [
        {
          "output_type": "stream",
          "name": "stdout",
          "text": [
            "Lightning Odds: 100.0\n",
            "Avalanche_Odds: 100.0\n"
          ]
        }
      ]
    },
    {
      "cell_type": "code",
      "source": [
        "defense_table.loc[defense_table.Player==\"Tj Brodie\"]"
      ],
      "metadata": {
        "id": "dZVmlVfQwyIu",
        "outputId": "02674035-709e-4e2b-a555-50f3f3dac309",
        "colab": {
          "base_uri": "https://localhost:8080/",
          "height": 289
        }
      },
      "execution_count": null,
      "outputs": [
        {
          "output_type": "execute_result",
          "data": {
            "text/plain": [
              "         Player Season Team Position  GP_EV     EV_TOI     GF_EV     GA_EV  \\\n",
              "2237  Tj Brodie  19-20  CGY        D     64  4086180.0  0.000778  0.000681   \n",
              "2238  Tj Brodie  20-21  TOR        D     56  3792168.0  0.000856  0.000467   \n",
              "2239  Tj Brodie  21-22  TOR        D     82  5474448.0  0.000800  0.000675   \n",
              "\n",
              "        xGF_EV    xGA_EV  ...   GF_Impact   GA_Impact  xGF_Impact  xGA_Impact  \\\n",
              "2237  0.000731  0.000633  ...  453.048211 -140.715103  306.683772 -172.330651   \n",
              "2238  0.000742  0.000581  ...  715.396534 -941.692860  326.752223 -360.073182   \n",
              "2239  0.000772  0.000628  ...  728.624448 -218.936258  638.980709 -261.293098   \n",
              "\n",
              "       PP_Impact   SH_Impact      G_Impact     A1_Impact     A2_Impact     A/I  \n",
              "2237   45.709909 -286.536765  3.438310e+06 -7.473886e+06  2.244856e+07  Active  \n",
              "2238  250.020742 -156.875450 -9.867783e+06 -6.891076e+06  1.200605e+07  Active  \n",
              "2239   -0.000000  160.227305  4.585123e+06  3.403323e+07  4.250746e+07  Active  \n",
              "\n",
              "[3 rows x 28 columns]"
            ],
            "text/html": [
              "\n",
              "  <div id=\"df-949a1d7f-6299-48b1-a8fb-fb59cba96e84\">\n",
              "    <div class=\"colab-df-container\">\n",
              "      <div>\n",
              "<style scoped>\n",
              "    .dataframe tbody tr th:only-of-type {\n",
              "        vertical-align: middle;\n",
              "    }\n",
              "\n",
              "    .dataframe tbody tr th {\n",
              "        vertical-align: top;\n",
              "    }\n",
              "\n",
              "    .dataframe thead th {\n",
              "        text-align: right;\n",
              "    }\n",
              "</style>\n",
              "<table border=\"1\" class=\"dataframe\">\n",
              "  <thead>\n",
              "    <tr style=\"text-align: right;\">\n",
              "      <th></th>\n",
              "      <th>Player</th>\n",
              "      <th>Season</th>\n",
              "      <th>Team</th>\n",
              "      <th>Position</th>\n",
              "      <th>GP_EV</th>\n",
              "      <th>EV_TOI</th>\n",
              "      <th>GF_EV</th>\n",
              "      <th>GA_EV</th>\n",
              "      <th>xGF_EV</th>\n",
              "      <th>xGA_EV</th>\n",
              "      <th>...</th>\n",
              "      <th>GF_Impact</th>\n",
              "      <th>GA_Impact</th>\n",
              "      <th>xGF_Impact</th>\n",
              "      <th>xGA_Impact</th>\n",
              "      <th>PP_Impact</th>\n",
              "      <th>SH_Impact</th>\n",
              "      <th>G_Impact</th>\n",
              "      <th>A1_Impact</th>\n",
              "      <th>A2_Impact</th>\n",
              "      <th>A/I</th>\n",
              "    </tr>\n",
              "  </thead>\n",
              "  <tbody>\n",
              "    <tr>\n",
              "      <th>2237</th>\n",
              "      <td>Tj Brodie</td>\n",
              "      <td>19-20</td>\n",
              "      <td>CGY</td>\n",
              "      <td>D</td>\n",
              "      <td>64</td>\n",
              "      <td>4086180.0</td>\n",
              "      <td>0.000778</td>\n",
              "      <td>0.000681</td>\n",
              "      <td>0.000731</td>\n",
              "      <td>0.000633</td>\n",
              "      <td>...</td>\n",
              "      <td>453.048211</td>\n",
              "      <td>-140.715103</td>\n",
              "      <td>306.683772</td>\n",
              "      <td>-172.330651</td>\n",
              "      <td>45.709909</td>\n",
              "      <td>-286.536765</td>\n",
              "      <td>3.438310e+06</td>\n",
              "      <td>-7.473886e+06</td>\n",
              "      <td>2.244856e+07</td>\n",
              "      <td>Active</td>\n",
              "    </tr>\n",
              "    <tr>\n",
              "      <th>2238</th>\n",
              "      <td>Tj Brodie</td>\n",
              "      <td>20-21</td>\n",
              "      <td>TOR</td>\n",
              "      <td>D</td>\n",
              "      <td>56</td>\n",
              "      <td>3792168.0</td>\n",
              "      <td>0.000856</td>\n",
              "      <td>0.000467</td>\n",
              "      <td>0.000742</td>\n",
              "      <td>0.000581</td>\n",
              "      <td>...</td>\n",
              "      <td>715.396534</td>\n",
              "      <td>-941.692860</td>\n",
              "      <td>326.752223</td>\n",
              "      <td>-360.073182</td>\n",
              "      <td>250.020742</td>\n",
              "      <td>-156.875450</td>\n",
              "      <td>-9.867783e+06</td>\n",
              "      <td>-6.891076e+06</td>\n",
              "      <td>1.200605e+07</td>\n",
              "      <td>Active</td>\n",
              "    </tr>\n",
              "    <tr>\n",
              "      <th>2239</th>\n",
              "      <td>Tj Brodie</td>\n",
              "      <td>21-22</td>\n",
              "      <td>TOR</td>\n",
              "      <td>D</td>\n",
              "      <td>82</td>\n",
              "      <td>5474448.0</td>\n",
              "      <td>0.000800</td>\n",
              "      <td>0.000675</td>\n",
              "      <td>0.000772</td>\n",
              "      <td>0.000628</td>\n",
              "      <td>...</td>\n",
              "      <td>728.624448</td>\n",
              "      <td>-218.936258</td>\n",
              "      <td>638.980709</td>\n",
              "      <td>-261.293098</td>\n",
              "      <td>-0.000000</td>\n",
              "      <td>160.227305</td>\n",
              "      <td>4.585123e+06</td>\n",
              "      <td>3.403323e+07</td>\n",
              "      <td>4.250746e+07</td>\n",
              "      <td>Active</td>\n",
              "    </tr>\n",
              "  </tbody>\n",
              "</table>\n",
              "<p>3 rows × 28 columns</p>\n",
              "</div>\n",
              "      <button class=\"colab-df-convert\" onclick=\"convertToInteractive('df-949a1d7f-6299-48b1-a8fb-fb59cba96e84')\"\n",
              "              title=\"Convert this dataframe to an interactive table.\"\n",
              "              style=\"display:none;\">\n",
              "        \n",
              "  <svg xmlns=\"http://www.w3.org/2000/svg\" height=\"24px\"viewBox=\"0 0 24 24\"\n",
              "       width=\"24px\">\n",
              "    <path d=\"M0 0h24v24H0V0z\" fill=\"none\"/>\n",
              "    <path d=\"M18.56 5.44l.94 2.06.94-2.06 2.06-.94-2.06-.94-.94-2.06-.94 2.06-2.06.94zm-11 1L8.5 8.5l.94-2.06 2.06-.94-2.06-.94L8.5 2.5l-.94 2.06-2.06.94zm10 10l.94 2.06.94-2.06 2.06-.94-2.06-.94-.94-2.06-.94 2.06-2.06.94z\"/><path d=\"M17.41 7.96l-1.37-1.37c-.4-.4-.92-.59-1.43-.59-.52 0-1.04.2-1.43.59L10.3 9.45l-7.72 7.72c-.78.78-.78 2.05 0 2.83L4 21.41c.39.39.9.59 1.41.59.51 0 1.02-.2 1.41-.59l7.78-7.78 2.81-2.81c.8-.78.8-2.07 0-2.86zM5.41 20L4 18.59l7.72-7.72 1.47 1.35L5.41 20z\"/>\n",
              "  </svg>\n",
              "      </button>\n",
              "      \n",
              "  <style>\n",
              "    .colab-df-container {\n",
              "      display:flex;\n",
              "      flex-wrap:wrap;\n",
              "      gap: 12px;\n",
              "    }\n",
              "\n",
              "    .colab-df-convert {\n",
              "      background-color: #E8F0FE;\n",
              "      border: none;\n",
              "      border-radius: 50%;\n",
              "      cursor: pointer;\n",
              "      display: none;\n",
              "      fill: #1967D2;\n",
              "      height: 32px;\n",
              "      padding: 0 0 0 0;\n",
              "      width: 32px;\n",
              "    }\n",
              "\n",
              "    .colab-df-convert:hover {\n",
              "      background-color: #E2EBFA;\n",
              "      box-shadow: 0px 1px 2px rgba(60, 64, 67, 0.3), 0px 1px 3px 1px rgba(60, 64, 67, 0.15);\n",
              "      fill: #174EA6;\n",
              "    }\n",
              "\n",
              "    [theme=dark] .colab-df-convert {\n",
              "      background-color: #3B4455;\n",
              "      fill: #D2E3FC;\n",
              "    }\n",
              "\n",
              "    [theme=dark] .colab-df-convert:hover {\n",
              "      background-color: #434B5C;\n",
              "      box-shadow: 0px 1px 3px 1px rgba(0, 0, 0, 0.15);\n",
              "      filter: drop-shadow(0px 1px 2px rgba(0, 0, 0, 0.3));\n",
              "      fill: #FFFFFF;\n",
              "    }\n",
              "  </style>\n",
              "\n",
              "      <script>\n",
              "        const buttonEl =\n",
              "          document.querySelector('#df-949a1d7f-6299-48b1-a8fb-fb59cba96e84 button.colab-df-convert');\n",
              "        buttonEl.style.display =\n",
              "          google.colab.kernel.accessAllowed ? 'block' : 'none';\n",
              "\n",
              "        async function convertToInteractive(key) {\n",
              "          const element = document.querySelector('#df-949a1d7f-6299-48b1-a8fb-fb59cba96e84');\n",
              "          const dataTable =\n",
              "            await google.colab.kernel.invokeFunction('convertToInteractive',\n",
              "                                                     [key], {});\n",
              "          if (!dataTable) return;\n",
              "\n",
              "          const docLinkHtml = 'Like what you see? Visit the ' +\n",
              "            '<a target=\"_blank\" href=https://colab.research.google.com/notebooks/data_table.ipynb>data table notebook</a>'\n",
              "            + ' to learn more about interactive tables.';\n",
              "          element.innerHTML = '';\n",
              "          dataTable['output_type'] = 'display_data';\n",
              "          await google.colab.output.renderOutput(dataTable, element);\n",
              "          const docLink = document.createElement('div');\n",
              "          docLink.innerHTML = docLinkHtml;\n",
              "          element.appendChild(docLink);\n",
              "        }\n",
              "      </script>\n",
              "    </div>\n",
              "  </div>\n",
              "  "
            ]
          },
          "metadata": {},
          "execution_count": 46
        }
      ]
    },
    {
      "cell_type": "code",
      "source": [
        "#Make Game projection for Leafs-Capitals from 4/24\n",
        "#Leafs Roster\n",
        "Leafs_forwards = forwards_table.loc[(forwards_table.Player==\"Nicholas Abruzzese\")|(forwards_table.Player==\"Colin Blackwell\")|(forwards_table.Player==\"Kyle Clifford\")|(forwards_table.Player==\"Pierre Engvall\")\n",
        "|(forwards_table.Player==\"David Kampf\")|(forwards_table.Player==\"Alex Kerfoot\")|(forwards_table.Player==\"Mitch Marner\")|(forwards_table.Player==\"Auston Matthews\")|(forwards_table.Player==\"Ilya Mikheyev\")\n",
        "|(forwards_table.Player==\"William Nylander\")|(forwards_table.Player==\"Wayne Simmonds\")|(forwards_table.Player==\"Jason Spezza\")]\n",
        "Leafs_defense = defense_table.loc[(defense_table.Player==\"Tj Brodie\")|(defense_table.Player==\"Carl Dahlstrom\")\n",
        "|(defense_table.Player==\"Mark Giordano\")|(defense_table.Player==\"Justin Holl\")|(defense_table.Player==\"Ilya Lyubushkin\")|(defense_table.Player==\"Morgan Rielly\")]\n",
        "Leafs_goalie = goalie_stats.loc[(goalie_stats.Player==\"Erik Kallgren\")]\n",
        "#Leafs_forwards\n",
        "\n",
        "#Capitals Roster\n",
        "Capitals_forwards = forwards_table.loc[(forwards_table.Player==\"Nicklas Backstrom\")|(forwards_table.Player==\"Nic Dowd\")|(forwards_table.Player==\"Lars Eller\")|(forwards_table.Player==\"Garnet Hathaway\")\n",
        "|(forwards_table.Player==\"Marcus Johansson\")|(forwards_table.Player==\"Evgeny Kuznetsov\")|(forwards_table.Player==\"Johan Larsson\")|(forwards_table.Player==\"Anthony Mantha\")|(forwards_table.Player==\"T.J. Oshie\")\n",
        "|(forwards_table.Player==\"Alex Ovechkin\")|(forwards_table.Player==\"Conor Sheary\")|(forwards_table.Player==\"Tom Wilson\")]\n",
        "Capitals_defense = defense_table.loc[(defense_table.Player==\"John Carlson\")|(defense_table.Player==\"Martin Fehervary\")\n",
        "|(defense_table.Player==\"Nick Jensen\")|(defense_table.Player==\"Dmitry Orlov\")|(defense_table.Player==\"Justin Schultz\")|(defense_table.Player==\"Trevor Van Riemsdyk\")]\n",
        "Capitals_goalie = goalie_stats.loc[(goalie_stats.Player==\"Vitek Vanecek\")]\n",
        "#Capitals_forwards"
      ],
      "metadata": {
        "id": "0R_yBsUcvKa0"
      },
      "execution_count": null,
      "outputs": []
    },
    {
      "cell_type": "code",
      "source": [
        "#Create Leafs roster for 2021-2022\n",
        "Leafs_forwards_2122 = Leafs_forwards.loc[Leafs_forwards.Season==\"21-22\"]\n",
        "Leafs_defense_2122 = Leafs_defense.loc[Leafs_defense.Season==\"21-22\"]\n",
        "Leafs_goalies_2122 = Leafs_goalie.loc[Leafs_goalie.Season==\"21-22\"]\n",
        "#Leafs_forwards_2122\n",
        "\n",
        "#Create Capitals roster for 2021-2022\n",
        "Capitals_forwards_2122 = Capitals_forwards.loc[Capitals_forwards.Season==\"21-22\"]\n",
        "Capitals_defense_2122 = Capitals_defense.loc[Capitals_defense.Season==\"21-22\"]\n",
        "Capitals_goalies_2122 = Capitals_goalie.loc[Capitals_goalie.Season==\"21-22\"]\n",
        "#Capitals_forwards_2122"
      ],
      "metadata": {
        "id": "DDwy_fdxz_Kd"
      },
      "execution_count": null,
      "outputs": []
    },
    {
      "cell_type": "code",
      "source": [
        "#Create strength of roster for Leafs\n",
        "Leafs_Strength_2122 = 0.5 + (Leafs_forwards_2122['GF_Impact'].sum()*0.00294) + (Leafs_forwards_2122['GA_Impact'].sum()*-0.00248) + (Leafs_forwards_2122['xGF_Impact'].sum()*0.00485) + (Leafs_forwards_2122['xGA_Impact'].sum()*-0.00439)\n",
        "+ (Leafs_forwards_2122['xGF_Impact'].sum()*0.00485) + (Leafs_forwards_2122['PP_Impact'].sum()*0.00361) + (Leafs_forwards_2122['SH_Impact'].sum()*0.00498) + (Leafs_forwards_2122['G_Impact'].sum()*0.00749)\n",
        "+ (Leafs_forwards_2122['A1_Impact'].sum()*0.00771) + (Leafs_forwards_2122['A2_Impact'].sum()*0.0102) + (Leafs_defense_2122['GF_Impact'].sum()*0.00444) + (Leafs_defense_2122['GA_Impact'].sum()*-0.00385)\n",
        "+ (Leafs_defense_2122['xGF_Impact']*0.00736) + (Leafs_defense_2122['xGA_Impact']*-0.00654) + (Leafs_defense_2122['PP_Impact']*0.00833) + (Leafs_defense_2122['SH_Impact']*0.00498)\n",
        "+ (Leafs_defense_2122['G_Impact'].sum()*0.0132) + (Leafs_defense_2122['A1_Impact'].sum()*0.00963) + (Leafs_defense_2122['A2_Impact'].sum()*0.00918) + (Leafs_goalies_2122['GSAx']*0.00622)\n",
        "#Leafs_Strength_2122\n",
        "\n",
        "#Create strength of roster for Capitals\n",
        "Capitals_Strength_2122 = 0.5 + (Capitals_forwards_2122['GF_Impact'].sum()*0.00294) + (Capitals_forwards_2122['GA_Impact'].sum()*-0.00248) + (Capitals_forwards_2122['xGF_Impact'].sum()*0.00485) + (Capitals_forwards_2122['xGA_Impact'].sum()*-0.00439)\n",
        "+ (Capitals_forwards_2122['xGF_Impact'].sum()*0.00485) + (Capitals_forwards_2122['PP_Impact'].sum()*0.00361) + (Capitals_forwards_2122['SH_Impact'].sum()*0.00498) + (Capitals_forwards_2122['G_Impact'].sum()*0.00749)\n",
        "+ (Capitals_forwards_2122['A1_Impact'].sum()*0.00771) + (Capitals_forwards_2122['A2_Impact'].sum()*0.0102) + (Capitals_defense_2122['GF_Impact'].sum()*0.00444) + (Capitals_defense_2122['GA_Impact'].sum()*-0.00385)\n",
        "+ (Capitals_defense_2122['xGF_Impact']*0.00736) + (Capitals_defense_2122['xGA_Impact']*-0.00654) + (Capitals_defense_2122['PP_Impact']*0.00833) + (Capitals_defense_2122['SH_Impact']*0.00498)\n",
        "+ (Capitals_defense_2122['G_Impact'].sum()*0.0132) + (Capitals_defense_2122['A1_Impact'].sum()*0.00963) + (Capitals_defense_2122['A2_Impact'].sum()*0.00918) + (Capitals_goalies_2122['GSAx']*0.00622)\n",
        "#Capitals_Strength_2122"
      ],
      "metadata": {
        "id": "WB-bFACL0OtP",
        "outputId": "0d7cb942-49ae-4eb4-847d-1b1095361ce9",
        "colab": {
          "base_uri": "https://localhost:8080/"
        }
      },
      "execution_count": null,
      "outputs": [
        {
          "output_type": "execute_result",
          "data": {
            "text/plain": [
              "280    6.054376e+06\n",
              "Name: GSAx, dtype: float64"
            ]
          },
          "metadata": {},
          "execution_count": 49
        }
      ]
    },
    {
      "cell_type": "code",
      "source": [
        "#Game Projection for Leafs-Capitals on 4/24\n",
        "Leafs_Probability = Leafs_Strength_2122/(Leafs_Strength_2122+Capitals_Strength_2122)\n",
        "Capitals_Probability = 1-Leafs_Probability\n",
        "\n",
        "#Leafs Odds\n",
        "if (1/Leafs_Probability) >= 2:\n",
        "  Leafs_Odds = ((1/Leafs_Probability)-1)*100\n",
        "elif (1/Leafs_Probability) <2:\n",
        "  Leafs_Odds = (-100/((1/Leafs_Probability)-1))\n",
        "\n",
        "if (1/Capitals_Probability) >= 2:\n",
        "  Capitals_Odds = ((1/Capitals_Probability)-1)*100\n",
        "elif (1/Capitals_Probability) <2:\n",
        "  Capitals_Odds = -100/((1/Capitals_Probability)-1)"
      ],
      "metadata": {
        "id": "nFGc8u2QAAjd"
      },
      "execution_count": null,
      "outputs": []
    },
    {
      "cell_type": "code",
      "source": [
        "print(round(Leafs_Odds), \"Leafs Odds\", '|', \"Capitals_Odds\", round(Capitals_Odds))\n",
        "print(\"Leafs_Odds:\", round(Leafs_Odds))\n",
        "print(\"Capitals_Odds:\", round(Capitals_Odds))"
      ],
      "metadata": {
        "id": "MACLCksa1FLv",
        "outputId": "8d4d33ee-18c9-4590-baa4-17fa47374987",
        "colab": {
          "base_uri": "https://localhost:8080/"
        }
      },
      "execution_count": null,
      "outputs": [
        {
          "output_type": "stream",
          "name": "stdout",
          "text": [
            "-335 Leafs Odds | Capitals_Odds 335\n",
            "Leafs_Odds: -335\n",
            "Capitals_Odds: 335\n"
          ]
        }
      ]
    },
    {
      "cell_type": "code",
      "source": [
        "#Create odds for Sharks-Predators on 10/7\n",
        "#Predators Roster\n",
        "Predators_forwards = forwards_table.loc[(forwards_table.Player==\"Filip Forsberg\")|(forwards_table.Player==\"Mikael Granlund\")|(forwards_table.Player==\"Matt Duchene\")\n",
        "|(forwards_table.Player==\"Nino Niederreiter\")|(forwards_table.Player==\"Ryan Johansen\")|(forwards_table.Player==\"Kiefer Sherwood\")\n",
        "|(forwards_table.Player==\"Yakov Trenin\")|(forwards_table.Player==\"Colton Sissons\")|(forwards_table.Player==\"Tanner Jeannot\")\n",
        "|(forwards_table.Player==\"Cole Smith\")|(forwards_table.Player==\"Cody Glass\")|(forwards_table.Player==\"Eeli Tolvanen\")]\n",
        "Predators_defense = defense_table.loc[(defense_table.Player==\"Roman Josi\")|(defense_table.Player==\"Alexandre Carrier\")\n",
        "|(defense_table.Player==\"Ryan McDonaugh\")|(defense_table.Player==\"Mattias Ekholm\")\n",
        "|(defense_table.Player==\"Jeremy Lauzon\")|(defense_table.Player==\"Dante Fabro\")]\n",
        "Predators_goalie = goalie_stats.loc[(goalie_stats.Player==\"Juuse Saros\")]\n",
        "#Predators_forwards\n",
        "\n",
        "#Sharks Roster\n",
        "Sharks_forwards = forwards_table.loc[(forwards_table.Player==\"Timo Meier\")|(forwards_table.Player==\"Tomas Hertl\")|(forwards_table.Player==\"Luke Kunin\")\n",
        "|(forwards_table.Player==\"Oskar Lindblom\")|(forwards_table.Player==\"Logan Couture\")|(forwards_table.Player==\"Kevin Labanc\")\n",
        "|(forwards_table.Player==\"Noah Gregor\")|(forwards_table.Player==\"Nick Bonino\")|(forwards_table.Player==\"Matthew Nieto\")\n",
        "|(forwards_table.Player==\"Steven Lorentz\")|(forwards_table.Player==\"Nico Sturm\")|(forwards_table.Player==\"Jonah Gadjovich\")]\n",
        "Sharks_defense = defense_table.loc[(defense_table.Player==\"Scott Harrington\")|(defense_table.Player==\"Erik Karlsson\")\n",
        "|(defense_table.Player==\"Marc-Edouard Vlasic\")|(defense_table.Player==\"Mario Ferraro\")\n",
        "|(defense_table.Player==\"Radim Simek\")|(defense_table.Player==\"Matt Benning\")]\n",
        "Sharks_goalie = goalie_stats.loc[(goalie_stats.Player==\"James Reimer\")]\n",
        "#Sharks_forwards"
      ],
      "metadata": {
        "id": "-d6Ce4EjYdQk"
      },
      "execution_count": null,
      "outputs": []
    },
    {
      "cell_type": "code",
      "source": [
        "#Create Predators roster for 2022-2023\n",
        "Predators_forwards_1920 = Predators_forwards.loc[Predators_forwards.Season==\"19-20\"]\n",
        "Predators_defense_1920 = Predators_defense.loc[Predators_defense.Season==\"19-20\"]\n",
        "Predators_goalies_1920 = Predators_goalie.loc[Predators_goalie.Season==\"19-20\"]\n",
        "Predators_forwards_2021 = Predators_forwards.loc[Predators_forwards.Season==\"20-21\"]\n",
        "Predators_defense_2021 = Predators_defense.loc[Predators_defense.Season==\"20-21\"]\n",
        "Predators_goalies_2021 = Predators_goalie.loc[Predators_goalie.Season==\"20-21\"]\n",
        "Predators_forwards_2122 = Predators_forwards.loc[Predators_forwards.Season==\"21-22\"]\n",
        "Predators_defense_2122 = Predators_defense.loc[Predators_defense.Season==\"21-22\"]\n",
        "Predators_goalies_2122 = Predators_goalie.loc[Predators_goalie.Season==\"21-22\"]\n",
        "#Predators_forwards_2122\n",
        "\n",
        "#Create Sharks roster for 2022-2023\n",
        "Sharks_forwards_1920 = Sharks_forwards.loc[Sharks_forwards.Season==\"19-20\"]\n",
        "Sharks_defense_1920 = Sharks_defense.loc[Sharks_defense.Season==\"19-20\"]\n",
        "Sharks_goalies_1920 = Sharks_goalie.loc[Sharks_goalie.Season==\"19-20\"]\n",
        "Sharks_forwards_2021 = Sharks_forwards.loc[Sharks_forwards.Season==\"20-21\"]\n",
        "Sharks_defense_2021 = Sharks_defense.loc[Sharks_defense.Season==\"20-21\"]\n",
        "Sharks_goalies_2021 = Sharks_goalie.loc[Sharks_goalie.Season==\"20-21\"]\n",
        "Sharks_forwards_2122 = Sharks_forwards.loc[Sharks_forwards.Season==\"21-22\"]\n",
        "Sharks_defense_2122 = Sharks_defense.loc[Sharks_defense.Season==\"21-22\"]\n",
        "Sharks_goalies_2122 = Sharks_goalie.loc[Sharks_goalie.Season==\"21-22\"]\n",
        "#Sharks_forwards_2122"
      ],
      "metadata": {
        "id": "FJJj-xzMevlt"
      },
      "execution_count": null,
      "outputs": []
    },
    {
      "cell_type": "code",
      "source": [
        "#Create strength of roster for Predators\n",
        "Predators_Strength_1920 = 0.5 + (Predators_forwards_1920['GF_Impact'].sum()*0.00294) + (Predators_forwards_1920['GA_Impact'].sum()*-0.00248) + (Predators_forwards_1920['xGF_Impact'].sum()*0.00485) + (Predators_forwards_1920['xGA_Impact'].sum()*-0.00439)\n",
        "+ (Predators_forwards_1920['xGF_Impact'].sum()*0.00485) + (Predators_forwards_1920['PP_Impact'].sum()*0.00361) + (Predators_forwards_1920['SH_Impact'].sum()*0.00498) + (Predators_forwards_1920['G_Impact'].sum()*0.00749)\n",
        "+ (Predators_forwards_1920['A1_Impact'].sum()*0.00771) + (Predators_forwards_1920['A2_Impact'].sum()*0.0102) + (Predators_defense_1920['GF_Impact'].sum()*0.00444) + (Predators_defense_1920['GA_Impact'].sum()*-0.00385)\n",
        "+ (Predators_defense_1920['xGF_Impact']*0.00736) + (Predators_defense_1920['xGA_Impact']*-0.00654) + (Predators_defense_1920['PP_Impact']*0.00833) + (Predators_defense_1920['SH_Impact']*0.00498)\n",
        "+ (Predators_defense_1920['G_Impact'].sum()*0.0132) + (Predators_defense_1920['A1_Impact'].sum()*0.00963) + (Predators_defense_1920['A2_Impact'].sum()*0.00918) + (Predators_goalies_1920['GSAx']*0.00622)\n",
        "Predators_Strength_2021 = 0.5 + (Predators_forwards_2021['GF_Impact'].sum()*0.00294) + (Predators_forwards_2021['GA_Impact'].sum()*-0.00248) + (Predators_forwards_2021['xGF_Impact'].sum()*0.00485) + (Predators_forwards_2021['xGA_Impact'].sum()*-0.00439)\n",
        "+ (Predators_forwards_2021['xGF_Impact'].sum()*0.00485) + (Predators_forwards_2021['PP_Impact'].sum()*0.00361) + (Predators_forwards_2021['SH_Impact'].sum()*0.00498) + (Predators_forwards_2021['G_Impact'].sum()*0.00749)\n",
        "+ (Predators_forwards_2021['A1_Impact'].sum()*0.00771) + (Predators_forwards_2021['A2_Impact'].sum()*0.0102) + (Predators_defense_2021['GF_Impact'].sum()*0.00444) + (Predators_defense_2021['GA_Impact'].sum()*-0.00385)\n",
        "+ (Predators_defense_2021['xGF_Impact']*0.00736) + (Predators_defense_2021['xGA_Impact']*-0.00654) + (Predators_defense_2021['PP_Impact']*0.00833) + (Predators_defense_2021['SH_Impact']*0.00498)\n",
        "+ (Predators_defense_2021['G_Impact'].sum()*0.0132) + (Predators_defense_2021['A1_Impact'].sum()*0.00963) + (Predators_defense_2021['A2_Impact'].sum()*0.00918) + (Predators_goalies_2021['GSAx']*0.00622)\n",
        "Predators_Strength_2122 = 0.5 + (Predators_forwards_2122['GF_Impact'].sum()*0.00294) + (Predators_forwards_2122['GA_Impact'].sum()*-0.00248) + (Predators_forwards_2122['xGF_Impact'].sum()*0.00485) + (Predators_forwards_2122['xGA_Impact'].sum()*-0.00439)\n",
        "+ (Predators_forwards_2122['xGF_Impact'].sum()*0.00485) + (Predators_forwards_2122['PP_Impact'].sum()*0.00361) + (Predators_forwards_2122['SH_Impact'].sum()*0.00498) + (Predators_forwards_2122['G_Impact'].sum()*0.00749)\n",
        "+ (Predators_forwards_2122['A1_Impact'].sum()*0.00771) + (Predators_forwards_2122['A2_Impact'].sum()*0.0102) + (Predators_defense_2122['GF_Impact'].sum()*0.00444) + (Predators_defense_2122['GA_Impact'].sum()*-0.00385)\n",
        "+ (Predators_defense_2122['xGF_Impact']*0.00736) + (Predators_defense_2122['xGA_Impact']*-0.00654) + (Predators_defense_2122['PP_Impact']*0.00833) + (Predators_defense_2122['SH_Impact']*0.00498)\n",
        "+ (Predators_defense_2122['G_Impact'].sum()*0.0132) + (Predators_defense_2122['A1_Impact'].sum()*0.00963) + (Predators_defense_2122['A2_Impact'].sum()*0.00918) + (Predators_goalies_2122['GSAx']*0.00622)\n",
        "Predators_Strength_2223 = Predators_Str\n",
        "\n",
        "#Create strength of roster for Sharks\n",
        "Sharks_Strength_1920 = 0.5 + (Sharks_forwards_1920['GF_Impact'].sum()*0.00294) + (Sharks_forwards_1920['GA_Impact'].sum()*-0.00248) + (Sharks_forwards_1920['xGF_Impact'].sum()*0.00485) + (Sharks_forwards_1920['xGA_Impact'].sum()*-0.00439)\n",
        "+ (Sharks_forwards_1920['xGF_Impact'].sum()*0.00485) + (Sharks_forwards_1920['PP_Impact'].sum()*0.00361) + (Sharks_forwards_1920['SH_Impact'].sum()*0.00498) + (Sharks_forwards_1920['G_Impact'].sum()*0.00749)\n",
        "+ (Sharks_forwards_1920['A1_Impact'].sum()*0.00771) + (Sharks_forwards_1920['A2_Impact'].sum()*0.0102) + (Sharks_defense_1920['GF_Impact'].sum()*0.00444) + (Sharks_defense_1920['GA_Impact'].sum()*-0.00385)\n",
        "+ (Sharks_defense_1920['xGF_Impact']*0.00736) + (Sharks_defense_1920['xGA_Impact']*-0.00654) + (Sharks_defense_1920['PP_Impact']*0.00833) + (Sharks_defense_1920['SH_Impact']*0.00498)\n",
        "+ (Sharks_defense_1920['G_Impact'].sum()*0.0132) + (Sharks_defense_1920['A1_Impact'].sum()*0.00963) + (Sharks_defense_1920['A2_Impact'].sum()*0.00918) + (Sharks_goalies_1920['GSAx']*0.00622)\n",
        "Sharks_Strength_2021 = 0.5 + (Sharks_forwards_2021['GF_Impact'].sum()*0.00294) + (Sharks_forwards_2021['GA_Impact'].sum()*-0.00248) + (Sharks_forwards_2021['xGF_Impact'].sum()*0.00485) + (Sharks_forwards_2021['xGA_Impact'].sum()*-0.00439)\n",
        "+ (Sharks_forwards_2021['xGF_Impact'].sum()*0.00485) + (Sharks_forwards_2021['PP_Impact'].sum()*0.00361) + (Sharks_forwards_2021['SH_Impact'].sum()*0.00498) + (Sharks_forwards_2021['G_Impact'].sum()*0.00749)\n",
        "+ (Sharks_forwards_2021['A1_Impact'].sum()*0.00771) + (Sharks_forwards_2021['A2_Impact'].sum()*0.0102) + (Sharks_defense_2021['GF_Impact'].sum()*0.00444) + (Sharks_defense_2021['GA_Impact'].sum()*-0.00385)\n",
        "+ (Sharks_defense_2021['xGF_Impact']*0.00736) + (Sharks_defense_2021['xGA_Impact']*-0.00654) + (Sharks_defense_2021['PP_Impact']*0.00833) + (Sharks_defense_2021['SH_Impact']*0.00498)\n",
        "+ (Sharks_defense_2021['G_Impact'].sum()*0.0132) + (Sharks_defense_2021['A1_Impact'].sum()*0.00963) + (Sharks_defense_2021['A2_Impact'].sum()*0.00918) + (Sharks_goalies_2021['GSAx']*0.00622)\n",
        "Sharks_Strength_2122 = 0.5 + (Sharks_forwards_2122['GF_Impact'].sum()*0.00294) + (Sharks_forwards_2122['GA_Impact'].sum()*-0.00248) + (Sharks_forwards_2122['xGF_Impact'].sum()*0.00485) + (Sharks_forwards_2122['xGA_Impact'].sum()*-0.00439)\n",
        "+ (Sharks_forwards_2122['xGF_Impact'].sum()*0.00485) + (Sharks_forwards_2122['PP_Impact'].sum()*0.00361) + (Sharks_forwards_2122['SH_Impact'].sum()*0.00498) + (Sharks_forwards_2122['G_Impact'].sum()*0.00749)\n",
        "+ (Sharks_forwards_2122['A1_Impact'].sum()*0.00771) + (Sharks_forwards_2122['A2_Impact'].sum()*0.0102) + (Sharks_defense_2122['GF_Impact'].sum()*0.00444) + (Sharks_defense_2122['GA_Impact'].sum()*-0.00385)\n",
        "+ (Sharks_defense_2122['xGF_Impact']*0.00736) + (Sharks_defense_2122['xGA_Impact']*-0.00654) + (Sharks_defense_2122['PP_Impact']*0.00833) + (Sharks_defense_2122['SH_Impact']*0.00498)\n",
        "+ (Sharks_defense_2122['G_Impact'].sum()*0.0132) + (Sharks_defense_2122['A1_Impact'].sum()*0.00963) + (Sharks_defense_2122['A2_Impact'].sum()*0.00918) + (Sharks_goalies_2122['GSAx']*0.00622)\n",
        "#Sharks_Strength_2122"
      ],
      "metadata": {
        "id": "VP0eCS4ld-UW",
        "outputId": "11f2954a-eca0-4ef7-b433-8efc68230794",
        "colab": {
          "base_uri": "https://localhost:8080/"
        }
      },
      "execution_count": null,
      "outputs": [
        {
          "output_type": "execute_result",
          "data": {
            "text/plain": [
              "143    298134.003799\n",
              "Name: GSAx, dtype: float64"
            ]
          },
          "metadata": {},
          "execution_count": 54
        }
      ]
    },
    {
      "cell_type": "code",
      "source": [
        "#Game Projection for Sharks-Predators on 10/7\n",
        "Predators_Probability = Predators_Strength_2122/(Predators_Strength_2122+Sharks_Strength_2122)\n",
        "Sharks_Probability = 1-Predators_Probability\n",
        "\n",
        "#Leafs Odds\n",
        "if (1/Predators_Probability) >= 2:\n",
        "  Predators_Odds = ((1/Predators_Probability)-1)*100\n",
        "elif (1/Predators_Probability) <2:\n",
        "  Predators_Odds = (-100/((1/Predators_Probability)-1))\n",
        "\n",
        "if (1/Sharks_Probability) >= 2:\n",
        "  Sharks_Odds = ((1/Sharks_Probability)-1)*100\n",
        "elif (1/Sharks_Probability) <2:\n",
        "  Sharks_Odds = -100/((1/Sharks_Probability)-1)"
      ],
      "metadata": {
        "id": "zt1IDzPHdOUg"
      },
      "execution_count": null,
      "outputs": []
    },
    {
      "cell_type": "code",
      "source": [
        "Sharks_Probability"
      ],
      "metadata": {
        "id": "PF4AOwrVgfn0",
        "outputId": "d0cbd5a7-97f0-47b9-c203-13911f481ae2",
        "colab": {
          "base_uri": "https://localhost:8080/"
        }
      },
      "execution_count": null,
      "outputs": [
        {
          "output_type": "execute_result",
          "data": {
            "text/plain": [
              "-0.5087662451485249"
            ]
          },
          "metadata": {},
          "execution_count": 60
        }
      ]
    },
    {
      "cell_type": "code",
      "source": [
        "print(\"Predators_Odds:\", round(Predators_Odds))\n",
        "print(\"Sharks_Odds:\", round(Sharks_Odds))"
      ],
      "metadata": {
        "id": "5O04Nz-gec-g",
        "outputId": "75b44347-27be-42bc-dae9-f6b9b2b8bbc8",
        "colab": {
          "base_uri": "https://localhost:8080/"
        }
      },
      "execution_count": null,
      "outputs": [
        {
          "output_type": "stream",
          "name": "stdout",
          "text": [
            "Predators_Odds: 297\n",
            "Sharks_Odds: 34\n"
          ]
        }
      ]
    },
    {
      "cell_type": "markdown",
      "source": [
        "1. Add adjustment for Home and Away.\n",
        "2. Adjust for recency of players.\n",
        "3. Clean up code blocks and refine inputing the data.\n",
        "4. Bring in team logos for odds and probabilities.\n",
        "5. Bring the 3 Weighted Seasons in for the start of the 2022-2023 Season."
      ],
      "metadata": {
        "id": "w0HgwQkS567w"
      }
    },
    {
      "cell_type": "code",
      "source": [
        "#Make a Data Table for skaters on each team\n",
        "Avalanche_skaters = skater_stats.loc[(skater_stats.Team == 'COL')]\n",
        "Blackhawks_skaters = skater_stats.loc[(skater_stats.Team == 'CHI')]\n",
        "Blue_Jackets_skaters = skater_stats.loc[(skater_stats.Team == 'CBJ')]\n",
        "Blues_skaters = skater_stats.loc[(skater_stats.Team == 'STL')]\n",
        "Bruins_skaters = skater_stats.loc[(skater_stats.Team == 'BOS')]\n",
        "Canadiens_skaters = skater_stats.loc[(skater_stats.Team == 'MTL')]\n",
        "Canucks_skaters = skater_stats.loc[(skater_stats.Team == 'VAN')]\n",
        "Capitals_skaters = skater_stats.loc[(skater_stats.Team == 'WSH')]\n",
        "Coyotes_skaters = skater_stats.loc[(skater_stats.Team == 'ARI')]\n",
        "Devils_skaters = skater_stats.loc[(skater_stats.Team == 'N.J')]\n",
        "Ducks_skaters = skater_stats.loc[(skater_stats.Team == 'ANA')]\n",
        "Flames_skaters = skater_stats.loc[(skater_stats.Team == 'CGY')]\n",
        "Flyers_skaters = skater_stats.loc[(skater_stats.Team == 'PHI')]\n",
        "Hurricanes_skaters = skater_stats.loc[(skater_stats.Team == 'CAR')]\n",
        "Islanders_skaters = skater_stats.loc[(skater_stats.Team == 'NYI')]\n",
        "Jets_skaters = skater_stats.loc[(skater_stats.Team == 'WPG')]\n",
        "Kings_skaters = skater_stats.loc[(skater_stats.Team == 'L.A')]\n",
        "Knights_skaters = skater_stats.loc[(skater_stats.Team == 'VGK')]\n",
        "Kraken_skaters = skater_stats.loc[(skater_stats.Team == 'SEA')]\n",
        "Leafs_skaters = skater_stats.loc[(skater_stats.Team == 'TOR')]\n",
        "Lightning_skaters = skater_stats.loc[(skater_stats.Team == 'T.B')]\n",
        "Oilers_skaters = skater_stats.loc[(skater_stats.Team == 'EDM')]\n",
        "Panthers_skaters = skater_stats.loc[(skater_stats.Team == 'FLA')]\n",
        "Penguins_skaters = skater_stats.loc[(skater_stats.Team == 'PIT')]\n",
        "Predators_skaters = skater_stats.loc[(skater_stats.Team == 'NSH')]\n",
        "Rangers_skaters = skater_stats.loc[(skater_stats.Team == 'NYR')]\n",
        "Red_Wings_skaters = skater_stats.loc[(skater_stats.Team == 'DET')]\n",
        "Sabres_skaters = skater_stats.loc[(skater_stats.Team == 'BUF')]\n",
        "Senators_skaters = skater_stats.loc[(skater_stats.Team == 'OTT')]\n",
        "Sharks_skaters = skater_stats.loc[(skater_stats.Team == 'S.J')]\n",
        "Stars_skaters = skater_stats.loc[(skater_stats.Team == 'DAL')]\n",
        "Wild_skaters = skater_stats.loc[(skater_stats.Team == 'MIN')]"
      ],
      "metadata": {
        "id": "an8AclsZYCyS"
      },
      "execution_count": null,
      "outputs": []
    },
    {
      "cell_type": "code",
      "source": [
        "#Make a Data for each team of goalies\n",
        "Avalanche_goalie = goalie_stats.loc[(goalie_stats.Team == 'COL')]\n",
        "Blackhawks_goalie = goalie_stats.loc[(goalie_stats.Team == 'CHI')]\n",
        "Blue_Jackets_goalie = goalie_stats.loc[(goalie_stats.Team == 'CBJ')]\n",
        "Blues_goalie = goalie_stats.loc[(goalie_stats.Team == 'STL')]\n",
        "Bruins_goalie = goalie_stats.loc[(goalie_stats.Team == 'BOS')]\n",
        "Canadiens_goalie = goalie_stats.loc[(goalie_stats.Team == 'MTL')]\n",
        "Canucks_goalie = goalie_stats.loc[(goalie_stats.Team == 'VAN')]\n",
        "Capitals_goalie = goalie_stats.loc[(goalie_stats.Team == 'WSH')]\n",
        "Coyotes_goalie = goalie_stats.loc[(goalie_stats.Team == 'ARI')]\n",
        "Devils_goalie = goalie_stats.loc[(goalie_stats.Team == 'N.J')]\n",
        "Ducks_goalie = goalie_stats.loc[(goalie_stats.Team == 'ANA')]\n",
        "Flames_goalie = goalie_stats.loc[(goalie_stats.Team == 'CGY')]\n",
        "Flyers_goalie = goalie_stats.loc[(goalie_stats.Team == 'PHI')]\n",
        "Hurricanes_goalie = goalie_stats.loc[(goalie_stats.Team == 'CAR')]\n",
        "Islanders_goalie = goalie_stats.loc[(goalie_stats.Team == 'NYI')]\n",
        "Jets_goalie = goalie_stats.loc[(goalie_stats.Team == 'WPG')]\n",
        "Kings_goalie = goalie_stats.loc[(goalie_stats.Team == 'L.A')]\n",
        "Knights_goalie = goalie_stats.loc[(goalie_stats.Team == 'VGK')]\n",
        "Kraken_goalie = goalie_stats.loc[(goalie_stats.Team == 'SEA')]\n",
        "Leafs_goalie = goalie_stats.loc[(goalie_stats.Team == 'TOR')]\n",
        "Lightning_goalie = goalie_stats.loc[(goalie_stats.Team == 'T.B')]\n",
        "Oilers_goalie = goalie_stats.loc[(goalie_stats.Team == 'EDM')]\n",
        "Panthers_goalie = goalie_stats.loc[(goalie_stats.Team == 'FLA')]\n",
        "Penguins_goalie = goalie_stats.loc[(goalie_stats.Team == 'PIT')]\n",
        "Predators_goalie = goalie_stats.loc[(goalie_stats.Team == 'NSH')]\n",
        "Rangers_goalie = goalie_stats.loc[(goalie_stats.Team == 'NYR')]\n",
        "Red_Wings_goalie = goalie_stats.loc[(goalie_stats.Team == 'DET')]\n",
        "Sabres_goalie = goalie_stats.loc[(goalie_stats.Team == 'BUF')]\n",
        "Senators_goalie = goalie_stats.loc[(goalie_stats.Team == 'OTT')]\n",
        "Sharks_goalie = goalie_stats.loc[(goalie_stats.Team == 'S.J')]\n",
        "Stars_goalie = goalie_stats.loc[(goalie_stats.Team == 'DAL')]\n",
        "Wild_goalie = goalie_stats.loc[(goalie_stats.Team == 'MIN')]"
      ],
      "metadata": {
        "id": "KEoAqA9oI1BT"
      },
      "execution_count": null,
      "outputs": []
    }
  ]
}